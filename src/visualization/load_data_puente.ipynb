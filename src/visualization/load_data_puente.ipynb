{
 "cells": [
  {
   "cell_type": "code",
   "execution_count": 1,
   "metadata": {},
   "outputs": [
    {
     "ename": "NameError",
     "evalue": "name '__file__' is not defined",
     "output_type": "error",
     "traceback": [
      "\u001b[1;31m---------------------------------------------------------------------------\u001b[0m",
      "\u001b[1;31mNameError\u001b[0m                                 Traceback (most recent call last)",
      "Cell \u001b[1;32mIn[1], line 6\u001b[0m\n\u001b[0;32m      3\u001b[0m \u001b[38;5;28;01mimport\u001b[39;00m \u001b[38;5;21;01mgzip\u001b[39;00m\n\u001b[0;32m      5\u001b[0m \u001b[38;5;66;03m# Obtener la ruta base del proyecto\u001b[39;00m\n\u001b[1;32m----> 6\u001b[0m BASE_DIR \u001b[38;5;241m=\u001b[39m Path(\u001b[38;5;18m__file__\u001b[39m)\u001b[38;5;241m.\u001b[39mresolve()\u001b[38;5;241m.\u001b[39mparent\u001b[38;5;241m.\u001b[39mparent\u001b[38;5;241m.\u001b[39mparent\n\u001b[0;32m      8\u001b[0m \u001b[38;5;28;01mdef\u001b[39;00m \u001b[38;5;21mload_dependency_data\u001b[39m(filename\u001b[38;5;241m=\u001b[39m\u001b[38;5;124m\"\u001b[39m\u001b[38;5;124mdependencias.csv.gz\u001b[39m\u001b[38;5;124m\"\u001b[39m):\n\u001b[0;32m      9\u001b[0m \u001b[38;5;250m    \u001b[39m\u001b[38;5;124;03m\"\"\"\u001b[39;00m\n\u001b[0;32m     10\u001b[0m \u001b[38;5;124;03m    Carga el CSV consolidado de dependencias desde un archivo comprimido.\u001b[39;00m\n\u001b[0;32m     11\u001b[0m \u001b[38;5;124;03m    \u001b[39;00m\n\u001b[1;32m   (...)\u001b[0m\n\u001b[0;32m     16\u001b[0m \u001b[38;5;124;03m        pd.DataFrame: DataFrame con los datos de dependencias\u001b[39;00m\n\u001b[0;32m     17\u001b[0m \u001b[38;5;124;03m    \"\"\"\u001b[39;00m\n",
      "\u001b[1;31mNameError\u001b[0m: name '__file__' is not defined"
     ]
    }
   ],
   "source": [
    "import pandas as pd\n",
    "from pathlib import Path\n",
    "import gzip\n",
    "\n",
    "# Obtener la ruta base del proyecto\n",
    "BASE_DIR = Path(__file__).resolve().parent.parent.parent\n",
    "\n",
    "def load_dependency_data(filename=\"dependencias.csv.gz\"):\n",
    "    \"\"\"\n",
    "    Carga el CSV consolidado de dependencias desde un archivo comprimido.\n",
    "    \n",
    "    Args:\n",
    "        filename (str): Nombre del archivo comprimido\n",
    "        \n",
    "    Returns:\n",
    "        pd.DataFrame: DataFrame con los datos de dependencias\n",
    "    \"\"\"\n",
    "    csv_path = BASE_DIR / \"src\" / \"data\" / \"processed\" / \"Dependencias consolidadas\" / filename\n",
    "    \n",
    "    try:\n",
    "        with gzip.open(csv_path, 'rt', encoding='utf-8') as file:\n",
    "            return pd.read_csv(file)\n",
    "    except Exception as e:\n",
    "        print(f\"Error al cargar el archivo de dependencias: {e}\")\n",
    "        return None\n",
    "    \n",
    "def load_clustering_data(filename=\"agglomerative_clustering_results.csv\"):\n",
    "    \"\"\"\n",
    "    Carga los datos de clustering.\n",
    "    \n",
    "    Args:\n",
    "        filename (str): Nombre del archivo de clustering\n",
    "        \n",
    "    Returns:\n",
    "        pd.DataFrame: DataFrame con los resultados del clustering\n",
    "    \"\"\"\n",
    "    clustering_path = BASE_DIR / \"src\" / \"data\" / \"processed\" / \"comunidades\" / filename\n",
    "    \n",
    "    try:\n",
    "        return pd.read_csv(clustering_path, sep=';')\n",
    "    except Exception as e:\n",
    "        print(f\"Error al cargar el archivo de clustering: {e}\")\n",
    "        return None"
   ]
  }
 ],
 "metadata": {
  "kernelspec": {
   "display_name": "dependencias",
   "language": "python",
   "name": "python3"
  },
  "language_info": {
   "codemirror_mode": {
    "name": "ipython",
    "version": 3
   },
   "file_extension": ".py",
   "mimetype": "text/x-python",
   "name": "python",
   "nbconvert_exporter": "python",
   "pygments_lexer": "ipython3",
   "version": "3.12.9"
  }
 },
 "nbformat": 4,
 "nbformat_minor": 2
}
