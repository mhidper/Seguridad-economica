{
 "cells": [
  {
   "cell_type": "code",
   "execution_count": 2,
   "metadata": {},
   "outputs": [
    {
     "data": {
      "application/vnd.plotly.v1+json": {
       "config": {
        "plotlyServerURL": "https://plot.ly"
       },
       "data": [
        {
         "coloraxis": "coloraxis",
         "geo": "geo",
         "hovertemplate": "<b>%{hovertext}</b><br><br>supplier_country=%{location}<br>dependency_value=%{z}<extra></extra>",
         "hovertext": [
          "ABW",
          "AFG",
          "AGO",
          "AIA",
          "ALB",
          "AND",
          "ARE",
          "ARG",
          "ARM",
          "ASM",
          "ATA",
          "ATF",
          "ATG",
          "AUS",
          "AUT",
          "AZE",
          "BDI",
          "BEL",
          "BEN",
          "BES",
          "BFA",
          "BGD",
          "BGR",
          "BHR",
          "BHS",
          "BIH",
          "BLM",
          "BLR",
          "BLZ",
          "BMU",
          "BOL",
          "BRA",
          "BRB",
          "BRN",
          "BTN",
          "BVT",
          "BWA",
          "CAF",
          "CAN",
          "CCK",
          "CHE",
          "CHL",
          "CHN",
          "CIV",
          "CMR",
          "COD",
          "COG",
          "COK",
          "COL",
          "COM",
          "CPV",
          "CRI",
          "CUB",
          "CUW",
          "CXR",
          "CYM",
          "CYP",
          "CZE",
          "DJI",
          "DMA",
          "DNK",
          "DOM",
          "DZA",
          "ECU",
          "EGY",
          "ERI",
          "ESH",
          "ESP",
          "EST",
          "ETH",
          "FIN",
          "FJI",
          "FLK",
          "FRA",
          "FRE",
          "FRO",
          "FSM",
          "GAB",
          "GAZ",
          "GBR",
          "GEO",
          "GHA",
          "GIB",
          "GIN",
          "GMB",
          "GNB",
          "GNQ",
          "GRC",
          "GRD",
          "GRL",
          "GTM",
          "GUM",
          "GUY",
          "HKG",
          "HND",
          "HRV",
          "HTI",
          "HUN",
          "IDN",
          "IND",
          "IOT",
          "IRL",
          "IRN",
          "IRQ",
          "ISL",
          "ISR",
          "ITA",
          "JAM",
          "JOR",
          "JPN",
          "KAZ",
          "KEN",
          "KGZ",
          "KHM",
          "KIR",
          "KNA",
          "KOR",
          "KWT",
          "LAO",
          "LBN",
          "LBR",
          "LBY",
          "LCA",
          "LIE",
          "LKA",
          "LSO",
          "LTU",
          "LUX",
          "LVA",
          "MAC",
          "MAR",
          "MDA",
          "MDG",
          "MDV",
          "MEX",
          "MHL",
          "MKD",
          "MLI",
          "MLT",
          "MMR",
          "MNE",
          "MNG",
          "MNP",
          "MOZ",
          "MRT",
          "MSR",
          "MUS",
          "MWI",
          "MYS",
          "NAM",
          "NCL",
          "NER",
          "NFK",
          "NGA",
          "NIC",
          "NIU",
          "NLD",
          "NOR",
          "NPL",
          "NRU",
          "NZL",
          "OMN",
          "PAK",
          "PAN",
          "PCN",
          "PER",
          "PHL",
          "PLW",
          "PNG",
          "POL",
          "PRK",
          "PRT",
          "PRY",
          "PSE",
          "PYF",
          "QAT",
          "ROU",
          "RUS",
          "RWA",
          "SAU",
          "SDN",
          "SEN",
          "SGP",
          "SGS",
          "SHN",
          "SLB",
          "SLE",
          "SLV",
          "SMR",
          "SOM",
          "SPM",
          "SRB",
          "SSD",
          "STP",
          "SUR",
          "SVK",
          "SVN",
          "SWE",
          "SWZ",
          "SXM",
          "SYC",
          "SYR",
          "TCA",
          "TCD",
          "TGO",
          "THA",
          "TJK",
          "TKL",
          "TKM",
          "TLS",
          "TON",
          "TTO",
          "TUN",
          "TUR",
          "TUV",
          "TWN",
          "TZA",
          "UGA",
          "UKR",
          "UMI",
          "URY",
          "USA",
          "UZB",
          "VAT",
          "VCT",
          "VEN",
          "VGB",
          "VNM",
          "VUT",
          "WLF",
          "WSM",
          "YEM",
          "ZAF",
          "ZMB",
          "ZWE"
         ],
         "locations": [
          "ABW",
          "AFG",
          "AGO",
          "AIA",
          "ALB",
          "AND",
          "ARE",
          "ARG",
          "ARM",
          "ASM",
          "ATA",
          "ATF",
          "ATG",
          "AUS",
          "AUT",
          "AZE",
          "BDI",
          "BEL",
          "BEN",
          "BES",
          "BFA",
          "BGD",
          "BGR",
          "BHR",
          "BHS",
          "BIH",
          "BLM",
          "BLR",
          "BLZ",
          "BMU",
          "BOL",
          "BRA",
          "BRB",
          "BRN",
          "BTN",
          "BVT",
          "BWA",
          "CAF",
          "CAN",
          "CCK",
          "CHE",
          "CHL",
          "CHN",
          "CIV",
          "CMR",
          "COD",
          "COG",
          "COK",
          "COL",
          "COM",
          "CPV",
          "CRI",
          "CUB",
          "CUW",
          "CXR",
          "CYM",
          "CYP",
          "CZE",
          "DJI",
          "DMA",
          "DNK",
          "DOM",
          "DZA",
          "ECU",
          "EGY",
          "ERI",
          "ESH",
          "ESP",
          "EST",
          "ETH",
          "FIN",
          "FJI",
          "FLK",
          "FRA",
          "FRE",
          "FRO",
          "FSM",
          "GAB",
          "GAZ",
          "GBR",
          "GEO",
          "GHA",
          "GIB",
          "GIN",
          "GMB",
          "GNB",
          "GNQ",
          "GRC",
          "GRD",
          "GRL",
          "GTM",
          "GUM",
          "GUY",
          "HKG",
          "HND",
          "HRV",
          "HTI",
          "HUN",
          "IDN",
          "IND",
          "IOT",
          "IRL",
          "IRN",
          "IRQ",
          "ISL",
          "ISR",
          "ITA",
          "JAM",
          "JOR",
          "JPN",
          "KAZ",
          "KEN",
          "KGZ",
          "KHM",
          "KIR",
          "KNA",
          "KOR",
          "KWT",
          "LAO",
          "LBN",
          "LBR",
          "LBY",
          "LCA",
          "LIE",
          "LKA",
          "LSO",
          "LTU",
          "LUX",
          "LVA",
          "MAC",
          "MAR",
          "MDA",
          "MDG",
          "MDV",
          "MEX",
          "MHL",
          "MKD",
          "MLI",
          "MLT",
          "MMR",
          "MNE",
          "MNG",
          "MNP",
          "MOZ",
          "MRT",
          "MSR",
          "MUS",
          "MWI",
          "MYS",
          "NAM",
          "NCL",
          "NER",
          "NFK",
          "NGA",
          "NIC",
          "NIU",
          "NLD",
          "NOR",
          "NPL",
          "NRU",
          "NZL",
          "OMN",
          "PAK",
          "PAN",
          "PCN",
          "PER",
          "PHL",
          "PLW",
          "PNG",
          "POL",
          "PRK",
          "PRT",
          "PRY",
          "PSE",
          "PYF",
          "QAT",
          "ROU",
          "RUS",
          "RWA",
          "SAU",
          "SDN",
          "SEN",
          "SGP",
          "SGS",
          "SHN",
          "SLB",
          "SLE",
          "SLV",
          "SMR",
          "SOM",
          "SPM",
          "SRB",
          "SSD",
          "STP",
          "SUR",
          "SVK",
          "SVN",
          "SWE",
          "SWZ",
          "SXM",
          "SYC",
          "SYR",
          "TCA",
          "TCD",
          "TGO",
          "THA",
          "TJK",
          "TKL",
          "TKM",
          "TLS",
          "TON",
          "TTO",
          "TUN",
          "TUR",
          "TUV",
          "TWN",
          "TZA",
          "UGA",
          "UKR",
          "UMI",
          "URY",
          "USA",
          "UZB",
          "VAT",
          "VCT",
          "VEN",
          "VGB",
          "VNM",
          "VUT",
          "WLF",
          "WSM",
          "YEM",
          "ZAF",
          "ZMB",
          "ZWE"
         ],
         "name": "",
         "type": "choropleth",
         "z": [
          0.5868,
          0.36111764705882354,
          0.5806923076923076,
          0.38549999999999995,
          0.49131818181818177,
          0.6983333333333334,
          0.2312089552238806,
          0.30657407407407405,
          0.4406875,
          0.21333333333333335,
          0.006333333333333333,
          0.048666666666666664,
          0.41971428571428565,
          0.2432528735632184,
          0.1941830985915493,
          0.3931764705882353,
          0.35212499999999997,
          0.22837333333333334,
          0.44309090909090904,
          0.038,
          0.42275,
          0.31486111111111115,
          0.22949999999999998,
          0.3674,
          0.43755555555555553,
          0.23696969696969697,
          0.012,
          0.2609268292682927,
          0.4072,
          0.4162857142857143,
          0.30566666666666664,
          0.2361195652173913,
          0.41390000000000005,
          0.4627857142857143,
          0.2051666666666667,
          0.939,
          0.416,
          0.284,
          0.22139495798319328,
          0.62325,
          0.20826446280991734,
          0.3296363636363636,
          0.3755531914893617,
          0.4372857142857143,
          0.25305263157894736,
          0.38373333333333337,
          0.44936363636363635,
          0.20725000000000002,
          0.3237380952380952,
          0.40549999999999997,
          0.21939999999999998,
          0.28421621621621623,
          0.42145454545454547,
          0.7372,
          0.4033333333333333,
          0.491375,
          0.44532142857142853,
          0.22398449612403099,
          0.34485714285714286,
          0.544,
          0.18131746031746032,
          0.39633333333333337,
          0.3907857142857143,
          0.3616296296296296,
          0.29880392156862745,
          0.1736,
          0.188,
          0.23974637681159422,
          0.30364,
          0.33021052631578945,
          0.2113370786516854,
          0.6466999999999999,
          0.029666666666666664,
          0.26863333333333334,
          0.4354,
          0.488125,
          0.37966666666666665,
          0.3982857142857143,
          0.57125,
          0.23140972222222222,
          0.43955555555555553,
          0.3160454545454546,
          0.654,
          0.36163636363636364,
          0.5716666666666667,
          0.2184,
          0.4508571428571428,
          0.24873972602739727,
          0.3578,
          0.4865,
          0.35000000000000003,
          0.388,
          0.3062307692307692,
          0.3116438356164384,
          0.3187083333333333,
          0.2675396825396825,
          0.4431111111111111,
          0.2036065573770492,
          0.27640776699029124,
          0.26000869565217394,
          0.048666666666666664,
          0.25171264367816093,
          0.4316923076923077,
          0.5390833333333334,
          0.5357777777777778,
          0.25320289855072464,
          0.30213986013986016,
          0.4973846153846154,
          0.34027999999999997,
          0.32342608695652175,
          0.4260322580645161,
          0.34974074074074074,
          0.40194117647058825,
          0.30924324324324326,
          0.07250000000000001,
          0.509,
          0.2907102803738318,
          0.44406249999999997,
          0.24573076923076925,
          0.43150000000000005,
          0.24250000000000002,
          0.12769999999999998,
          0.4018333333333333,
          0.36200000000000004,
          0.2887105263157895,
          0.59,
          0.2365,
          0.2606935483870968,
          0.27874074074074073,
          0.4422,
          0.28278431372549023,
          0.308551724137931,
          0.3054,
          0.42142857142857143,
          0.22080555555555556,
          0.16033333333333333,
          0.3002758620689655,
          0.3851176470588235,
          0.42803703703703705,
          0.298,
          0.5385454545454545,
          0.2677058823529412,
          0.029333333333333333,
          0.42766666666666664,
          0.4372,
          0.22266666666666665,
          0.4951052631578947,
          0.44225,
          0.26076470588235295,
          0.33108695652173914,
          0.357125,
          0.4285833333333333,
          0.5295,
          0.3403225806451613,
          0.27191666666666664,
          0.0125,
          0.2690333333333333,
          0.2597536231884058,
          0.4142941176470588,
          0.43224999999999997,
          0.3375531914893617,
          0.37586363636363634,
          0.3251,
          0.43863636363636366,
          0.497,
          0.3413076923076923,
          0.2977536231884058,
          0.0884,
          0.40199999999999997,
          0.23454054054054058,
          0.3046153846153846,
          0.22227884615384616,
          0.32208695652173913,
          0.57125,
          0.48612500000000003,
          0.30183333333333334,
          0.19607692307692307,
          0.25568085106382976,
          0.3413076923076923,
          0.3675,
          0.35400000000000004,
          0.3957058823529412,
          0.26327083333333334,
          0.008,
          0.1058,
          0.2474,
          0.33690000000000003,
          0.38773684210526316,
          0.3621666666666667,
          0.323,
          0.267,
          0.22943939393939394,
          0.6910000000000001,
          0.38149999999999995,
          0.3471,
          0.19287962962962962,
          0.18194736842105264,
          0.1801900826446281,
          0.49538461538461537,
          0.48650000000000004,
          0.37666666666666665,
          0.3563636363636364,
          0.21539999999999998,
          0.3591428571428571,
          0.37453846153846154,
          0.2788,
          0.4469,
          0.39,
          0.35088888888888886,
          0.301,
          0.46900000000000003,
          0.3656666666666667,
          0.27705405405405403,
          0.21103361344537816,
          0.3345,
          0.29610309278350516,
          0.2896296296296296,
          0.31221739130434784,
          0.20415492957746478,
          0.6639999999999999,
          0.3031666666666667,
          0.36995890410958904,
          0.4133478260869565,
          0.637,
          0.33516666666666667,
          0.418,
          0.513,
          0.30353125,
          0.32566666666666666,
          0.09566666666666668,
          0.241,
          0.359875,
          0.2840422535211268,
          0.49019999999999997,
          0.32176190476190475
         ]
        }
       ],
       "layout": {
        "coloraxis": {
         "colorbar": {
          "title": {
           "text": "dependency_value"
          }
         },
         "colorscale": [
          [
           0,
           "rgb(5,48,97)"
          ],
          [
           0.1,
           "rgb(33,102,172)"
          ],
          [
           0.2,
           "rgb(67,147,195)"
          ],
          [
           0.3,
           "rgb(146,197,222)"
          ],
          [
           0.4,
           "rgb(209,229,240)"
          ],
          [
           0.5,
           "rgb(247,247,247)"
          ],
          [
           0.6,
           "rgb(253,219,199)"
          ],
          [
           0.7,
           "rgb(244,165,130)"
          ],
          [
           0.8,
           "rgb(214,96,77)"
          ],
          [
           0.9,
           "rgb(178,24,43)"
          ],
          [
           1,
           "rgb(103,0,31)"
          ]
         ]
        },
        "geo": {
         "center": {},
         "domain": {
          "x": [
           0,
           1
          ],
          "y": [
           0,
           1
          ]
         },
         "fitbounds": "locations",
         "projection": {
          "type": "equirectangular"
         },
         "showcoastlines": false,
         "showframe": false,
         "visible": false
        },
        "legend": {
         "tracegroupgap": 0
        },
        "template": {
         "data": {
          "bar": [
           {
            "error_x": {
             "color": "#2a3f5f"
            },
            "error_y": {
             "color": "#2a3f5f"
            },
            "marker": {
             "line": {
              "color": "#E5ECF6",
              "width": 0.5
             },
             "pattern": {
              "fillmode": "overlay",
              "size": 10,
              "solidity": 0.2
             }
            },
            "type": "bar"
           }
          ],
          "barpolar": [
           {
            "marker": {
             "line": {
              "color": "#E5ECF6",
              "width": 0.5
             },
             "pattern": {
              "fillmode": "overlay",
              "size": 10,
              "solidity": 0.2
             }
            },
            "type": "barpolar"
           }
          ],
          "carpet": [
           {
            "aaxis": {
             "endlinecolor": "#2a3f5f",
             "gridcolor": "white",
             "linecolor": "white",
             "minorgridcolor": "white",
             "startlinecolor": "#2a3f5f"
            },
            "baxis": {
             "endlinecolor": "#2a3f5f",
             "gridcolor": "white",
             "linecolor": "white",
             "minorgridcolor": "white",
             "startlinecolor": "#2a3f5f"
            },
            "type": "carpet"
           }
          ],
          "choropleth": [
           {
            "colorbar": {
             "outlinewidth": 0,
             "ticks": ""
            },
            "type": "choropleth"
           }
          ],
          "contour": [
           {
            "colorbar": {
             "outlinewidth": 0,
             "ticks": ""
            },
            "colorscale": [
             [
              0,
              "#0d0887"
             ],
             [
              0.1111111111111111,
              "#46039f"
             ],
             [
              0.2222222222222222,
              "#7201a8"
             ],
             [
              0.3333333333333333,
              "#9c179e"
             ],
             [
              0.4444444444444444,
              "#bd3786"
             ],
             [
              0.5555555555555556,
              "#d8576b"
             ],
             [
              0.6666666666666666,
              "#ed7953"
             ],
             [
              0.7777777777777778,
              "#fb9f3a"
             ],
             [
              0.8888888888888888,
              "#fdca26"
             ],
             [
              1,
              "#f0f921"
             ]
            ],
            "type": "contour"
           }
          ],
          "contourcarpet": [
           {
            "colorbar": {
             "outlinewidth": 0,
             "ticks": ""
            },
            "type": "contourcarpet"
           }
          ],
          "heatmap": [
           {
            "colorbar": {
             "outlinewidth": 0,
             "ticks": ""
            },
            "colorscale": [
             [
              0,
              "#0d0887"
             ],
             [
              0.1111111111111111,
              "#46039f"
             ],
             [
              0.2222222222222222,
              "#7201a8"
             ],
             [
              0.3333333333333333,
              "#9c179e"
             ],
             [
              0.4444444444444444,
              "#bd3786"
             ],
             [
              0.5555555555555556,
              "#d8576b"
             ],
             [
              0.6666666666666666,
              "#ed7953"
             ],
             [
              0.7777777777777778,
              "#fb9f3a"
             ],
             [
              0.8888888888888888,
              "#fdca26"
             ],
             [
              1,
              "#f0f921"
             ]
            ],
            "type": "heatmap"
           }
          ],
          "heatmapgl": [
           {
            "colorbar": {
             "outlinewidth": 0,
             "ticks": ""
            },
            "colorscale": [
             [
              0,
              "#0d0887"
             ],
             [
              0.1111111111111111,
              "#46039f"
             ],
             [
              0.2222222222222222,
              "#7201a8"
             ],
             [
              0.3333333333333333,
              "#9c179e"
             ],
             [
              0.4444444444444444,
              "#bd3786"
             ],
             [
              0.5555555555555556,
              "#d8576b"
             ],
             [
              0.6666666666666666,
              "#ed7953"
             ],
             [
              0.7777777777777778,
              "#fb9f3a"
             ],
             [
              0.8888888888888888,
              "#fdca26"
             ],
             [
              1,
              "#f0f921"
             ]
            ],
            "type": "heatmapgl"
           }
          ],
          "histogram": [
           {
            "marker": {
             "pattern": {
              "fillmode": "overlay",
              "size": 10,
              "solidity": 0.2
             }
            },
            "type": "histogram"
           }
          ],
          "histogram2d": [
           {
            "colorbar": {
             "outlinewidth": 0,
             "ticks": ""
            },
            "colorscale": [
             [
              0,
              "#0d0887"
             ],
             [
              0.1111111111111111,
              "#46039f"
             ],
             [
              0.2222222222222222,
              "#7201a8"
             ],
             [
              0.3333333333333333,
              "#9c179e"
             ],
             [
              0.4444444444444444,
              "#bd3786"
             ],
             [
              0.5555555555555556,
              "#d8576b"
             ],
             [
              0.6666666666666666,
              "#ed7953"
             ],
             [
              0.7777777777777778,
              "#fb9f3a"
             ],
             [
              0.8888888888888888,
              "#fdca26"
             ],
             [
              1,
              "#f0f921"
             ]
            ],
            "type": "histogram2d"
           }
          ],
          "histogram2dcontour": [
           {
            "colorbar": {
             "outlinewidth": 0,
             "ticks": ""
            },
            "colorscale": [
             [
              0,
              "#0d0887"
             ],
             [
              0.1111111111111111,
              "#46039f"
             ],
             [
              0.2222222222222222,
              "#7201a8"
             ],
             [
              0.3333333333333333,
              "#9c179e"
             ],
             [
              0.4444444444444444,
              "#bd3786"
             ],
             [
              0.5555555555555556,
              "#d8576b"
             ],
             [
              0.6666666666666666,
              "#ed7953"
             ],
             [
              0.7777777777777778,
              "#fb9f3a"
             ],
             [
              0.8888888888888888,
              "#fdca26"
             ],
             [
              1,
              "#f0f921"
             ]
            ],
            "type": "histogram2dcontour"
           }
          ],
          "mesh3d": [
           {
            "colorbar": {
             "outlinewidth": 0,
             "ticks": ""
            },
            "type": "mesh3d"
           }
          ],
          "parcoords": [
           {
            "line": {
             "colorbar": {
              "outlinewidth": 0,
              "ticks": ""
             }
            },
            "type": "parcoords"
           }
          ],
          "pie": [
           {
            "automargin": true,
            "type": "pie"
           }
          ],
          "scatter": [
           {
            "fillpattern": {
             "fillmode": "overlay",
             "size": 10,
             "solidity": 0.2
            },
            "type": "scatter"
           }
          ],
          "scatter3d": [
           {
            "line": {
             "colorbar": {
              "outlinewidth": 0,
              "ticks": ""
             }
            },
            "marker": {
             "colorbar": {
              "outlinewidth": 0,
              "ticks": ""
             }
            },
            "type": "scatter3d"
           }
          ],
          "scattercarpet": [
           {
            "marker": {
             "colorbar": {
              "outlinewidth": 0,
              "ticks": ""
             }
            },
            "type": "scattercarpet"
           }
          ],
          "scattergeo": [
           {
            "marker": {
             "colorbar": {
              "outlinewidth": 0,
              "ticks": ""
             }
            },
            "type": "scattergeo"
           }
          ],
          "scattergl": [
           {
            "marker": {
             "colorbar": {
              "outlinewidth": 0,
              "ticks": ""
             }
            },
            "type": "scattergl"
           }
          ],
          "scattermapbox": [
           {
            "marker": {
             "colorbar": {
              "outlinewidth": 0,
              "ticks": ""
             }
            },
            "type": "scattermapbox"
           }
          ],
          "scatterpolar": [
           {
            "marker": {
             "colorbar": {
              "outlinewidth": 0,
              "ticks": ""
             }
            },
            "type": "scatterpolar"
           }
          ],
          "scatterpolargl": [
           {
            "marker": {
             "colorbar": {
              "outlinewidth": 0,
              "ticks": ""
             }
            },
            "type": "scatterpolargl"
           }
          ],
          "scatterternary": [
           {
            "marker": {
             "colorbar": {
              "outlinewidth": 0,
              "ticks": ""
             }
            },
            "type": "scatterternary"
           }
          ],
          "surface": [
           {
            "colorbar": {
             "outlinewidth": 0,
             "ticks": ""
            },
            "colorscale": [
             [
              0,
              "#0d0887"
             ],
             [
              0.1111111111111111,
              "#46039f"
             ],
             [
              0.2222222222222222,
              "#7201a8"
             ],
             [
              0.3333333333333333,
              "#9c179e"
             ],
             [
              0.4444444444444444,
              "#bd3786"
             ],
             [
              0.5555555555555556,
              "#d8576b"
             ],
             [
              0.6666666666666666,
              "#ed7953"
             ],
             [
              0.7777777777777778,
              "#fb9f3a"
             ],
             [
              0.8888888888888888,
              "#fdca26"
             ],
             [
              1,
              "#f0f921"
             ]
            ],
            "type": "surface"
           }
          ],
          "table": [
           {
            "cells": {
             "fill": {
              "color": "#EBF0F8"
             },
             "line": {
              "color": "white"
             }
            },
            "header": {
             "fill": {
              "color": "#C8D4E3"
             },
             "line": {
              "color": "white"
             }
            },
            "type": "table"
           }
          ]
         },
         "layout": {
          "annotationdefaults": {
           "arrowcolor": "#2a3f5f",
           "arrowhead": 0,
           "arrowwidth": 1
          },
          "autotypenumbers": "strict",
          "coloraxis": {
           "colorbar": {
            "outlinewidth": 0,
            "ticks": ""
           }
          },
          "colorscale": {
           "diverging": [
            [
             0,
             "#8e0152"
            ],
            [
             0.1,
             "#c51b7d"
            ],
            [
             0.2,
             "#de77ae"
            ],
            [
             0.3,
             "#f1b6da"
            ],
            [
             0.4,
             "#fde0ef"
            ],
            [
             0.5,
             "#f7f7f7"
            ],
            [
             0.6,
             "#e6f5d0"
            ],
            [
             0.7,
             "#b8e186"
            ],
            [
             0.8,
             "#7fbc41"
            ],
            [
             0.9,
             "#4d9221"
            ],
            [
             1,
             "#276419"
            ]
           ],
           "sequential": [
            [
             0,
             "#0d0887"
            ],
            [
             0.1111111111111111,
             "#46039f"
            ],
            [
             0.2222222222222222,
             "#7201a8"
            ],
            [
             0.3333333333333333,
             "#9c179e"
            ],
            [
             0.4444444444444444,
             "#bd3786"
            ],
            [
             0.5555555555555556,
             "#d8576b"
            ],
            [
             0.6666666666666666,
             "#ed7953"
            ],
            [
             0.7777777777777778,
             "#fb9f3a"
            ],
            [
             0.8888888888888888,
             "#fdca26"
            ],
            [
             1,
             "#f0f921"
            ]
           ],
           "sequentialminus": [
            [
             0,
             "#0d0887"
            ],
            [
             0.1111111111111111,
             "#46039f"
            ],
            [
             0.2222222222222222,
             "#7201a8"
            ],
            [
             0.3333333333333333,
             "#9c179e"
            ],
            [
             0.4444444444444444,
             "#bd3786"
            ],
            [
             0.5555555555555556,
             "#d8576b"
            ],
            [
             0.6666666666666666,
             "#ed7953"
            ],
            [
             0.7777777777777778,
             "#fb9f3a"
            ],
            [
             0.8888888888888888,
             "#fdca26"
            ],
            [
             1,
             "#f0f921"
            ]
           ]
          },
          "colorway": [
           "#636efa",
           "#EF553B",
           "#00cc96",
           "#ab63fa",
           "#FFA15A",
           "#19d3f3",
           "#FF6692",
           "#B6E880",
           "#FF97FF",
           "#FECB52"
          ],
          "font": {
           "color": "#2a3f5f"
          },
          "geo": {
           "bgcolor": "white",
           "lakecolor": "white",
           "landcolor": "#E5ECF6",
           "showlakes": true,
           "showland": true,
           "subunitcolor": "white"
          },
          "hoverlabel": {
           "align": "left"
          },
          "hovermode": "closest",
          "mapbox": {
           "style": "light"
          },
          "paper_bgcolor": "white",
          "plot_bgcolor": "#E5ECF6",
          "polar": {
           "angularaxis": {
            "gridcolor": "white",
            "linecolor": "white",
            "ticks": ""
           },
           "bgcolor": "#E5ECF6",
           "radialaxis": {
            "gridcolor": "white",
            "linecolor": "white",
            "ticks": ""
           }
          },
          "scene": {
           "xaxis": {
            "backgroundcolor": "#E5ECF6",
            "gridcolor": "white",
            "gridwidth": 2,
            "linecolor": "white",
            "showbackground": true,
            "ticks": "",
            "zerolinecolor": "white"
           },
           "yaxis": {
            "backgroundcolor": "#E5ECF6",
            "gridcolor": "white",
            "gridwidth": 2,
            "linecolor": "white",
            "showbackground": true,
            "ticks": "",
            "zerolinecolor": "white"
           },
           "zaxis": {
            "backgroundcolor": "#E5ECF6",
            "gridcolor": "white",
            "gridwidth": 2,
            "linecolor": "white",
            "showbackground": true,
            "ticks": "",
            "zerolinecolor": "white"
           }
          },
          "shapedefaults": {
           "line": {
            "color": "#2a3f5f"
           }
          },
          "ternary": {
           "aaxis": {
            "gridcolor": "white",
            "linecolor": "white",
            "ticks": ""
           },
           "baxis": {
            "gridcolor": "white",
            "linecolor": "white",
            "ticks": ""
           },
           "bgcolor": "#E5ECF6",
           "caxis": {
            "gridcolor": "white",
            "linecolor": "white",
            "ticks": ""
           }
          },
          "title": {
           "x": 0.05
          },
          "xaxis": {
           "automargin": true,
           "gridcolor": "white",
           "linecolor": "white",
           "ticks": "",
           "title": {
            "standoff": 15
           },
           "zerolinecolor": "white",
           "zerolinewidth": 2
          },
          "yaxis": {
           "automargin": true,
           "gridcolor": "white",
           "linecolor": "white",
           "ticks": "",
           "title": {
            "standoff": 15
           },
           "zerolinecolor": "white",
           "zerolinewidth": 2
          }
         }
        },
        "title": {
         "text": "Dependencia Promedio de DEU"
        }
       }
      }
     },
     "metadata": {},
     "output_type": "display_data"
    },
    {
     "data": {
      "application/vnd.plotly.v1+json": {
       "config": {
        "plotlyServerURL": "https://plot.ly"
       },
       "data": [
        {
         "coloraxis": "coloraxis",
         "geo": "geo",
         "hovertemplate": "<b>%{hovertext}</b><br><br>supplier_country=%{location}<br>dependency_value=%{z}<extra></extra>",
         "hovertext": [
          "ABW",
          "AFG",
          "AGO",
          "AIA",
          "ALB",
          "AND",
          "ARE",
          "ARG",
          "ARM",
          "ASM",
          "ATA",
          "ATF",
          "ATG",
          "AUS",
          "AUT",
          "AZE",
          "BDI",
          "BEL",
          "BEN",
          "BES",
          "BFA",
          "BGD",
          "BGR",
          "BHR",
          "BHS",
          "BIH",
          "BLM",
          "BLR",
          "BLZ",
          "BMU",
          "BOL",
          "BRA",
          "BRB",
          "BRN",
          "BTN",
          "BVT",
          "BWA",
          "CAF",
          "CAN",
          "CCK",
          "CHE",
          "CHL",
          "CHN",
          "CIV",
          "CMR",
          "COD",
          "COG",
          "COK",
          "COL",
          "COM",
          "CPV",
          "CRI",
          "CUB",
          "CUW",
          "CXR",
          "CYM",
          "CYP",
          "CZE",
          "DEU",
          "DJI",
          "DMA",
          "DNK",
          "DOM",
          "DZA",
          "ECU",
          "EGY",
          "ERI",
          "ESH",
          "EST",
          "ETH",
          "FIN",
          "FJI",
          "FLK",
          "FRA",
          "FRE",
          "FRO",
          "FSM",
          "GAB",
          "GAZ",
          "GBR",
          "GEO",
          "GHA",
          "GIB",
          "GIN",
          "GMB",
          "GNB",
          "GNQ",
          "GRC",
          "GRD",
          "GRL",
          "GTM",
          "GUM",
          "GUY",
          "HKG",
          "HND",
          "HRV",
          "HTI",
          "HUN",
          "IDN",
          "IND",
          "IOT",
          "IRL",
          "IRN",
          "IRQ",
          "ISL",
          "ISR",
          "ITA",
          "JAM",
          "JOR",
          "JPN",
          "KAZ",
          "KEN",
          "KGZ",
          "KHM",
          "KIR",
          "KNA",
          "KOR",
          "KWT",
          "LAO",
          "LBN",
          "LBR",
          "LBY",
          "LCA",
          "LIE",
          "LKA",
          "LSO",
          "LTU",
          "LUX",
          "LVA",
          "MAC",
          "MAR",
          "MDA",
          "MDG",
          "MDV",
          "MEX",
          "MHL",
          "MKD",
          "MLI",
          "MLT",
          "MMR",
          "MNE",
          "MNG",
          "MNP",
          "MOZ",
          "MRT",
          "MSR",
          "MUS",
          "MWI",
          "MYS",
          "NAM",
          "NCL",
          "NER",
          "NFK",
          "NGA",
          "NIC",
          "NIU",
          "NLD",
          "NOR",
          "NPL",
          "NRU",
          "NZL",
          "OMN",
          "PAK",
          "PAN",
          "PCN",
          "PER",
          "PHL",
          "PLW",
          "PNG",
          "POL",
          "PRK",
          "PRT",
          "PRY",
          "PSE",
          "PYF",
          "QAT",
          "ROU",
          "RUS",
          "RWA",
          "SAU",
          "SDN",
          "SEN",
          "SGP",
          "SGS",
          "SHN",
          "SLB",
          "SLE",
          "SLV",
          "SMR",
          "SOM",
          "SPM",
          "SRB",
          "SSD",
          "STP",
          "SUR",
          "SVK",
          "SVN",
          "SWE",
          "SWZ",
          "SXM",
          "SYC",
          "SYR",
          "TCA",
          "TCD",
          "TGO",
          "THA",
          "TJK",
          "TKL",
          "TKM",
          "TLS",
          "TON",
          "TTO",
          "TUN",
          "TUR",
          "TUV",
          "TWN",
          "TZA",
          "UGA",
          "UKR",
          "UMI",
          "URY",
          "USA",
          "UZB",
          "VAT",
          "VCT",
          "VEN",
          "VGB",
          "VNM",
          "VUT",
          "WLF",
          "WSM",
          "YEM",
          "ZAF",
          "ZMB",
          "ZWE"
         ],
         "locations": [
          "ABW",
          "AFG",
          "AGO",
          "AIA",
          "ALB",
          "AND",
          "ARE",
          "ARG",
          "ARM",
          "ASM",
          "ATA",
          "ATF",
          "ATG",
          "AUS",
          "AUT",
          "AZE",
          "BDI",
          "BEL",
          "BEN",
          "BES",
          "BFA",
          "BGD",
          "BGR",
          "BHR",
          "BHS",
          "BIH",
          "BLM",
          "BLR",
          "BLZ",
          "BMU",
          "BOL",
          "BRA",
          "BRB",
          "BRN",
          "BTN",
          "BVT",
          "BWA",
          "CAF",
          "CAN",
          "CCK",
          "CHE",
          "CHL",
          "CHN",
          "CIV",
          "CMR",
          "COD",
          "COG",
          "COK",
          "COL",
          "COM",
          "CPV",
          "CRI",
          "CUB",
          "CUW",
          "CXR",
          "CYM",
          "CYP",
          "CZE",
          "DEU",
          "DJI",
          "DMA",
          "DNK",
          "DOM",
          "DZA",
          "ECU",
          "EGY",
          "ERI",
          "ESH",
          "EST",
          "ETH",
          "FIN",
          "FJI",
          "FLK",
          "FRA",
          "FRE",
          "FRO",
          "FSM",
          "GAB",
          "GAZ",
          "GBR",
          "GEO",
          "GHA",
          "GIB",
          "GIN",
          "GMB",
          "GNB",
          "GNQ",
          "GRC",
          "GRD",
          "GRL",
          "GTM",
          "GUM",
          "GUY",
          "HKG",
          "HND",
          "HRV",
          "HTI",
          "HUN",
          "IDN",
          "IND",
          "IOT",
          "IRL",
          "IRN",
          "IRQ",
          "ISL",
          "ISR",
          "ITA",
          "JAM",
          "JOR",
          "JPN",
          "KAZ",
          "KEN",
          "KGZ",
          "KHM",
          "KIR",
          "KNA",
          "KOR",
          "KWT",
          "LAO",
          "LBN",
          "LBR",
          "LBY",
          "LCA",
          "LIE",
          "LKA",
          "LSO",
          "LTU",
          "LUX",
          "LVA",
          "MAC",
          "MAR",
          "MDA",
          "MDG",
          "MDV",
          "MEX",
          "MHL",
          "MKD",
          "MLI",
          "MLT",
          "MMR",
          "MNE",
          "MNG",
          "MNP",
          "MOZ",
          "MRT",
          "MSR",
          "MUS",
          "MWI",
          "MYS",
          "NAM",
          "NCL",
          "NER",
          "NFK",
          "NGA",
          "NIC",
          "NIU",
          "NLD",
          "NOR",
          "NPL",
          "NRU",
          "NZL",
          "OMN",
          "PAK",
          "PAN",
          "PCN",
          "PER",
          "PHL",
          "PLW",
          "PNG",
          "POL",
          "PRK",
          "PRT",
          "PRY",
          "PSE",
          "PYF",
          "QAT",
          "ROU",
          "RUS",
          "RWA",
          "SAU",
          "SDN",
          "SEN",
          "SGP",
          "SGS",
          "SHN",
          "SLB",
          "SLE",
          "SLV",
          "SMR",
          "SOM",
          "SPM",
          "SRB",
          "SSD",
          "STP",
          "SUR",
          "SVK",
          "SVN",
          "SWE",
          "SWZ",
          "SXM",
          "SYC",
          "SYR",
          "TCA",
          "TCD",
          "TGO",
          "THA",
          "TJK",
          "TKL",
          "TKM",
          "TLS",
          "TON",
          "TTO",
          "TUN",
          "TUR",
          "TUV",
          "TWN",
          "TZA",
          "UGA",
          "UKR",
          "UMI",
          "URY",
          "USA",
          "UZB",
          "VAT",
          "VCT",
          "VEN",
          "VGB",
          "VNM",
          "VUT",
          "WLF",
          "WSM",
          "YEM",
          "ZAF",
          "ZMB",
          "ZWE"
         ],
         "name": "",
         "type": "choropleth",
         "z": [
          0.5868,
          0.3838125,
          0.5420714285714286,
          0.38549999999999995,
          0.45012500000000005,
          0.5992857142857143,
          0.22324285714285716,
          0.3218846153846154,
          0.415,
          0.21316666666666664,
          0.006333333333333333,
          0.048666666666666664,
          0.41971428571428565,
          0.2600240963855422,
          0.20980508474576273,
          0.417625,
          0.3515,
          0.23684782608695654,
          0.4435454545454545,
          0.038,
          0.3908461538461538,
          0.31894285714285714,
          0.2256385542168675,
          0.39052631578947367,
          0.4368888888888889,
          0.265,
          0.012,
          0.3209090909090909,
          0.34175,
          0.364875,
          0.27615,
          0.2389462365591398,
          0.4159,
          0.4635714285714286,
          0.20533333333333334,
          0.939,
          0.4158461538461538,
          0.284,
          0.24164545454545455,
          0.62325,
          0.23231372549019605,
          0.3257111111111111,
          0.39572932330827065,
          0.3839166666666667,
          0.28294117647058825,
          0.3858,
          0.41041666666666665,
          0.20725000000000002,
          0.3494358974358974,
          0.402,
          0.18433333333333332,
          0.32790909090909093,
          0.31346666666666667,
          0.7372,
          0.4033333333333333,
          0.525375,
          0.4316206896551724,
          0.2392090909090909,
          0.3675364238410596,
          0.40149999999999997,
          0.544,
          0.21066037735849058,
          0.39755555555555555,
          0.31722222222222224,
          0.359037037037037,
          0.2946923076923077,
          0.1736,
          0.188,
          0.3425681818181818,
          0.3278421052631579,
          0.23203749999999998,
          0.5892727272727273,
          0.03966666666666666,
          0.27130519480519477,
          0.3635,
          0.43222222222222223,
          0.379,
          0.2812,
          0.57125,
          0.23792907801418442,
          0.43944444444444447,
          0.3180454545454545,
          0.654,
          0.36554545454545456,
          0.5716666666666667,
          0.2184,
          0.35355555555555557,
          0.2579,
          0.358,
          0.48,
          0.35041666666666665,
          0.38780000000000003,
          0.3059230769230769,
          0.30705405405405406,
          0.34645454545454546,
          0.3214807692307692,
          0.44333333333333336,
          0.2225943396226415,
          0.27022857142857143,
          0.2667117117117117,
          0.048666666666666664,
          0.2690487804878049,
          0.41848148148148145,
          0.5438333333333333,
          0.5327222222222222,
          0.2621044776119403,
          0.2989246575342466,
          0.5380833333333334,
          0.38695454545454544,
          0.33798181818181816,
          0.48770370370370375,
          0.3602692307692308,
          0.40170588235294113,
          0.31794285714285714,
          0.07200000000000001,
          0.509,
          0.28858878504672897,
          0.4198235294117647,
          0.26375,
          0.4314,
          0.26445454545454544,
          0.13199999999999998,
          0.4018333333333333,
          0.36200000000000004,
          0.28084615384615386,
          0.5892,
          0.26492063492063495,
          0.271457627118644,
          0.32504347826086954,
          0.4151875,
          0.25201639344262294,
          0.34373076923076923,
          0.29815,
          0.42057142857142854,
          0.22926666666666667,
          0.16122222222222224,
          0.37317391304347824,
          0.38435294117647056,
          0.4269259259259259,
          0.2872368421052631,
          0.5385454545454545,
          0.2750588235294118,
          0.029333333333333333,
          0.40610526315789475,
          0.4059090909090909,
          0.22266666666666665,
          0.44890476190476186,
          0.4087692307692308,
          0.27403092783505156,
          0.3470909090909091,
          0.3575,
          0.4285833333333333,
          0.5295,
          0.34441935483870967,
          0.3114545454545455,
          0.0125,
          0.2518732394366197,
          0.2671212121212121,
          0.41170588235294114,
          0.43224999999999997,
          0.3487173913043478,
          0.3770454545454545,
          0.32169230769230767,
          0.4381363636363636,
          0.497,
          0.337125,
          0.3076716417910448,
          0.0884,
          0.39894117647058824,
          0.23129007633587786,
          0.30553846153846154,
          0.1926764705882353,
          0.3740476190476191,
          0.57125,
          0.485875,
          0.30522222222222223,
          0.21082291666666667,
          0.2581797752808989,
          0.34092307692307694,
          0.38208571428571425,
          0.35508333333333336,
          0.37555555555555553,
          0.2604315789473684,
          0.008,
          0.1058,
          0.2474,
          0.37377777777777776,
          0.40961111111111115,
          0.3621666666666667,
          0.323,
          0.267,
          0.27692592592592596,
          0.6910000000000001,
          0.38125,
          0.3471,
          0.21320212765957447,
          0.22136363636363637,
          0.19956481481481483,
          0.5003076923076922,
          0.48650000000000004,
          0.37675,
          0.3562727272727273,
          0.21539999999999998,
          0.3591428571428571,
          0.34835714285714287,
          0.27836893203883495,
          0.49677777777777776,
          0.39,
          0.35033333333333333,
          0.301,
          0.46900000000000003,
          0.36813333333333337,
          0.25041463414634146,
          0.21147413793103448,
          0.3345,
          0.3076344086021505,
          0.31958333333333333,
          0.34004761904761904,
          0.21933846153846154,
          0.6639999999999999,
          0.2773030303030303,
          0.3625374149659864,
          0.42927272727272725,
          0.637,
          0.28685714285714287,
          0.4215,
          0.514,
          0.29584375,
          0.32549999999999996,
          0.14100000000000001,
          0.241,
          0.36,
          0.3085538461538462,
          0.461125,
          0.30822727272727274
         ]
        }
       ],
       "layout": {
        "coloraxis": {
         "colorbar": {
          "title": {
           "text": "dependency_value"
          }
         },
         "colorscale": [
          [
           0,
           "rgb(5,48,97)"
          ],
          [
           0.1,
           "rgb(33,102,172)"
          ],
          [
           0.2,
           "rgb(67,147,195)"
          ],
          [
           0.3,
           "rgb(146,197,222)"
          ],
          [
           0.4,
           "rgb(209,229,240)"
          ],
          [
           0.5,
           "rgb(247,247,247)"
          ],
          [
           0.6,
           "rgb(253,219,199)"
          ],
          [
           0.7,
           "rgb(244,165,130)"
          ],
          [
           0.8,
           "rgb(214,96,77)"
          ],
          [
           0.9,
           "rgb(178,24,43)"
          ],
          [
           1,
           "rgb(103,0,31)"
          ]
         ]
        },
        "geo": {
         "center": {},
         "domain": {
          "x": [
           0,
           1
          ],
          "y": [
           0,
           1
          ]
         },
         "fitbounds": "locations",
         "projection": {
          "type": "equirectangular"
         },
         "showcoastlines": false,
         "showframe": false,
         "visible": false
        },
        "legend": {
         "tracegroupgap": 0
        },
        "template": {
         "data": {
          "bar": [
           {
            "error_x": {
             "color": "#2a3f5f"
            },
            "error_y": {
             "color": "#2a3f5f"
            },
            "marker": {
             "line": {
              "color": "#E5ECF6",
              "width": 0.5
             },
             "pattern": {
              "fillmode": "overlay",
              "size": 10,
              "solidity": 0.2
             }
            },
            "type": "bar"
           }
          ],
          "barpolar": [
           {
            "marker": {
             "line": {
              "color": "#E5ECF6",
              "width": 0.5
             },
             "pattern": {
              "fillmode": "overlay",
              "size": 10,
              "solidity": 0.2
             }
            },
            "type": "barpolar"
           }
          ],
          "carpet": [
           {
            "aaxis": {
             "endlinecolor": "#2a3f5f",
             "gridcolor": "white",
             "linecolor": "white",
             "minorgridcolor": "white",
             "startlinecolor": "#2a3f5f"
            },
            "baxis": {
             "endlinecolor": "#2a3f5f",
             "gridcolor": "white",
             "linecolor": "white",
             "minorgridcolor": "white",
             "startlinecolor": "#2a3f5f"
            },
            "type": "carpet"
           }
          ],
          "choropleth": [
           {
            "colorbar": {
             "outlinewidth": 0,
             "ticks": ""
            },
            "type": "choropleth"
           }
          ],
          "contour": [
           {
            "colorbar": {
             "outlinewidth": 0,
             "ticks": ""
            },
            "colorscale": [
             [
              0,
              "#0d0887"
             ],
             [
              0.1111111111111111,
              "#46039f"
             ],
             [
              0.2222222222222222,
              "#7201a8"
             ],
             [
              0.3333333333333333,
              "#9c179e"
             ],
             [
              0.4444444444444444,
              "#bd3786"
             ],
             [
              0.5555555555555556,
              "#d8576b"
             ],
             [
              0.6666666666666666,
              "#ed7953"
             ],
             [
              0.7777777777777778,
              "#fb9f3a"
             ],
             [
              0.8888888888888888,
              "#fdca26"
             ],
             [
              1,
              "#f0f921"
             ]
            ],
            "type": "contour"
           }
          ],
          "contourcarpet": [
           {
            "colorbar": {
             "outlinewidth": 0,
             "ticks": ""
            },
            "type": "contourcarpet"
           }
          ],
          "heatmap": [
           {
            "colorbar": {
             "outlinewidth": 0,
             "ticks": ""
            },
            "colorscale": [
             [
              0,
              "#0d0887"
             ],
             [
              0.1111111111111111,
              "#46039f"
             ],
             [
              0.2222222222222222,
              "#7201a8"
             ],
             [
              0.3333333333333333,
              "#9c179e"
             ],
             [
              0.4444444444444444,
              "#bd3786"
             ],
             [
              0.5555555555555556,
              "#d8576b"
             ],
             [
              0.6666666666666666,
              "#ed7953"
             ],
             [
              0.7777777777777778,
              "#fb9f3a"
             ],
             [
              0.8888888888888888,
              "#fdca26"
             ],
             [
              1,
              "#f0f921"
             ]
            ],
            "type": "heatmap"
           }
          ],
          "heatmapgl": [
           {
            "colorbar": {
             "outlinewidth": 0,
             "ticks": ""
            },
            "colorscale": [
             [
              0,
              "#0d0887"
             ],
             [
              0.1111111111111111,
              "#46039f"
             ],
             [
              0.2222222222222222,
              "#7201a8"
             ],
             [
              0.3333333333333333,
              "#9c179e"
             ],
             [
              0.4444444444444444,
              "#bd3786"
             ],
             [
              0.5555555555555556,
              "#d8576b"
             ],
             [
              0.6666666666666666,
              "#ed7953"
             ],
             [
              0.7777777777777778,
              "#fb9f3a"
             ],
             [
              0.8888888888888888,
              "#fdca26"
             ],
             [
              1,
              "#f0f921"
             ]
            ],
            "type": "heatmapgl"
           }
          ],
          "histogram": [
           {
            "marker": {
             "pattern": {
              "fillmode": "overlay",
              "size": 10,
              "solidity": 0.2
             }
            },
            "type": "histogram"
           }
          ],
          "histogram2d": [
           {
            "colorbar": {
             "outlinewidth": 0,
             "ticks": ""
            },
            "colorscale": [
             [
              0,
              "#0d0887"
             ],
             [
              0.1111111111111111,
              "#46039f"
             ],
             [
              0.2222222222222222,
              "#7201a8"
             ],
             [
              0.3333333333333333,
              "#9c179e"
             ],
             [
              0.4444444444444444,
              "#bd3786"
             ],
             [
              0.5555555555555556,
              "#d8576b"
             ],
             [
              0.6666666666666666,
              "#ed7953"
             ],
             [
              0.7777777777777778,
              "#fb9f3a"
             ],
             [
              0.8888888888888888,
              "#fdca26"
             ],
             [
              1,
              "#f0f921"
             ]
            ],
            "type": "histogram2d"
           }
          ],
          "histogram2dcontour": [
           {
            "colorbar": {
             "outlinewidth": 0,
             "ticks": ""
            },
            "colorscale": [
             [
              0,
              "#0d0887"
             ],
             [
              0.1111111111111111,
              "#46039f"
             ],
             [
              0.2222222222222222,
              "#7201a8"
             ],
             [
              0.3333333333333333,
              "#9c179e"
             ],
             [
              0.4444444444444444,
              "#bd3786"
             ],
             [
              0.5555555555555556,
              "#d8576b"
             ],
             [
              0.6666666666666666,
              "#ed7953"
             ],
             [
              0.7777777777777778,
              "#fb9f3a"
             ],
             [
              0.8888888888888888,
              "#fdca26"
             ],
             [
              1,
              "#f0f921"
             ]
            ],
            "type": "histogram2dcontour"
           }
          ],
          "mesh3d": [
           {
            "colorbar": {
             "outlinewidth": 0,
             "ticks": ""
            },
            "type": "mesh3d"
           }
          ],
          "parcoords": [
           {
            "line": {
             "colorbar": {
              "outlinewidth": 0,
              "ticks": ""
             }
            },
            "type": "parcoords"
           }
          ],
          "pie": [
           {
            "automargin": true,
            "type": "pie"
           }
          ],
          "scatter": [
           {
            "fillpattern": {
             "fillmode": "overlay",
             "size": 10,
             "solidity": 0.2
            },
            "type": "scatter"
           }
          ],
          "scatter3d": [
           {
            "line": {
             "colorbar": {
              "outlinewidth": 0,
              "ticks": ""
             }
            },
            "marker": {
             "colorbar": {
              "outlinewidth": 0,
              "ticks": ""
             }
            },
            "type": "scatter3d"
           }
          ],
          "scattercarpet": [
           {
            "marker": {
             "colorbar": {
              "outlinewidth": 0,
              "ticks": ""
             }
            },
            "type": "scattercarpet"
           }
          ],
          "scattergeo": [
           {
            "marker": {
             "colorbar": {
              "outlinewidth": 0,
              "ticks": ""
             }
            },
            "type": "scattergeo"
           }
          ],
          "scattergl": [
           {
            "marker": {
             "colorbar": {
              "outlinewidth": 0,
              "ticks": ""
             }
            },
            "type": "scattergl"
           }
          ],
          "scattermapbox": [
           {
            "marker": {
             "colorbar": {
              "outlinewidth": 0,
              "ticks": ""
             }
            },
            "type": "scattermapbox"
           }
          ],
          "scatterpolar": [
           {
            "marker": {
             "colorbar": {
              "outlinewidth": 0,
              "ticks": ""
             }
            },
            "type": "scatterpolar"
           }
          ],
          "scatterpolargl": [
           {
            "marker": {
             "colorbar": {
              "outlinewidth": 0,
              "ticks": ""
             }
            },
            "type": "scatterpolargl"
           }
          ],
          "scatterternary": [
           {
            "marker": {
             "colorbar": {
              "outlinewidth": 0,
              "ticks": ""
             }
            },
            "type": "scatterternary"
           }
          ],
          "surface": [
           {
            "colorbar": {
             "outlinewidth": 0,
             "ticks": ""
            },
            "colorscale": [
             [
              0,
              "#0d0887"
             ],
             [
              0.1111111111111111,
              "#46039f"
             ],
             [
              0.2222222222222222,
              "#7201a8"
             ],
             [
              0.3333333333333333,
              "#9c179e"
             ],
             [
              0.4444444444444444,
              "#bd3786"
             ],
             [
              0.5555555555555556,
              "#d8576b"
             ],
             [
              0.6666666666666666,
              "#ed7953"
             ],
             [
              0.7777777777777778,
              "#fb9f3a"
             ],
             [
              0.8888888888888888,
              "#fdca26"
             ],
             [
              1,
              "#f0f921"
             ]
            ],
            "type": "surface"
           }
          ],
          "table": [
           {
            "cells": {
             "fill": {
              "color": "#EBF0F8"
             },
             "line": {
              "color": "white"
             }
            },
            "header": {
             "fill": {
              "color": "#C8D4E3"
             },
             "line": {
              "color": "white"
             }
            },
            "type": "table"
           }
          ]
         },
         "layout": {
          "annotationdefaults": {
           "arrowcolor": "#2a3f5f",
           "arrowhead": 0,
           "arrowwidth": 1
          },
          "autotypenumbers": "strict",
          "coloraxis": {
           "colorbar": {
            "outlinewidth": 0,
            "ticks": ""
           }
          },
          "colorscale": {
           "diverging": [
            [
             0,
             "#8e0152"
            ],
            [
             0.1,
             "#c51b7d"
            ],
            [
             0.2,
             "#de77ae"
            ],
            [
             0.3,
             "#f1b6da"
            ],
            [
             0.4,
             "#fde0ef"
            ],
            [
             0.5,
             "#f7f7f7"
            ],
            [
             0.6,
             "#e6f5d0"
            ],
            [
             0.7,
             "#b8e186"
            ],
            [
             0.8,
             "#7fbc41"
            ],
            [
             0.9,
             "#4d9221"
            ],
            [
             1,
             "#276419"
            ]
           ],
           "sequential": [
            [
             0,
             "#0d0887"
            ],
            [
             0.1111111111111111,
             "#46039f"
            ],
            [
             0.2222222222222222,
             "#7201a8"
            ],
            [
             0.3333333333333333,
             "#9c179e"
            ],
            [
             0.4444444444444444,
             "#bd3786"
            ],
            [
             0.5555555555555556,
             "#d8576b"
            ],
            [
             0.6666666666666666,
             "#ed7953"
            ],
            [
             0.7777777777777778,
             "#fb9f3a"
            ],
            [
             0.8888888888888888,
             "#fdca26"
            ],
            [
             1,
             "#f0f921"
            ]
           ],
           "sequentialminus": [
            [
             0,
             "#0d0887"
            ],
            [
             0.1111111111111111,
             "#46039f"
            ],
            [
             0.2222222222222222,
             "#7201a8"
            ],
            [
             0.3333333333333333,
             "#9c179e"
            ],
            [
             0.4444444444444444,
             "#bd3786"
            ],
            [
             0.5555555555555556,
             "#d8576b"
            ],
            [
             0.6666666666666666,
             "#ed7953"
            ],
            [
             0.7777777777777778,
             "#fb9f3a"
            ],
            [
             0.8888888888888888,
             "#fdca26"
            ],
            [
             1,
             "#f0f921"
            ]
           ]
          },
          "colorway": [
           "#636efa",
           "#EF553B",
           "#00cc96",
           "#ab63fa",
           "#FFA15A",
           "#19d3f3",
           "#FF6692",
           "#B6E880",
           "#FF97FF",
           "#FECB52"
          ],
          "font": {
           "color": "#2a3f5f"
          },
          "geo": {
           "bgcolor": "white",
           "lakecolor": "white",
           "landcolor": "#E5ECF6",
           "showlakes": true,
           "showland": true,
           "subunitcolor": "white"
          },
          "hoverlabel": {
           "align": "left"
          },
          "hovermode": "closest",
          "mapbox": {
           "style": "light"
          },
          "paper_bgcolor": "white",
          "plot_bgcolor": "#E5ECF6",
          "polar": {
           "angularaxis": {
            "gridcolor": "white",
            "linecolor": "white",
            "ticks": ""
           },
           "bgcolor": "#E5ECF6",
           "radialaxis": {
            "gridcolor": "white",
            "linecolor": "white",
            "ticks": ""
           }
          },
          "scene": {
           "xaxis": {
            "backgroundcolor": "#E5ECF6",
            "gridcolor": "white",
            "gridwidth": 2,
            "linecolor": "white",
            "showbackground": true,
            "ticks": "",
            "zerolinecolor": "white"
           },
           "yaxis": {
            "backgroundcolor": "#E5ECF6",
            "gridcolor": "white",
            "gridwidth": 2,
            "linecolor": "white",
            "showbackground": true,
            "ticks": "",
            "zerolinecolor": "white"
           },
           "zaxis": {
            "backgroundcolor": "#E5ECF6",
            "gridcolor": "white",
            "gridwidth": 2,
            "linecolor": "white",
            "showbackground": true,
            "ticks": "",
            "zerolinecolor": "white"
           }
          },
          "shapedefaults": {
           "line": {
            "color": "#2a3f5f"
           }
          },
          "ternary": {
           "aaxis": {
            "gridcolor": "white",
            "linecolor": "white",
            "ticks": ""
           },
           "baxis": {
            "gridcolor": "white",
            "linecolor": "white",
            "ticks": ""
           },
           "bgcolor": "#E5ECF6",
           "caxis": {
            "gridcolor": "white",
            "linecolor": "white",
            "ticks": ""
           }
          },
          "title": {
           "x": 0.05
          },
          "xaxis": {
           "automargin": true,
           "gridcolor": "white",
           "linecolor": "white",
           "ticks": "",
           "title": {
            "standoff": 15
           },
           "zerolinecolor": "white",
           "zerolinewidth": 2
          },
          "yaxis": {
           "automargin": true,
           "gridcolor": "white",
           "linecolor": "white",
           "ticks": "",
           "title": {
            "standoff": 15
           },
           "zerolinecolor": "white",
           "zerolinewidth": 2
          }
         }
        },
        "title": {
         "text": "Dependencia Promedio de ESP"
        }
       }
      }
     },
     "metadata": {},
     "output_type": "display_data"
    }
   ],
   "source": [
    "import pandas as pd\n",
    "import plotly.express as px\n",
    "from pathlib import Path\n",
    "import gzip\n",
    "import os\n",
    "\n",
    "# --- Funciones para cargar los datos ---\n",
    "\n",
    "# Obtener la ruta del directorio actual (funciona en scripts y Jupyter Notebooks)\n",
    "current_dir = os.path.dirname(os.path.abspath(\"__file__\"))\n",
    "\n",
    "\n",
    "# Construir BASE_DIR a partir de current_dir\n",
    "BASE_DIR = Path(current_dir).resolve().parent.parent\n",
    "\n",
    "# --- Resto del código ---\n",
    "\n",
    "def load_dependency_data(filename=\"dependencias_consolidadas.csv.gz\"):\n",
    "    csv_path = r\"C:\\Users\\Usuario\\Documents\\Github\\Seguridad económica\\src\\data\\processed\\Dependencias consolidadas\\dependencias_consolidadas.csv.gz\"\n",
    "    try:\n",
    "        with gzip.open(csv_path, 'rt', encoding='utf-8') as file:\n",
    "            return pd.read_csv(file)\n",
    "    except Exception as e:\n",
    "        print(f\"Error al cargar el archivo de dependencias: {e}\")\n",
    "        return None\n",
    "\n",
    "def load_clustering_data(filename=\"agglomerative_clustering_results.csv\"):\n",
    "    clustering_path = r\"C:\\Users\\Usuario\\Documents\\Github\\Seguridad económica\\src\\data\\processed\\comunidades\\agglomerative_clustering_results.csv\"\n",
    "    try:\n",
    "        return pd.read_csv(clustering_path, sep=';')\n",
    "    except Exception as e:\n",
    "        print(f\"Error al cargar el archivo de clustering: {e}\")\n",
    "        return None\n",
    "\n",
    "# --- Cargar los datos ---\n",
    "dependency_data = load_dependency_data()\n",
    "clustering_data = load_clustering_data()\n",
    "\n",
    "if dependency_data is None or clustering_data is None:\n",
    "    print(\"Error al cargar los datos. Verifica las rutas y los archivos.\")\n",
    "else:\n",
    "    # --- 1. Mapa Coroplético de Dependencias por País (Comparativo DEU vs. ESP) ---\n",
    "\n",
    "    def create_dependency_map(dependency_data, country):\n",
    "        filtered_data = dependency_data[dependency_data['dependent_country'] == country]\n",
    "        country_avg_dependency = filtered_data.groupby('supplier_country')['dependency_value'].mean().reset_index()\n",
    "        \n",
    "        merged_data = pd.merge(\n",
    "            country_avg_dependency,\n",
    "            clustering_data, \n",
    "            left_on='supplier_country',\n",
    "            right_on='iso_d',\n",
    "            how='left'\n",
    "        )\n",
    "        \n",
    "        fig = px.choropleth(\n",
    "            merged_data,\n",
    "            locations='supplier_country',\n",
    "            color='dependency_value',\n",
    "            hover_name='supplier_country',\n",
    "            color_continuous_scale='RdBu_r',\n",
    "            title=f'Dependencia Promedio de {country}'\n",
    "        )\n",
    "        fig.update_geos(fitbounds=\"locations\", visible=False)\n",
    "        fig.update_layout(\n",
    "            geo=dict(\n",
    "                showframe=False,\n",
    "                showcoastlines=False,\n",
    "                projection_type='equirectangular'\n",
    "            )\n",
    "        )\n",
    "        return fig\n",
    "\n",
    "    fig_deu_map = create_dependency_map(dependency_data, 'DEU')\n",
    "    fig_deu_map.show()\n",
    "    fig_esp_map = create_dependency_map(dependency_data, 'ESP')\n",
    "    fig_esp_map.show()\n",
    "\n",
    "    # Para mostrar en Streamlit:\n",
    "    # import streamlit as st\n",
    "    # st.plotly_chart(fig_deu_map)\n",
    "    # st.plotly_chart(fig_esp_map)\n",
    "\n",
    "    # --- 2. Treemap de Dependencias por Industria y País (Comparativo DEU vs. ESP) ---\n",
    "\n",
    "    def create_dependency_treemap(dependency_data, clustering_data, country):\n",
    "        filtered_data = dependency_data[dependency_data['dependent_country'] == country]\n",
    "        \n",
    "        merged_data = pd.merge(\n",
    "            filtered_data,\n",
    "            clustering_data,\n",
    "            left_on='supplier_country',\n",
    "            right_on='iso_d',\n",
    "            how='left'\n",
    "        )\n",
    "\n",
    "        fig = px.treemap(\n",
    "            merged_data,\n",
    "            path=['industry', 'supplier_country', 'cluster'],\n",
    "            values='dependency_value',\n",
    "            color='cluster',\n",
    "            title=f'Treemap de Dependencias para {country}',\n",
    "            color_discrete_sequence=px.colors.qualitative.Set1  # Puedes ajustar los colores\n",
    "        )\n",
    "        return fig\n",
    "\n",
    "    fig_deu_treemap = create_dependency_treemap(dependency_data, clustering_data, 'DEU')\n",
    "    fig_esp_treemap = create_dependency_treemap(dependency_data, clustering_data, 'ESP')\n",
    "\n",
    "    # Para mostrar en Streamlit:\n",
    "    # st.plotly_chart(fig_deu_treemap)\n",
    "    # st.plotly_chart(fig_esp_treemap)\n",
    "\n",
    "    # --- 3. Gráfico de Barras de Dependencia por Cluster (Comparativo DEU vs. ESP) ---\n",
    "\n",
    "    def create_dependency_cluster_barplot(dependency_data, clustering_data):\n",
    "        merged_data = pd.merge(\n",
    "            dependency_data,\n",
    "            clustering_data,\n",
    "            left_on='supplier_country',\n",
    "            right_on='iso_d',\n",
    "            how='left'\n",
    "        )\n",
    "\n",
    "        cluster_dependency = merged_data.groupby(['dependent_country', 'cluster'])['dependency_value'].sum().reset_index()\n",
    "\n",
    "        fig = px.bar(\n",
    "            cluster_dependency,\n",
    "            x='cluster',\n",
    "            y='dependency_value',\n",
    "            color='dependent_country',\n",
    "            barmode='group',\n",
    "            title='Dependencia Total por Cluster (DEU vs. ESP)',\n",
    "            labels={'dependency_value': 'Dependencia Total', 'cluster': 'Cluster', 'dependent_country': 'País'}\n",
    "        )\n",
    "        return fig\n",
    "\n",
    "    fig_cluster_barplot = create_dependency_cluster_barplot(dependency_data, clustering_data)\n",
    "\n",
    "    # Para mostrar en Streamlit:\n",
    "    # st.plotly_chart(fig_cluster_barplot)\n",
    "\n",
    "    # --- 4. Gráfico de Dispersión: Dependencia vs. Variables de Clustering (Comparativo DEU vs. ESP) ---\n",
    "\n",
    "    def create_dependency_scatterplot(dependency_data, clustering_data, country, variable):\n",
    "        filtered_data = dependency_data[dependency_data['dependent_country'] == country]\n",
    "        \n",
    "        merged_data = pd.merge(\n",
    "            filtered_data,\n",
    "            clustering_data,\n",
    "            left_on='supplier_country',\n",
    "            right_on='iso_d',\n",
    "            how='left'\n",
    "        )\n",
    "        \n",
    "        supplier_avg_dependency = merged_data.groupby(['supplier_country', variable])['dependency_value'].mean().reset_index()\n",
    "\n",
    "        fig = px.scatter(\n",
    "            supplier_avg_dependency,\n",
    "            x=variable,\n",
    "            y='dependency_value',\n",
    "            title=f'Dependencia vs. {variable} para {country}',\n",
    "            labels={'dependency_value': 'Dependencia Promedio', variable: variable},\n",
    "            hover_name='supplier_country'\n",
    "        )\n",
    "        return fig\n",
    "    \n",
    "    # Crear gráficos para España\n",
    "    fig_esp_scatter_pca_geo = create_dependency_scatterplot(dependency_data, clustering_data, 'ESP', 'pca_geo_norm')\n",
    "    fig_esp_scatter_famd_trade = create_dependency_scatterplot(dependency_data, clustering_data, 'ESP', 'famd_trade_norm')\n",
    "    fig_esp_scatter_famd_cult = create_dependency_scatterplot(dependency_data, clustering_data, 'ESP', 'famd_cult_norm')\n",
    "\n",
    "    # Crear gráficos para Alemania\n",
    "    fig_deu_scatter_pca_geo = create_dependency_scatterplot(dependency_data, clustering_data, 'DEU', 'pca_geo_norm')\n",
    "    fig_deu_scatter_famd_trade = create_dependency_scatterplot(dependency_data, clustering_data, 'DEU', 'famd_trade_norm')\n",
    "    fig_deu_scatter_famd_cult = create_dependency_scatterplot(dependency_data, clustering_data, 'DEU', 'famd_cult_norm')\n",
    "\n",
    "    # Para mostrar en Streamlit:\n",
    "    # st.plotly_chart(fig_esp_scatter_pca_geo)\n",
    "    # st.plotly_chart(fig_esp_scatter_famd_trade)\n",
    "    # st.plotly_chart(fig_esp_scatter_famd_cult)\n",
    "    # st.plotly_chart(fig_deu_scatter_pca_geo)\n",
    "    # st.plotly_chart(fig_deu_scatter_famd_trade)\n",
    "    # st.plotly_chart(fig_deu_scatter_famd_cult)\n",
    "\n",
    "    # --- 5. Top 5 Industrias con Mayor Dependencia (Comparativo DEU vs. ESP) ---\n",
    "\n",
    "    def create_top_industries_barplot(dependency_data, country):\n",
    "        filtered_data = dependency_data[dependency_data['dependent_country'] == country]\n",
    "        top_industries = filtered_data.groupby('industry')['dependency_value'].sum().nlargest(5).reset_index()\n",
    "\n",
    "        fig = px.bar(\n",
    "            top_industries,\n",
    "            x='dependency_value',\n",
    "            y='industry',\n",
    "            orientation='h',\n",
    "            title=f'Top 5 Industrias con Mayor Dependencia para {country}',\n",
    "            labels={'dependency_value': 'Dependencia Total', 'industry': 'Industria'},\n",
    "            text='dependency_value'\n",
    "        )\n",
    "        fig.update_traces(texttemplate='%{text:.3s}', textposition='outside')\n",
    "        return fig\n",
    "\n",
    "    fig_deu_top_industries = create_top_industries_barplot(dependency_data, 'DEU')\n",
    "    fig_esp_top_industries = create_top_industries_barplot(dependency_data, 'ESP')\n",
    "\n",
    "    # Para mostrar en Streamlit:\n",
    "    # st.plotly_chart(fig_deu_top_industries)\n",
    "    # st.plotly_chart(fig_esp_top_industries)\n"
   ]
  },
  {
   "cell_type": "code",
   "execution_count": 3,
   "metadata": {},
   "outputs": [
    {
     "data": {
      "application/vnd.plotly.v1+json": {
       "config": {
        "plotlyServerURL": "https://plot.ly"
       },
       "data": [
        {
         "branchvalues": "total",
         "customdata": [
          [
           0
          ],
          [
           3
          ],
          [
           0
          ],
          [
           1
          ],
          [
           3
          ],
          [
           1
          ],
          [
           3
          ],
          [
           3
          ],
          [
           0
          ],
          [
           3
          ],
          [
           0
          ],
          [
           0
          ],
          [
           0
          ],
          [
           0
          ],
          [
           0
          ],
          [
           3
          ],
          [
           0
          ],
          [
           0
          ],
          [
           0
          ],
          [
           3
          ],
          [
           0
          ],
          [
           0
          ],
          [
           0
          ],
          [
           0
          ],
          [
           0
          ],
          [
           2
          ],
          [
           3
          ],
          [
           3
          ],
          [
           3
          ],
          [
           4
          ],
          [
           0
          ],
          [
           3
          ],
          [
           0
          ],
          [
           4
          ],
          [
           3
          ],
          [
           2
          ],
          [
           0
          ],
          [
           0
          ],
          [
           0
          ],
          [
           1
          ],
          [
           0
          ],
          [
           3
          ],
          [
           1
          ],
          [
           0
          ],
          [
           0
          ],
          [
           0
          ],
          [
           0
          ],
          [
           0
          ],
          [
           0
          ],
          [
           0
          ],
          [
           0
          ],
          [
           1
          ],
          [
           0
          ],
          [
           1
          ],
          [
           2
          ],
          [
           3
          ],
          [
           1
          ],
          [
           3
          ],
          [
           0
          ],
          [
           0
          ],
          [
           4
          ],
          [
           1
          ],
          [
           3
          ],
          [
           3
          ],
          [
           0
          ],
          [
           0
          ],
          [
           3
          ],
          [
           0
          ],
          [
           3
          ],
          [
           0
          ],
          [
           2
          ],
          [
           3
          ],
          [
           0
          ],
          [
           0
          ],
          [
           0
          ],
          [
           0
          ],
          [
           3
          ],
          [
           3
          ],
          [
           0
          ],
          [
           0
          ],
          [
           0
          ],
          [
           "Sin Cluster"
          ],
          [
           0
          ],
          [
           0
          ],
          [
           3
          ],
          [
           0
          ],
          [
           2
          ],
          [
           0
          ],
          [
           3
          ],
          [
           1
          ],
          [
           0
          ],
          [
           3
          ],
          [
           3
          ],
          [
           0
          ],
          [
           "Sin Cluster"
          ],
          [
           3
          ],
          [
           3
          ],
          [
           0
          ],
          [
           0
          ],
          [
           1
          ],
          [
           0
          ],
          [
           3
          ],
          [
           "Sin Cluster"
          ],
          [
           3
          ],
          [
           0
          ],
          [
           3
          ],
          [
           0
          ],
          [
           "Sin Cluster"
          ],
          [
           2
          ],
          [
           0
          ],
          [
           1
          ],
          [
           4
          ],
          [
           0
          ],
          [
           4
          ],
          [
           0
          ],
          [
           0
          ],
          [
           "Sin Cluster"
          ],
          [
           3
          ],
          [
           0
          ],
          [
           "Sin Cluster"
          ],
          [
           1
          ],
          [
           0
          ],
          [
           0
          ],
          [
           0
          ],
          [
           3
          ],
          [
           3
          ],
          [
           3
          ],
          [
           0
          ],
          [
           1
          ],
          [
           0
          ],
          [
           0
          ],
          [
           1
          ],
          [
           0
          ],
          [
           3
          ],
          [
           3
          ],
          [
           0
          ],
          [
           3
          ],
          [
           0
          ],
          [
           3
          ],
          [
           1
          ],
          [
           0
          ],
          [
           0
          ],
          [
           0
          ],
          [
           "Sin Cluster"
          ],
          [
           0
          ],
          [
           "Sin Cluster"
          ],
          [
           0
          ],
          [
           1
          ],
          [
           2
          ],
          [
           0
          ],
          [
           0
          ],
          [
           0
          ],
          [
           1
          ],
          [
           0
          ],
          [
           0
          ],
          [
           3
          ],
          [
           1
          ],
          [
           0
          ],
          [
           0
          ],
          [
           0
          ],
          [
           3
          ],
          [
           3
          ],
          [
           "Sin Cluster"
          ],
          [
           0
          ],
          [
           0
          ],
          [
           0
          ],
          [
           4
          ],
          [
           2
          ],
          [
           0
          ],
          [
           1
          ],
          [
           0
          ],
          [
           4
          ],
          [
           0
          ],
          [
           0
          ],
          [
           0
          ],
          [
           0
          ],
          [
           0
          ],
          [
           0
          ],
          [
           0
          ],
          [
           0
          ],
          [
           1
          ],
          [
           3
          ],
          [
           0
          ],
          [
           3
          ],
          [
           0
          ],
          [
           3
          ],
          [
           3
          ],
          [
           0
          ],
          [
           0
          ],
          [
           0
          ],
          [
           0
          ],
          [
           0
          ],
          [
           2
          ],
          [
           4
          ],
          [
           0
          ],
          [
           4
          ],
          [
           0
          ],
          [
           0
          ],
          [
           0
          ],
          [
           0
          ],
          [
           3
          ],
          [
           3
          ],
          [
           0
          ],
          [
           4
          ],
          [
           1
          ],
          [
           0
          ],
          [
           0
          ],
          [
           2
          ],
          [
           0
          ],
          [
           4
          ],
          [
           1
          ],
          [
           0
          ],
          [
           0
          ],
          [
           4
          ],
          [
           0
          ],
          [
           0
          ],
          [
           0
          ],
          [
           0
          ],
          [
           4
          ],
          [
           2
          ],
          [
           1
          ],
          [
           3
          ],
          [
           0
          ],
          [
           2
          ],
          [
           3
          ],
          [
           3
          ],
          [
           0
          ],
          [
           3
          ],
          [
           0
          ],
          [
           0
          ],
          [
           0
          ],
          [
           0
          ],
          [
           3
          ],
          [
           "Sin Cluster"
          ],
          [
           2
          ],
          [
           0
          ],
          [
           0
          ],
          [
           3
          ],
          [
           0
          ],
          [
           0
          ],
          [
           0
          ]
         ],
         "domain": {
          "x": [
           0,
           1
          ],
          "y": [
           0,
           1
          ]
         },
         "hovertemplate": "labels=%{label}<br>dependency_value=%{value}<br>parent=%{parent}<br>id=%{id}<br>cluster=%{customdata[0]}<extra></extra>",
         "ids": [
          "0.0/ABW",
          "3.0/IRL",
          "0.0/IRN",
          "1.0/IRQ",
          "3.0/ISL",
          "1.0/ISR",
          "3.0/ITA",
          "3.0/JAM",
          "0.0/JOR",
          "3.0/JPN",
          "0.0/KAZ",
          "0.0/KEN",
          "0.0/KGZ",
          "0.0/KHM",
          "0.0/KIR",
          "3.0/KNA",
          "0.0/IOT",
          "0.0/IND",
          "0.0/IDN",
          "3.0/HUN",
          "0.0/GHA",
          "0.0/GIB",
          "0.0/GIN",
          "0.0/GMB",
          "0.0/GNB",
          "2.0/GNQ",
          "3.0/GRC",
          "3.0/KOR",
          "3.0/GRD",
          "4.0/GTM",
          "0.0/GUM",
          "3.0/GUY",
          "0.0/HKG",
          "4.0/HND",
          "3.0/HRV",
          "2.0/HTI",
          "0.0/GRL",
          "0.0/KWT",
          "0.0/LAO",
          "1.0/LBN",
          "0.0/VAT",
          "3.0/VCT",
          "1.0/VEN",
          "0.0/VGB",
          "0.0/VNM",
          "0.0/VUT",
          "0.0/WLF",
          "0.0/TLS",
          "0.0/WSM",
          "0.0/ZAF",
          "0.0/ZMB",
          "1.0/ZWE",
          "0.0",
          "1.0",
          "2.0",
          "3.0",
          "1.0/YEM",
          "3.0/GEO",
          "0.0/TKM",
          "0.0/TJK",
          "4.0",
          "1.0/LBY",
          "3.0/LCA",
          "3.0/LIE",
          "0.0/LKA",
          "0.0/LSO",
          "3.0/LTU",
          "0.0/TKL",
          "3.0/LUX",
          "0.0/MAC",
          "2.0/MAR",
          "3.0/MDA",
          "0.0/MDG",
          "0.0/MDV",
          "0.0/TGO",
          "0.0/THA",
          "3.0/LVA",
          "3.0/GBR",
          "0.0/LBR",
          "0.0/GAB",
          "0.0/BWA",
          "Sin Cluster/BVT",
          "0.0/BTN",
          "0.0/BRN",
          "3.0/BRB",
          "0.0/BRA",
          "2.0/BOL",
          "0.0/BMU",
          "3.0/BLZ",
          "1.0/CAF",
          "0.0/BLR",
          "3.0/BIH",
          "3.0/BHS",
          "0.0/BHR",
          "Sin Cluster/GAZ",
          "3.0/BGR",
          "3.0/ALB",
          "0.0/AIA",
          "0.0/AGO",
          "1.0/AFG",
          "0.0/BLM",
          "3.0/CAN",
          "Sin Cluster",
          "3.0/EST",
          "0.0/FLK",
          "3.0/FIN",
          "0.0/ETH",
          "Sin Cluster/ESP",
          "2.0/ESH",
          "0.0/ERI",
          "1.0/EGY",
          "4.0/ECU",
          "0.0/DZA",
          "4.0/DOM",
          "0.0/FJI",
          "0.0/FSM",
          "Sin Cluster/FRE",
          "3.0/FRA",
          "0.0/FRO",
          "Sin Cluster/ATF",
          "1.0/SYR",
          "0.0/SYC",
          "0.0/SXM",
          "0.0/SWZ",
          "3.0/SWE",
          "3.0/ATG",
          "3.0/SUR",
          "0.0/STP",
          "1.0/SSD",
          "0.0/SRB",
          "0.0/SPM",
          "1.0/SOM",
          "0.0/SMR",
          "3.0/SVK",
          "3.0/SVN",
          "0.0/TCA",
          "3.0/BEL",
          "0.0/AUS",
          "3.0/AUT",
          "1.0/AZE",
          "0.0/BDI",
          "0.0/BGD",
          "0.0/BEN",
          "Sin Cluster/BES",
          "0.0/TCD",
          "Sin Cluster/ATA",
          "0.0/ASM",
          "1.0/ARM",
          "2.0/ARG",
          "0.0/ARE",
          "0.0/AND",
          "0.0/BFA",
          "1.0/SDN",
          "0.0/PYF",
          "0.0/QAT",
          "3.0/ROU",
          "1.0/RUS",
          "0.0/RWA",
          "0.0/SAU",
          "0.0/PSE",
          "3.0/PRT",
          "3.0/SGP",
          "Sin Cluster/SGS",
          "0.0/SHN",
          "0.0/SLB",
          "0.0/SLE",
          "4.0/SLV",
          "2.0/PRY",
          "0.0/SEN",
          "1.0/PRK",
          "0.0/NRU",
          "4.0/MEX",
          "0.0/MYS",
          "0.0/MWI",
          "0.0/MUS",
          "0.0/MSR",
          "0.0/MRT",
          "0.0/MNP",
          "0.0/NAM",
          "0.0/MNG",
          "1.0/MMR",
          "3.0/MLT",
          "0.0/MLI",
          "3.0/MKD",
          "0.0/MHL",
          "3.0/POL",
          "3.0/MNE",
          "0.0/NCL",
          "0.0/MOZ",
          "0.0/NFK",
          "0.0/NER",
          "0.0/PLW",
          "2.0/PHL",
          "4.0/PER",
          "0.0/PCN",
          "4.0/PAN",
          "0.0/PAK",
          "0.0/OMN",
          "0.0/PNG",
          "0.0/NPL",
          "3.0/NOR",
          "3.0/NLD",
          "0.0/NIU",
          "4.0/NIC",
          "1.0/NGA",
          "0.0/NZL",
          "0.0/CYM",
          "2.0/CCK",
          "0.0/CHE",
          "4.0/CHL",
          "1.0/CHN",
          "0.0/CIV",
          "0.0/CMR",
          "4.0/COL",
          "0.0/COG",
          "0.0/COK",
          "0.0/COM",
          "0.0/CPV",
          "4.0/CRI",
          "2.0/CUB",
          "1.0/COD",
          "3.0/CYP",
          "0.0/CXR",
          "2.0/USA",
          "3.0/DNK",
          "3.0/DMA",
          "0.0/DJI",
          "3.0/CZE",
          "0.0/UZB",
          "0.0/CUW",
          "0.0/TZA",
          "0.0/UGA",
          "3.0/UKR",
          "Sin Cluster/UMI",
          "2.0/URY",
          "0.0/TUV",
          "0.0/TUN",
          "3.0/TTO",
          "0.0/TON",
          "0.0/TWN",
          "0.0/TUR"
         ],
         "labels": [
          "ABW",
          "IRL",
          "IRN",
          "IRQ",
          "ISL",
          "ISR",
          "ITA",
          "JAM",
          "JOR",
          "JPN",
          "KAZ",
          "KEN",
          "KGZ",
          "KHM",
          "KIR",
          "KNA",
          "IOT",
          "IND",
          "IDN",
          "HUN",
          "GHA",
          "GIB",
          "GIN",
          "GMB",
          "GNB",
          "GNQ",
          "GRC",
          "KOR",
          "GRD",
          "GTM",
          "GUM",
          "GUY",
          "HKG",
          "HND",
          "HRV",
          "HTI",
          "GRL",
          "KWT",
          "LAO",
          "LBN",
          "VAT",
          "VCT",
          "VEN",
          "VGB",
          "VNM",
          "VUT",
          "WLF",
          "TLS",
          "WSM",
          "ZAF",
          "ZMB",
          "ZWE",
          "0.0",
          "1.0",
          "2.0",
          "3.0",
          "YEM",
          "GEO",
          "TKM",
          "TJK",
          "4.0",
          "LBY",
          "LCA",
          "LIE",
          "LKA",
          "LSO",
          "LTU",
          "TKL",
          "LUX",
          "MAC",
          "MAR",
          "MDA",
          "MDG",
          "MDV",
          "TGO",
          "THA",
          "LVA",
          "GBR",
          "LBR",
          "GAB",
          "BWA",
          "BVT",
          "BTN",
          "BRN",
          "BRB",
          "BRA",
          "BOL",
          "BMU",
          "BLZ",
          "CAF",
          "BLR",
          "BIH",
          "BHS",
          "BHR",
          "GAZ",
          "BGR",
          "ALB",
          "AIA",
          "AGO",
          "AFG",
          "BLM",
          "CAN",
          "Sin Cluster",
          "EST",
          "FLK",
          "FIN",
          "ETH",
          "ESP",
          "ESH",
          "ERI",
          "EGY",
          "ECU",
          "DZA",
          "DOM",
          "FJI",
          "FSM",
          "FRE",
          "FRA",
          "FRO",
          "ATF",
          "SYR",
          "SYC",
          "SXM",
          "SWZ",
          "SWE",
          "ATG",
          "SUR",
          "STP",
          "SSD",
          "SRB",
          "SPM",
          "SOM",
          "SMR",
          "SVK",
          "SVN",
          "TCA",
          "BEL",
          "AUS",
          "AUT",
          "AZE",
          "BDI",
          "BGD",
          "BEN",
          "BES",
          "TCD",
          "ATA",
          "ASM",
          "ARM",
          "ARG",
          "ARE",
          "AND",
          "BFA",
          "SDN",
          "PYF",
          "QAT",
          "ROU",
          "RUS",
          "RWA",
          "SAU",
          "PSE",
          "PRT",
          "SGP",
          "SGS",
          "SHN",
          "SLB",
          "SLE",
          "SLV",
          "PRY",
          "SEN",
          "PRK",
          "NRU",
          "MEX",
          "MYS",
          "MWI",
          "MUS",
          "MSR",
          "MRT",
          "MNP",
          "NAM",
          "MNG",
          "MMR",
          "MLT",
          "MLI",
          "MKD",
          "MHL",
          "POL",
          "MNE",
          "NCL",
          "MOZ",
          "NFK",
          "NER",
          "PLW",
          "PHL",
          "PER",
          "PCN",
          "PAN",
          "PAK",
          "OMN",
          "PNG",
          "NPL",
          "NOR",
          "NLD",
          "NIU",
          "NIC",
          "NGA",
          "NZL",
          "CYM",
          "CCK",
          "CHE",
          "CHL",
          "CHN",
          "CIV",
          "CMR",
          "COL",
          "COG",
          "COK",
          "COM",
          "CPV",
          "CRI",
          "CUB",
          "COD",
          "CYP",
          "CXR",
          "USA",
          "DNK",
          "DMA",
          "DJI",
          "CZE",
          "UZB",
          "CUW",
          "TZA",
          "UGA",
          "UKR",
          "UMI",
          "URY",
          "TUV",
          "TUN",
          "TTO",
          "TON",
          "TWN",
          "TUR"
         ],
         "marker": {
          "colors": [
           "rgb(228,26,28)",
           "rgb(55,126,184)",
           "rgb(228,26,28)",
           "rgb(77,175,74)",
           "rgb(55,126,184)",
           "rgb(77,175,74)",
           "rgb(55,126,184)",
           "rgb(55,126,184)",
           "rgb(228,26,28)",
           "rgb(55,126,184)",
           "rgb(228,26,28)",
           "rgb(228,26,28)",
           "rgb(228,26,28)",
           "rgb(228,26,28)",
           "rgb(228,26,28)",
           "rgb(55,126,184)",
           "rgb(228,26,28)",
           "rgb(228,26,28)",
           "rgb(228,26,28)",
           "rgb(55,126,184)",
           "rgb(228,26,28)",
           "rgb(228,26,28)",
           "rgb(228,26,28)",
           "rgb(228,26,28)",
           "rgb(228,26,28)",
           "rgb(152,78,163)",
           "rgb(55,126,184)",
           "rgb(55,126,184)",
           "rgb(55,126,184)",
           "rgb(255,127,0)",
           "rgb(228,26,28)",
           "rgb(55,126,184)",
           "rgb(228,26,28)",
           "rgb(255,127,0)",
           "rgb(55,126,184)",
           "rgb(152,78,163)",
           "rgb(228,26,28)",
           "rgb(228,26,28)",
           "rgb(228,26,28)",
           "rgb(77,175,74)",
           "rgb(228,26,28)",
           "rgb(55,126,184)",
           "rgb(77,175,74)",
           "rgb(228,26,28)",
           "rgb(228,26,28)",
           "rgb(228,26,28)",
           "rgb(228,26,28)",
           "rgb(228,26,28)",
           "rgb(228,26,28)",
           "rgb(228,26,28)",
           "rgb(228,26,28)",
           "rgb(77,175,74)",
           "rgb(228,26,28)",
           "rgb(77,175,74)",
           "rgb(152,78,163)",
           "rgb(55,126,184)",
           "rgb(77,175,74)",
           "rgb(55,126,184)",
           "rgb(228,26,28)",
           "rgb(228,26,28)",
           "rgb(255,127,0)",
           "rgb(77,175,74)",
           "rgb(55,126,184)",
           "rgb(55,126,184)",
           "rgb(228,26,28)",
           "rgb(228,26,28)",
           "rgb(55,126,184)",
           "rgb(228,26,28)",
           "rgb(55,126,184)",
           "rgb(228,26,28)",
           "rgb(152,78,163)",
           "rgb(55,126,184)",
           "rgb(228,26,28)",
           "rgb(228,26,28)",
           "rgb(228,26,28)",
           "rgb(228,26,28)",
           "rgb(55,126,184)",
           "rgb(55,126,184)",
           "rgb(228,26,28)",
           "rgb(228,26,28)",
           "rgb(228,26,28)",
           "rgb(255,255,51)",
           "rgb(228,26,28)",
           "rgb(228,26,28)",
           "rgb(55,126,184)",
           "rgb(228,26,28)",
           "rgb(152,78,163)",
           "rgb(228,26,28)",
           "rgb(55,126,184)",
           "rgb(77,175,74)",
           "rgb(228,26,28)",
           "rgb(55,126,184)",
           "rgb(55,126,184)",
           "rgb(228,26,28)",
           "rgb(255,255,51)",
           "rgb(55,126,184)",
           "rgb(55,126,184)",
           "rgb(228,26,28)",
           "rgb(228,26,28)",
           "rgb(77,175,74)",
           "rgb(228,26,28)",
           "rgb(55,126,184)",
           "rgb(255,255,51)",
           "rgb(55,126,184)",
           "rgb(228,26,28)",
           "rgb(55,126,184)",
           "rgb(228,26,28)",
           "rgb(255,255,51)",
           "rgb(152,78,163)",
           "rgb(228,26,28)",
           "rgb(77,175,74)",
           "rgb(255,127,0)",
           "rgb(228,26,28)",
           "rgb(255,127,0)",
           "rgb(228,26,28)",
           "rgb(228,26,28)",
           "rgb(255,255,51)",
           "rgb(55,126,184)",
           "rgb(228,26,28)",
           "rgb(255,255,51)",
           "rgb(77,175,74)",
           "rgb(228,26,28)",
           "rgb(228,26,28)",
           "rgb(228,26,28)",
           "rgb(55,126,184)",
           "rgb(55,126,184)",
           "rgb(55,126,184)",
           "rgb(228,26,28)",
           "rgb(77,175,74)",
           "rgb(228,26,28)",
           "rgb(228,26,28)",
           "rgb(77,175,74)",
           "rgb(228,26,28)",
           "rgb(55,126,184)",
           "rgb(55,126,184)",
           "rgb(228,26,28)",
           "rgb(55,126,184)",
           "rgb(228,26,28)",
           "rgb(55,126,184)",
           "rgb(77,175,74)",
           "rgb(228,26,28)",
           "rgb(228,26,28)",
           "rgb(228,26,28)",
           "rgb(255,255,51)",
           "rgb(228,26,28)",
           "rgb(255,255,51)",
           "rgb(228,26,28)",
           "rgb(77,175,74)",
           "rgb(152,78,163)",
           "rgb(228,26,28)",
           "rgb(228,26,28)",
           "rgb(228,26,28)",
           "rgb(77,175,74)",
           "rgb(228,26,28)",
           "rgb(228,26,28)",
           "rgb(55,126,184)",
           "rgb(77,175,74)",
           "rgb(228,26,28)",
           "rgb(228,26,28)",
           "rgb(228,26,28)",
           "rgb(55,126,184)",
           "rgb(55,126,184)",
           "rgb(255,255,51)",
           "rgb(228,26,28)",
           "rgb(228,26,28)",
           "rgb(228,26,28)",
           "rgb(255,127,0)",
           "rgb(152,78,163)",
           "rgb(228,26,28)",
           "rgb(77,175,74)",
           "rgb(228,26,28)",
           "rgb(255,127,0)",
           "rgb(228,26,28)",
           "rgb(228,26,28)",
           "rgb(228,26,28)",
           "rgb(228,26,28)",
           "rgb(228,26,28)",
           "rgb(228,26,28)",
           "rgb(228,26,28)",
           "rgb(228,26,28)",
           "rgb(77,175,74)",
           "rgb(55,126,184)",
           "rgb(228,26,28)",
           "rgb(55,126,184)",
           "rgb(228,26,28)",
           "rgb(55,126,184)",
           "rgb(55,126,184)",
           "rgb(228,26,28)",
           "rgb(228,26,28)",
           "rgb(228,26,28)",
           "rgb(228,26,28)",
           "rgb(228,26,28)",
           "rgb(152,78,163)",
           "rgb(255,127,0)",
           "rgb(228,26,28)",
           "rgb(255,127,0)",
           "rgb(228,26,28)",
           "rgb(228,26,28)",
           "rgb(228,26,28)",
           "rgb(228,26,28)",
           "rgb(55,126,184)",
           "rgb(55,126,184)",
           "rgb(228,26,28)",
           "rgb(255,127,0)",
           "rgb(77,175,74)",
           "rgb(228,26,28)",
           "rgb(228,26,28)",
           "rgb(152,78,163)",
           "rgb(228,26,28)",
           "rgb(255,127,0)",
           "rgb(77,175,74)",
           "rgb(228,26,28)",
           "rgb(228,26,28)",
           "rgb(255,127,0)",
           "rgb(228,26,28)",
           "rgb(228,26,28)",
           "rgb(228,26,28)",
           "rgb(228,26,28)",
           "rgb(255,127,0)",
           "rgb(152,78,163)",
           "rgb(77,175,74)",
           "rgb(55,126,184)",
           "rgb(228,26,28)",
           "rgb(152,78,163)",
           "rgb(55,126,184)",
           "rgb(55,126,184)",
           "rgb(228,26,28)",
           "rgb(55,126,184)",
           "rgb(228,26,28)",
           "rgb(228,26,28)",
           "rgb(228,26,28)",
           "rgb(228,26,28)",
           "rgb(55,126,184)",
           "rgb(255,255,51)",
           "rgb(152,78,163)",
           "rgb(228,26,28)",
           "rgb(228,26,28)",
           "rgb(55,126,184)",
           "rgb(228,26,28)",
           "rgb(228,26,28)",
           "rgb(228,26,28)"
          ]
         },
         "name": "",
         "parents": [
          "0.0",
          "3.0",
          "0.0",
          "1.0",
          "3.0",
          "1.0",
          "3.0",
          "3.0",
          "0.0",
          "3.0",
          "0.0",
          "0.0",
          "0.0",
          "0.0",
          "0.0",
          "3.0",
          "0.0",
          "0.0",
          "0.0",
          "3.0",
          "0.0",
          "0.0",
          "0.0",
          "0.0",
          "0.0",
          "2.0",
          "3.0",
          "3.0",
          "3.0",
          "4.0",
          "0.0",
          "3.0",
          "0.0",
          "4.0",
          "3.0",
          "2.0",
          "0.0",
          "0.0",
          "0.0",
          "1.0",
          "0.0",
          "3.0",
          "1.0",
          "0.0",
          "0.0",
          "0.0",
          "0.0",
          "0.0",
          "0.0",
          "0.0",
          "0.0",
          "1.0",
          "",
          "",
          "",
          "",
          "1.0",
          "3.0",
          "0.0",
          "0.0",
          "",
          "1.0",
          "3.0",
          "3.0",
          "0.0",
          "0.0",
          "3.0",
          "0.0",
          "3.0",
          "0.0",
          "2.0",
          "3.0",
          "0.0",
          "0.0",
          "0.0",
          "0.0",
          "3.0",
          "3.0",
          "0.0",
          "0.0",
          "0.0",
          "Sin Cluster",
          "0.0",
          "0.0",
          "3.0",
          "0.0",
          "2.0",
          "0.0",
          "3.0",
          "1.0",
          "0.0",
          "3.0",
          "3.0",
          "0.0",
          "Sin Cluster",
          "3.0",
          "3.0",
          "0.0",
          "0.0",
          "1.0",
          "0.0",
          "3.0",
          "",
          "3.0",
          "0.0",
          "3.0",
          "0.0",
          "Sin Cluster",
          "2.0",
          "0.0",
          "1.0",
          "4.0",
          "0.0",
          "4.0",
          "0.0",
          "0.0",
          "Sin Cluster",
          "3.0",
          "0.0",
          "Sin Cluster",
          "1.0",
          "0.0",
          "0.0",
          "0.0",
          "3.0",
          "3.0",
          "3.0",
          "0.0",
          "1.0",
          "0.0",
          "0.0",
          "1.0",
          "0.0",
          "3.0",
          "3.0",
          "0.0",
          "3.0",
          "0.0",
          "3.0",
          "1.0",
          "0.0",
          "0.0",
          "0.0",
          "Sin Cluster",
          "0.0",
          "Sin Cluster",
          "0.0",
          "1.0",
          "2.0",
          "0.0",
          "0.0",
          "0.0",
          "1.0",
          "0.0",
          "0.0",
          "3.0",
          "1.0",
          "0.0",
          "0.0",
          "0.0",
          "3.0",
          "3.0",
          "Sin Cluster",
          "0.0",
          "0.0",
          "0.0",
          "4.0",
          "2.0",
          "0.0",
          "1.0",
          "0.0",
          "4.0",
          "0.0",
          "0.0",
          "0.0",
          "0.0",
          "0.0",
          "0.0",
          "0.0",
          "0.0",
          "1.0",
          "3.0",
          "0.0",
          "3.0",
          "0.0",
          "3.0",
          "3.0",
          "0.0",
          "0.0",
          "0.0",
          "0.0",
          "0.0",
          "2.0",
          "4.0",
          "0.0",
          "4.0",
          "0.0",
          "0.0",
          "0.0",
          "0.0",
          "3.0",
          "3.0",
          "0.0",
          "4.0",
          "1.0",
          "0.0",
          "0.0",
          "2.0",
          "0.0",
          "4.0",
          "1.0",
          "0.0",
          "0.0",
          "4.0",
          "0.0",
          "0.0",
          "0.0",
          "0.0",
          "4.0",
          "2.0",
          "1.0",
          "3.0",
          "0.0",
          "2.0",
          "3.0",
          "3.0",
          "0.0",
          "3.0",
          "0.0",
          "0.0",
          "0.0",
          "0.0",
          "3.0",
          "Sin Cluster",
          "2.0",
          "0.0",
          "0.0",
          "3.0",
          "0.0",
          "0.0",
          "0.0"
         ],
         "type": "treemap",
         "values": [
          2.934,
          21.899,
          11.224,
          6.469,
          9.644,
          17.471,
          43.206,
          6.466,
          8.507,
          37.194,
          13.206999999999999,
          9.443,
          6.833,
          11.442,
          0.14500000000000002,
          2.036,
          0.146,
          29.901,
          28.47,
          24.84,
          6.953,
          2.616,
          3.978,
          3.4299999999999997,
          1.092,
          3.1559999999999997,
          18.158,
          31.106,
          1.789,
          8.4,
          1.94,
          3.981,
          22.75,
          7.649,
          16.855,
          3.988,
          2.919,
          7.1049999999999995,
          6.389,
          8.63,
          2.548,
          2.011,
          7.524,
          3.078,
          29.139,
          1.954,
          0.28700000000000003,
          1.204,
          1.446,
          20.167,
          7.353,
          6.757,
          852.961,
          208.36599999999999,
          142.002,
          873.278,
          2.879,
          7.912,
          3.158,
          4.469,
          135.832,
          1.277,
          2.411,
          1.086,
          10.971,
          5.8999999999999995,
          17.028,
          1.95,
          16.163,
          6.633,
          14.422,
          8.948,
          6.108,
          2.95,
          4.869,
          29.274,
          15.052,
          33.323,
          2.91,
          2.7880000000000003,
          5.4079999999999995,
          0.939,
          1.231,
          6.479,
          4.139,
          21.723,
          5.502,
          2.914,
          4.072,
          1.42,
          10.698,
          7.82,
          3.9379999999999997,
          7.348,
          4.57,
          18.819,
          10.809,
          1.5419999999999998,
          7.5489999999999995,
          6.139,
          0.012,
          26.346,
          43.638,
          15.182,
          0.089,
          18.809,
          6.274,
          33.085,
          0.188,
          0.868,
          15.238999999999999,
          9.764,
          5.471,
          10.701,
          6.467,
          1.139,
          2.177,
          40.295,
          3.905,
          0.146,
          3.92,
          4.52,
          1.9460000000000002,
          6.4399999999999995,
          21.803,
          2.9379999999999997,
          3.471,
          1.5259999999999998,
          2.7640000000000002,
          15.143,
          0.534,
          1.615,
          2.173,
          20.831,
          17.285,
          1.077,
          34.256,
          21.163,
          27.574,
          6.684,
          2.8169999999999997,
          11.335,
          4.874,
          0.038,
          2.514,
          0.019,
          1.28,
          7.051,
          16.555,
          15.491,
          4.19,
          5.073,
          4.248,
          3.8890000000000002,
          5.433,
          20.392,
          24.034,
          4.437,
          13.23,
          4.57,
          23.117,
          25.274,
          0.008,
          0.529,
          1.237,
          3.369,
          7.367,
          7.4079999999999995,
          6.727,
          3.96,
          1.7289999999999999,
          23.847,
          26.598,
          5.3069999999999995,
          9.407,
          0.6679999999999999,
          4.372,
          0.088,
          7.615,
          4.551,
          11.026,
          11.557,
          6.547,
          8.708,
          1.443,
          34.712,
          5.924,
          2.857,
          7.6979999999999995,
          1.059,
          5.143,
          0.442,
          20.545,
          13.311,
          0.994,
          9.65,
          13.004,
          8.269,
          6.834,
          7.043,
          17.923,
          40.355,
          0.025,
          6.526,
          10.55,
          15.865,
          3.931,
          2.493,
          25.2,
          14.504,
          52.953,
          9.183,
          4.808,
          13.597,
          4.943,
          0.8290000000000001,
          0.8109999999999999,
          1.097,
          10.516,
          4.636,
          5.756,
          12.469,
          1.21,
          54.014,
          22.846,
          1.6320000000000001,
          2.414,
          28.894,
          9.507,
          3.686,
          7.82,
          7.181,
          14.495,
          2.6559999999999997,
          9.095,
          0.669,
          10.251,
          5.485,
          2.814,
          28.722,
          25.113
         ]
        }
       ],
       "layout": {
        "legend": {
         "tracegroupgap": 0
        },
        "template": {
         "data": {
          "bar": [
           {
            "error_x": {
             "color": "#2a3f5f"
            },
            "error_y": {
             "color": "#2a3f5f"
            },
            "marker": {
             "line": {
              "color": "#E5ECF6",
              "width": 0.5
             },
             "pattern": {
              "fillmode": "overlay",
              "size": 10,
              "solidity": 0.2
             }
            },
            "type": "bar"
           }
          ],
          "barpolar": [
           {
            "marker": {
             "line": {
              "color": "#E5ECF6",
              "width": 0.5
             },
             "pattern": {
              "fillmode": "overlay",
              "size": 10,
              "solidity": 0.2
             }
            },
            "type": "barpolar"
           }
          ],
          "carpet": [
           {
            "aaxis": {
             "endlinecolor": "#2a3f5f",
             "gridcolor": "white",
             "linecolor": "white",
             "minorgridcolor": "white",
             "startlinecolor": "#2a3f5f"
            },
            "baxis": {
             "endlinecolor": "#2a3f5f",
             "gridcolor": "white",
             "linecolor": "white",
             "minorgridcolor": "white",
             "startlinecolor": "#2a3f5f"
            },
            "type": "carpet"
           }
          ],
          "choropleth": [
           {
            "colorbar": {
             "outlinewidth": 0,
             "ticks": ""
            },
            "type": "choropleth"
           }
          ],
          "contour": [
           {
            "colorbar": {
             "outlinewidth": 0,
             "ticks": ""
            },
            "colorscale": [
             [
              0,
              "#0d0887"
             ],
             [
              0.1111111111111111,
              "#46039f"
             ],
             [
              0.2222222222222222,
              "#7201a8"
             ],
             [
              0.3333333333333333,
              "#9c179e"
             ],
             [
              0.4444444444444444,
              "#bd3786"
             ],
             [
              0.5555555555555556,
              "#d8576b"
             ],
             [
              0.6666666666666666,
              "#ed7953"
             ],
             [
              0.7777777777777778,
              "#fb9f3a"
             ],
             [
              0.8888888888888888,
              "#fdca26"
             ],
             [
              1,
              "#f0f921"
             ]
            ],
            "type": "contour"
           }
          ],
          "contourcarpet": [
           {
            "colorbar": {
             "outlinewidth": 0,
             "ticks": ""
            },
            "type": "contourcarpet"
           }
          ],
          "heatmap": [
           {
            "colorbar": {
             "outlinewidth": 0,
             "ticks": ""
            },
            "colorscale": [
             [
              0,
              "#0d0887"
             ],
             [
              0.1111111111111111,
              "#46039f"
             ],
             [
              0.2222222222222222,
              "#7201a8"
             ],
             [
              0.3333333333333333,
              "#9c179e"
             ],
             [
              0.4444444444444444,
              "#bd3786"
             ],
             [
              0.5555555555555556,
              "#d8576b"
             ],
             [
              0.6666666666666666,
              "#ed7953"
             ],
             [
              0.7777777777777778,
              "#fb9f3a"
             ],
             [
              0.8888888888888888,
              "#fdca26"
             ],
             [
              1,
              "#f0f921"
             ]
            ],
            "type": "heatmap"
           }
          ],
          "heatmapgl": [
           {
            "colorbar": {
             "outlinewidth": 0,
             "ticks": ""
            },
            "colorscale": [
             [
              0,
              "#0d0887"
             ],
             [
              0.1111111111111111,
              "#46039f"
             ],
             [
              0.2222222222222222,
              "#7201a8"
             ],
             [
              0.3333333333333333,
              "#9c179e"
             ],
             [
              0.4444444444444444,
              "#bd3786"
             ],
             [
              0.5555555555555556,
              "#d8576b"
             ],
             [
              0.6666666666666666,
              "#ed7953"
             ],
             [
              0.7777777777777778,
              "#fb9f3a"
             ],
             [
              0.8888888888888888,
              "#fdca26"
             ],
             [
              1,
              "#f0f921"
             ]
            ],
            "type": "heatmapgl"
           }
          ],
          "histogram": [
           {
            "marker": {
             "pattern": {
              "fillmode": "overlay",
              "size": 10,
              "solidity": 0.2
             }
            },
            "type": "histogram"
           }
          ],
          "histogram2d": [
           {
            "colorbar": {
             "outlinewidth": 0,
             "ticks": ""
            },
            "colorscale": [
             [
              0,
              "#0d0887"
             ],
             [
              0.1111111111111111,
              "#46039f"
             ],
             [
              0.2222222222222222,
              "#7201a8"
             ],
             [
              0.3333333333333333,
              "#9c179e"
             ],
             [
              0.4444444444444444,
              "#bd3786"
             ],
             [
              0.5555555555555556,
              "#d8576b"
             ],
             [
              0.6666666666666666,
              "#ed7953"
             ],
             [
              0.7777777777777778,
              "#fb9f3a"
             ],
             [
              0.8888888888888888,
              "#fdca26"
             ],
             [
              1,
              "#f0f921"
             ]
            ],
            "type": "histogram2d"
           }
          ],
          "histogram2dcontour": [
           {
            "colorbar": {
             "outlinewidth": 0,
             "ticks": ""
            },
            "colorscale": [
             [
              0,
              "#0d0887"
             ],
             [
              0.1111111111111111,
              "#46039f"
             ],
             [
              0.2222222222222222,
              "#7201a8"
             ],
             [
              0.3333333333333333,
              "#9c179e"
             ],
             [
              0.4444444444444444,
              "#bd3786"
             ],
             [
              0.5555555555555556,
              "#d8576b"
             ],
             [
              0.6666666666666666,
              "#ed7953"
             ],
             [
              0.7777777777777778,
              "#fb9f3a"
             ],
             [
              0.8888888888888888,
              "#fdca26"
             ],
             [
              1,
              "#f0f921"
             ]
            ],
            "type": "histogram2dcontour"
           }
          ],
          "mesh3d": [
           {
            "colorbar": {
             "outlinewidth": 0,
             "ticks": ""
            },
            "type": "mesh3d"
           }
          ],
          "parcoords": [
           {
            "line": {
             "colorbar": {
              "outlinewidth": 0,
              "ticks": ""
             }
            },
            "type": "parcoords"
           }
          ],
          "pie": [
           {
            "automargin": true,
            "type": "pie"
           }
          ],
          "scatter": [
           {
            "fillpattern": {
             "fillmode": "overlay",
             "size": 10,
             "solidity": 0.2
            },
            "type": "scatter"
           }
          ],
          "scatter3d": [
           {
            "line": {
             "colorbar": {
              "outlinewidth": 0,
              "ticks": ""
             }
            },
            "marker": {
             "colorbar": {
              "outlinewidth": 0,
              "ticks": ""
             }
            },
            "type": "scatter3d"
           }
          ],
          "scattercarpet": [
           {
            "marker": {
             "colorbar": {
              "outlinewidth": 0,
              "ticks": ""
             }
            },
            "type": "scattercarpet"
           }
          ],
          "scattergeo": [
           {
            "marker": {
             "colorbar": {
              "outlinewidth": 0,
              "ticks": ""
             }
            },
            "type": "scattergeo"
           }
          ],
          "scattergl": [
           {
            "marker": {
             "colorbar": {
              "outlinewidth": 0,
              "ticks": ""
             }
            },
            "type": "scattergl"
           }
          ],
          "scattermapbox": [
           {
            "marker": {
             "colorbar": {
              "outlinewidth": 0,
              "ticks": ""
             }
            },
            "type": "scattermapbox"
           }
          ],
          "scatterpolar": [
           {
            "marker": {
             "colorbar": {
              "outlinewidth": 0,
              "ticks": ""
             }
            },
            "type": "scatterpolar"
           }
          ],
          "scatterpolargl": [
           {
            "marker": {
             "colorbar": {
              "outlinewidth": 0,
              "ticks": ""
             }
            },
            "type": "scatterpolargl"
           }
          ],
          "scatterternary": [
           {
            "marker": {
             "colorbar": {
              "outlinewidth": 0,
              "ticks": ""
             }
            },
            "type": "scatterternary"
           }
          ],
          "surface": [
           {
            "colorbar": {
             "outlinewidth": 0,
             "ticks": ""
            },
            "colorscale": [
             [
              0,
              "#0d0887"
             ],
             [
              0.1111111111111111,
              "#46039f"
             ],
             [
              0.2222222222222222,
              "#7201a8"
             ],
             [
              0.3333333333333333,
              "#9c179e"
             ],
             [
              0.4444444444444444,
              "#bd3786"
             ],
             [
              0.5555555555555556,
              "#d8576b"
             ],
             [
              0.6666666666666666,
              "#ed7953"
             ],
             [
              0.7777777777777778,
              "#fb9f3a"
             ],
             [
              0.8888888888888888,
              "#fdca26"
             ],
             [
              1,
              "#f0f921"
             ]
            ],
            "type": "surface"
           }
          ],
          "table": [
           {
            "cells": {
             "fill": {
              "color": "#EBF0F8"
             },
             "line": {
              "color": "white"
             }
            },
            "header": {
             "fill": {
              "color": "#C8D4E3"
             },
             "line": {
              "color": "white"
             }
            },
            "type": "table"
           }
          ]
         },
         "layout": {
          "annotationdefaults": {
           "arrowcolor": "#2a3f5f",
           "arrowhead": 0,
           "arrowwidth": 1
          },
          "autotypenumbers": "strict",
          "coloraxis": {
           "colorbar": {
            "outlinewidth": 0,
            "ticks": ""
           }
          },
          "colorscale": {
           "diverging": [
            [
             0,
             "#8e0152"
            ],
            [
             0.1,
             "#c51b7d"
            ],
            [
             0.2,
             "#de77ae"
            ],
            [
             0.3,
             "#f1b6da"
            ],
            [
             0.4,
             "#fde0ef"
            ],
            [
             0.5,
             "#f7f7f7"
            ],
            [
             0.6,
             "#e6f5d0"
            ],
            [
             0.7,
             "#b8e186"
            ],
            [
             0.8,
             "#7fbc41"
            ],
            [
             0.9,
             "#4d9221"
            ],
            [
             1,
             "#276419"
            ]
           ],
           "sequential": [
            [
             0,
             "#0d0887"
            ],
            [
             0.1111111111111111,
             "#46039f"
            ],
            [
             0.2222222222222222,
             "#7201a8"
            ],
            [
             0.3333333333333333,
             "#9c179e"
            ],
            [
             0.4444444444444444,
             "#bd3786"
            ],
            [
             0.5555555555555556,
             "#d8576b"
            ],
            [
             0.6666666666666666,
             "#ed7953"
            ],
            [
             0.7777777777777778,
             "#fb9f3a"
            ],
            [
             0.8888888888888888,
             "#fdca26"
            ],
            [
             1,
             "#f0f921"
            ]
           ],
           "sequentialminus": [
            [
             0,
             "#0d0887"
            ],
            [
             0.1111111111111111,
             "#46039f"
            ],
            [
             0.2222222222222222,
             "#7201a8"
            ],
            [
             0.3333333333333333,
             "#9c179e"
            ],
            [
             0.4444444444444444,
             "#bd3786"
            ],
            [
             0.5555555555555556,
             "#d8576b"
            ],
            [
             0.6666666666666666,
             "#ed7953"
            ],
            [
             0.7777777777777778,
             "#fb9f3a"
            ],
            [
             0.8888888888888888,
             "#fdca26"
            ],
            [
             1,
             "#f0f921"
            ]
           ]
          },
          "colorway": [
           "#636efa",
           "#EF553B",
           "#00cc96",
           "#ab63fa",
           "#FFA15A",
           "#19d3f3",
           "#FF6692",
           "#B6E880",
           "#FF97FF",
           "#FECB52"
          ],
          "font": {
           "color": "#2a3f5f"
          },
          "geo": {
           "bgcolor": "white",
           "lakecolor": "white",
           "landcolor": "#E5ECF6",
           "showlakes": true,
           "showland": true,
           "subunitcolor": "white"
          },
          "hoverlabel": {
           "align": "left"
          },
          "hovermode": "closest",
          "mapbox": {
           "style": "light"
          },
          "paper_bgcolor": "white",
          "plot_bgcolor": "#E5ECF6",
          "polar": {
           "angularaxis": {
            "gridcolor": "white",
            "linecolor": "white",
            "ticks": ""
           },
           "bgcolor": "#E5ECF6",
           "radialaxis": {
            "gridcolor": "white",
            "linecolor": "white",
            "ticks": ""
           }
          },
          "scene": {
           "xaxis": {
            "backgroundcolor": "#E5ECF6",
            "gridcolor": "white",
            "gridwidth": 2,
            "linecolor": "white",
            "showbackground": true,
            "ticks": "",
            "zerolinecolor": "white"
           },
           "yaxis": {
            "backgroundcolor": "#E5ECF6",
            "gridcolor": "white",
            "gridwidth": 2,
            "linecolor": "white",
            "showbackground": true,
            "ticks": "",
            "zerolinecolor": "white"
           },
           "zaxis": {
            "backgroundcolor": "#E5ECF6",
            "gridcolor": "white",
            "gridwidth": 2,
            "linecolor": "white",
            "showbackground": true,
            "ticks": "",
            "zerolinecolor": "white"
           }
          },
          "shapedefaults": {
           "line": {
            "color": "#2a3f5f"
           }
          },
          "ternary": {
           "aaxis": {
            "gridcolor": "white",
            "linecolor": "white",
            "ticks": ""
           },
           "baxis": {
            "gridcolor": "white",
            "linecolor": "white",
            "ticks": ""
           },
           "bgcolor": "#E5ECF6",
           "caxis": {
            "gridcolor": "white",
            "linecolor": "white",
            "ticks": ""
           }
          },
          "title": {
           "x": 0.05
          },
          "xaxis": {
           "automargin": true,
           "gridcolor": "white",
           "linecolor": "white",
           "ticks": "",
           "title": {
            "standoff": 15
           },
           "zerolinecolor": "white",
           "zerolinewidth": 2
          },
          "yaxis": {
           "automargin": true,
           "gridcolor": "white",
           "linecolor": "white",
           "ticks": "",
           "title": {
            "standoff": 15
           },
           "zerolinecolor": "white",
           "zerolinewidth": 2
          }
         }
        },
        "title": {
         "text": "Treemap de Dependencias para DEU"
        },
        "treemapcolorway": [
         "rgb(228,26,28)",
         "rgb(55,126,184)",
         "rgb(77,175,74)",
         "rgb(152,78,163)",
         "rgb(255,127,0)",
         "rgb(255,255,51)",
         "rgb(166,86,40)",
         "rgb(247,129,191)",
         "rgb(153,153,153)"
        ]
       }
      }
     },
     "metadata": {},
     "output_type": "display_data"
    },
    {
     "data": {
      "application/vnd.plotly.v1+json": {
       "config": {
        "plotlyServerURL": "https://plot.ly"
       },
       "data": [
        {
         "branchvalues": "total",
         "customdata": [
          [
           0
          ],
          [
           3
          ],
          [
           0
          ],
          [
           1
          ],
          [
           3
          ],
          [
           1
          ],
          [
           3
          ],
          [
           3
          ],
          [
           0
          ],
          [
           0
          ],
          [
           0
          ],
          [
           0
          ],
          [
           0
          ],
          [
           0
          ],
          [
           0
          ],
          [
           3
          ],
          [
           3
          ],
          [
           3
          ],
          [
           0
          ],
          [
           0
          ],
          [
           3
          ],
          [
           0
          ],
          [
           0
          ],
          [
           0
          ],
          [
           0
          ],
          [
           0
          ],
          [
           2
          ],
          [
           3
          ],
          [
           0
          ],
          [
           3
          ],
          [
           4
          ],
          [
           0
          ],
          [
           3
          ],
          [
           0
          ],
          [
           4
          ],
          [
           3
          ],
          [
           2
          ],
          [
           0
          ],
          [
           3
          ],
          [
           0
          ],
          [
           4
          ],
          [
           0
          ],
          [
           3
          ],
          [
           0
          ],
          [
           0
          ],
          [
           0
          ],
          [
           0
          ],
          [
           0
          ],
          [
           0
          ],
          [
           0
          ],
          [
           0
          ],
          [
           0
          ],
          [
           1
          ],
          [
           0
          ],
          [
           1
          ],
          [
           2
          ],
          [
           3
          ],
          [
           1
          ],
          [
           1
          ],
          [
           1
          ],
          [
           0
          ],
          [
           1
          ],
          [
           3
          ],
          [
           3
          ],
          [
           0
          ],
          [
           0
          ],
          [
           3
          ],
          [
           3
          ],
          [
           3
          ],
          [
           3
          ],
          [
           2
          ],
          [
           3
          ],
          [
           0
          ],
          [
           0
          ],
          [
           4
          ],
          [
           0
          ],
          [
           3
          ],
          [
           0
          ],
          [
           3
          ],
          [
           0
          ],
          [
           0
          ],
          [
           0
          ],
          [
           "Sin Cluster"
          ],
          [
           0
          ],
          [
           0
          ],
          [
           3
          ],
          [
           0
          ],
          [
           2
          ],
          [
           0
          ],
          [
           3
          ],
          [
           0
          ],
          [
           0
          ],
          [
           3
          ],
          [
           3
          ],
          [
           0
          ],
          [
           3
          ],
          [
           0
          ],
          [
           "Sin Cluster"
          ],
          [
           3
          ],
          [
           0
          ],
          [
           0
          ],
          [
           1
          ],
          [
           1
          ],
          [
           3
          ],
          [
           "Sin Cluster"
          ],
          [
           2
          ],
          [
           0
          ],
          [
           3
          ],
          [
           0
          ],
          [
           3
          ],
          [
           0
          ],
          [
           1
          ],
          [
           4
          ],
          [
           0
          ],
          [
           0
          ],
          [
           3
          ],
          [
           0
          ],
          [
           0
          ],
          [
           "Sin Cluster"
          ],
          [
           0
          ],
          [
           0
          ],
          [
           0
          ],
          [
           0
          ],
          [
           1
          ],
          [
           "Sin Cluster"
          ],
          [
           0
          ],
          [
           3
          ],
          [
           3
          ],
          [
           3
          ],
          [
           3
          ],
          [
           0
          ],
          [
           1
          ],
          [
           0
          ],
          [
           0
          ],
          [
           0
          ],
          [
           0
          ],
          [
           "Sin Cluster"
          ],
          [
           3
          ],
          [
           0
          ],
          [
           3
          ],
          [
           0
          ],
          [
           3
          ],
          [
           0
          ],
          [
           1
          ],
          [
           0
          ],
          [
           0
          ],
          [
           0
          ],
          [
           2
          ],
          [
           "Sin Cluster"
          ],
          [
           0
          ],
          [
           0
          ],
          [
           1
          ],
          [
           0
          ],
          [
           "Sin Cluster"
          ],
          [
           1
          ],
          [
           0
          ],
          [
           0
          ],
          [
           1
          ],
          [
           0
          ],
          [
           3
          ],
          [
           3
          ],
          [
           2
          ],
          [
           0
          ],
          [
           0
          ],
          [
           4
          ],
          [
           0
          ],
          [
           1
          ],
          [
           0
          ],
          [
           0
          ],
          [
           0
          ],
          [
           0
          ],
          [
           0
          ],
          [
           0
          ],
          [
           3
          ],
          [
           3
          ],
          [
           0
          ],
          [
           0
          ],
          [
           0
          ],
          [
           0
          ],
          [
           0
          ],
          [
           0
          ],
          [
           0
          ],
          [
           0
          ],
          [
           0
          ],
          [
           0
          ],
          [
           0
          ],
          [
           1
          ],
          [
           4
          ],
          [
           0
          ],
          [
           3
          ],
          [
           0
          ],
          [
           1
          ],
          [
           3
          ],
          [
           0
          ],
          [
           0
          ],
          [
           4
          ],
          [
           0
          ],
          [
           2
          ],
          [
           4
          ],
          [
           0
          ],
          [
           0
          ],
          [
           0
          ],
          [
           0
          ],
          [
           3
          ],
          [
           1
          ],
          [
           1
          ],
          [
           0
          ],
          [
           0
          ],
          [
           4
          ],
          [
           3
          ],
          [
           0
          ],
          [
           4
          ],
          [
           1
          ],
          [
           0
          ],
          [
           0
          ],
          [
           4
          ],
          [
           0
          ],
          [
           0
          ],
          [
           0
          ],
          [
           0
          ],
          [
           0
          ],
          [
           3
          ],
          [
           0
          ],
          [
           4
          ],
          [
           3
          ],
          [
           0
          ],
          [
           0
          ],
          [
           3
          ],
          [
           3
          ],
          [
           3
          ],
          [
           2
          ],
          [
           2
          ],
          [
           2
          ],
          [
           0
          ],
          [
           0
          ],
          [
           0
          ],
          [
           0
          ],
          [
           0
          ],
          [
           3
          ],
          [
           "Sin Cluster"
          ],
          [
           2
          ]
         ],
         "domain": {
          "x": [
           0,
           1
          ],
          "y": [
           0,
           1
          ]
         },
         "hovertemplate": "labels=%{label}<br>dependency_value=%{value}<br>parent=%{parent}<br>id=%{id}<br>cluster=%{customdata[0]}<extra></extra>",
         "ids": [
          "0.0/ABW",
          "3.0/IRL",
          "0.0/IRN",
          "1.0/IRQ",
          "3.0/ISL",
          "1.0/ISR",
          "3.0/ITA",
          "3.0/JAM",
          "0.0/IOT",
          "0.0/JOR",
          "0.0/KAZ",
          "0.0/KEN",
          "0.0/KGZ",
          "0.0/KHM",
          "0.0/KIR",
          "3.0/KNA",
          "3.0/KOR",
          "3.0/JPN",
          "0.0/KWT",
          "0.0/IND",
          "3.0/HUN",
          "0.0/GHA",
          "0.0/GIB",
          "0.0/GIN",
          "0.0/GMB",
          "0.0/GNB",
          "2.0/GNQ",
          "3.0/GRC",
          "0.0/IDN",
          "3.0/GRD",
          "4.0/GTM",
          "0.0/GUM",
          "3.0/GUY",
          "0.0/HKG",
          "4.0/HND",
          "3.0/HRV",
          "2.0/HTI",
          "0.0/GRL",
          "3.0/GEO",
          "0.0/LAO",
          "4.0",
          "0.0/TON",
          "3.0/TTO",
          "0.0/TUN",
          "0.0/TUR",
          "0.0/TUV",
          "0.0/VUT",
          "0.0/WLF",
          "0.0/TLS",
          "0.0/WSM",
          "0.0/ZAF",
          "0.0/ZMB",
          "1.0/ZWE",
          "0.0",
          "1.0",
          "2.0",
          "3.0",
          "1.0/YEM",
          "1.0/LBN",
          "1.0/MMR",
          "0.0/MLI",
          "1.0/LBY",
          "3.0/LCA",
          "3.0/LIE",
          "0.0/LKA",
          "0.0/LSO",
          "3.0/LTU",
          "3.0/LUX",
          "3.0/MLT",
          "3.0/LVA",
          "2.0/MAR",
          "3.0/MDA",
          "0.0/MDG",
          "0.0/MDV",
          "4.0/MEX",
          "0.0/MHL",
          "3.0/MKD",
          "0.0/MAC",
          "3.0/GBR",
          "0.0/LBR",
          "0.0/GAB",
          "0.0/BWA",
          "Sin Cluster/BVT",
          "0.0/BTN",
          "0.0/BRN",
          "3.0/BRB",
          "0.0/BRA",
          "2.0/BOL",
          "0.0/BMU",
          "3.0/BLZ",
          "0.0/BLR",
          "0.0/BLM",
          "3.0/BIH",
          "3.0/BHS",
          "0.0/BHR",
          "3.0/BGR",
          "0.0/BGD",
          "Sin Cluster/GAZ",
          "3.0/ALB",
          "0.0/AIA",
          "0.0/AGO",
          "1.0/AFG",
          "1.0/CAF",
          "3.0/CAN",
          "Sin Cluster",
          "2.0/ESH",
          "0.0/FJI",
          "3.0/FIN",
          "0.0/ETH",
          "3.0/EST",
          "0.0/ERI",
          "1.0/EGY",
          "4.0/ECU",
          "0.0/DZA",
          "0.0/FLK",
          "3.0/FRA",
          "0.0/FRO",
          "0.0/FSM",
          "Sin Cluster/FRE",
          "0.0/ASM",
          "0.0/BEN",
          "0.0/TCD",
          "0.0/TCA",
          "1.0/SYR",
          "Sin Cluster/ATA",
          "0.0/SWZ",
          "3.0/SWE",
          "3.0/SVN",
          "3.0/SVK",
          "3.0/SUR",
          "0.0/STP",
          "1.0/SSD",
          "0.0/SXM",
          "0.0/SYC",
          "0.0/BFA",
          "0.0/AND",
          "Sin Cluster/ATF",
          "3.0/ATG",
          "0.0/AUS",
          "3.0/AUT",
          "0.0/BDI",
          "3.0/BEL",
          "0.0/TKM",
          "1.0/AZE",
          "0.0/TJK",
          "0.0/TKL",
          "0.0/ARE",
          "2.0/ARG",
          "Sin Cluster/BES",
          "0.0/TGO",
          "0.0/THA",
          "1.0/ARM",
          "0.0/QAT",
          "Sin Cluster/SGS",
          "1.0/RUS",
          "0.0/RWA",
          "0.0/SAU",
          "1.0/SDN",
          "0.0/SEN",
          "3.0/SGP",
          "3.0/ROU",
          "2.0/PRY",
          "0.0/SLB",
          "0.0/SLE",
          "4.0/SLV",
          "0.0/SMR",
          "1.0/SOM",
          "0.0/SPM",
          "0.0/SRB",
          "0.0/PYF",
          "0.0/SHN",
          "0.0/PSE",
          "0.0/NZL",
          "3.0/PRT",
          "3.0/MNE",
          "0.0/MNG",
          "0.0/MNP",
          "0.0/MOZ",
          "0.0/MRT",
          "0.0/MSR",
          "0.0/MUS",
          "0.0/MYS",
          "0.0/NAM",
          "0.0/NCL",
          "0.0/NER",
          "0.0/NFK",
          "1.0/NGA",
          "4.0/NIC",
          "0.0/MWI",
          "3.0/NLD",
          "0.0/NIU",
          "1.0/PRK",
          "3.0/POL",
          "0.0/PNG",
          "0.0/PLW",
          "4.0/PER",
          "0.0/PCN",
          "2.0/PHL",
          "4.0/PAN",
          "0.0/PAK",
          "0.0/OMN",
          "0.0/NRU",
          "0.0/NPL",
          "3.0/NOR",
          "1.0/CHN",
          "1.0/VEN",
          "0.0/VGB",
          "0.0/VNM",
          "4.0/CHL",
          "3.0/VCT",
          "0.0/CIV",
          "4.0/CRI",
          "1.0/COD",
          "0.0/COG",
          "0.0/COK",
          "4.0/COL",
          "0.0/COM",
          "0.0/CPV",
          "0.0/VAT",
          "0.0/CMR",
          "0.0/UZB",
          "3.0/DMA",
          "0.0/CYM",
          "4.0/DOM",
          "3.0/DNK",
          "0.0/CUW",
          "0.0/DJI",
          "3.0/DEU",
          "3.0/CZE",
          "3.0/CYP",
          "2.0/USA",
          "2.0/CUB",
          "2.0/CCK",
          "0.0/CHE",
          "0.0/CXR",
          "0.0/TWN",
          "0.0/TZA",
          "0.0/UGA",
          "3.0/UKR",
          "Sin Cluster/UMI",
          "2.0/URY"
         ],
         "labels": [
          "ABW",
          "IRL",
          "IRN",
          "IRQ",
          "ISL",
          "ISR",
          "ITA",
          "JAM",
          "IOT",
          "JOR",
          "KAZ",
          "KEN",
          "KGZ",
          "KHM",
          "KIR",
          "KNA",
          "KOR",
          "JPN",
          "KWT",
          "IND",
          "HUN",
          "GHA",
          "GIB",
          "GIN",
          "GMB",
          "GNB",
          "GNQ",
          "GRC",
          "IDN",
          "GRD",
          "GTM",
          "GUM",
          "GUY",
          "HKG",
          "HND",
          "HRV",
          "HTI",
          "GRL",
          "GEO",
          "LAO",
          "4.0",
          "TON",
          "TTO",
          "TUN",
          "TUR",
          "TUV",
          "VUT",
          "WLF",
          "TLS",
          "WSM",
          "ZAF",
          "ZMB",
          "ZWE",
          "0.0",
          "1.0",
          "2.0",
          "3.0",
          "YEM",
          "LBN",
          "MMR",
          "MLI",
          "LBY",
          "LCA",
          "LIE",
          "LKA",
          "LSO",
          "LTU",
          "LUX",
          "MLT",
          "LVA",
          "MAR",
          "MDA",
          "MDG",
          "MDV",
          "MEX",
          "MHL",
          "MKD",
          "MAC",
          "GBR",
          "LBR",
          "GAB",
          "BWA",
          "BVT",
          "BTN",
          "BRN",
          "BRB",
          "BRA",
          "BOL",
          "BMU",
          "BLZ",
          "BLR",
          "BLM",
          "BIH",
          "BHS",
          "BHR",
          "BGR",
          "BGD",
          "GAZ",
          "ALB",
          "AIA",
          "AGO",
          "AFG",
          "CAF",
          "CAN",
          "Sin Cluster",
          "ESH",
          "FJI",
          "FIN",
          "ETH",
          "EST",
          "ERI",
          "EGY",
          "ECU",
          "DZA",
          "FLK",
          "FRA",
          "FRO",
          "FSM",
          "FRE",
          "ASM",
          "BEN",
          "TCD",
          "TCA",
          "SYR",
          "ATA",
          "SWZ",
          "SWE",
          "SVN",
          "SVK",
          "SUR",
          "STP",
          "SSD",
          "SXM",
          "SYC",
          "BFA",
          "AND",
          "ATF",
          "ATG",
          "AUS",
          "AUT",
          "BDI",
          "BEL",
          "TKM",
          "AZE",
          "TJK",
          "TKL",
          "ARE",
          "ARG",
          "BES",
          "TGO",
          "THA",
          "ARM",
          "QAT",
          "SGS",
          "RUS",
          "RWA",
          "SAU",
          "SDN",
          "SEN",
          "SGP",
          "ROU",
          "PRY",
          "SLB",
          "SLE",
          "SLV",
          "SMR",
          "SOM",
          "SPM",
          "SRB",
          "PYF",
          "SHN",
          "PSE",
          "NZL",
          "PRT",
          "MNE",
          "MNG",
          "MNP",
          "MOZ",
          "MRT",
          "MSR",
          "MUS",
          "MYS",
          "NAM",
          "NCL",
          "NER",
          "NFK",
          "NGA",
          "NIC",
          "MWI",
          "NLD",
          "NIU",
          "PRK",
          "POL",
          "PNG",
          "PLW",
          "PER",
          "PCN",
          "PHL",
          "PAN",
          "PAK",
          "OMN",
          "NRU",
          "NPL",
          "NOR",
          "CHN",
          "VEN",
          "VGB",
          "VNM",
          "CHL",
          "VCT",
          "CIV",
          "CRI",
          "COD",
          "COG",
          "COK",
          "COL",
          "COM",
          "CPV",
          "VAT",
          "CMR",
          "UZB",
          "DMA",
          "CYM",
          "DOM",
          "DNK",
          "CUW",
          "DJI",
          "DEU",
          "CZE",
          "CYP",
          "USA",
          "CUB",
          "CCK",
          "CHE",
          "CXR",
          "TWN",
          "TZA",
          "UGA",
          "UKR",
          "UMI",
          "URY"
         ],
         "marker": {
          "colors": [
           "rgb(228,26,28)",
           "rgb(55,126,184)",
           "rgb(228,26,28)",
           "rgb(77,175,74)",
           "rgb(55,126,184)",
           "rgb(77,175,74)",
           "rgb(55,126,184)",
           "rgb(55,126,184)",
           "rgb(228,26,28)",
           "rgb(228,26,28)",
           "rgb(228,26,28)",
           "rgb(228,26,28)",
           "rgb(228,26,28)",
           "rgb(228,26,28)",
           "rgb(228,26,28)",
           "rgb(55,126,184)",
           "rgb(55,126,184)",
           "rgb(55,126,184)",
           "rgb(228,26,28)",
           "rgb(228,26,28)",
           "rgb(55,126,184)",
           "rgb(228,26,28)",
           "rgb(228,26,28)",
           "rgb(228,26,28)",
           "rgb(228,26,28)",
           "rgb(228,26,28)",
           "rgb(152,78,163)",
           "rgb(55,126,184)",
           "rgb(228,26,28)",
           "rgb(55,126,184)",
           "rgb(255,127,0)",
           "rgb(228,26,28)",
           "rgb(55,126,184)",
           "rgb(228,26,28)",
           "rgb(255,127,0)",
           "rgb(55,126,184)",
           "rgb(152,78,163)",
           "rgb(228,26,28)",
           "rgb(55,126,184)",
           "rgb(228,26,28)",
           "rgb(255,127,0)",
           "rgb(228,26,28)",
           "rgb(55,126,184)",
           "rgb(228,26,28)",
           "rgb(228,26,28)",
           "rgb(228,26,28)",
           "rgb(228,26,28)",
           "rgb(228,26,28)",
           "rgb(228,26,28)",
           "rgb(228,26,28)",
           "rgb(228,26,28)",
           "rgb(228,26,28)",
           "rgb(77,175,74)",
           "rgb(228,26,28)",
           "rgb(77,175,74)",
           "rgb(152,78,163)",
           "rgb(55,126,184)",
           "rgb(77,175,74)",
           "rgb(77,175,74)",
           "rgb(77,175,74)",
           "rgb(228,26,28)",
           "rgb(77,175,74)",
           "rgb(55,126,184)",
           "rgb(55,126,184)",
           "rgb(228,26,28)",
           "rgb(228,26,28)",
           "rgb(55,126,184)",
           "rgb(55,126,184)",
           "rgb(55,126,184)",
           "rgb(55,126,184)",
           "rgb(152,78,163)",
           "rgb(55,126,184)",
           "rgb(228,26,28)",
           "rgb(228,26,28)",
           "rgb(255,127,0)",
           "rgb(228,26,28)",
           "rgb(55,126,184)",
           "rgb(228,26,28)",
           "rgb(55,126,184)",
           "rgb(228,26,28)",
           "rgb(228,26,28)",
           "rgb(228,26,28)",
           "rgb(255,255,51)",
           "rgb(228,26,28)",
           "rgb(228,26,28)",
           "rgb(55,126,184)",
           "rgb(228,26,28)",
           "rgb(152,78,163)",
           "rgb(228,26,28)",
           "rgb(55,126,184)",
           "rgb(228,26,28)",
           "rgb(228,26,28)",
           "rgb(55,126,184)",
           "rgb(55,126,184)",
           "rgb(228,26,28)",
           "rgb(55,126,184)",
           "rgb(228,26,28)",
           "rgb(255,255,51)",
           "rgb(55,126,184)",
           "rgb(228,26,28)",
           "rgb(228,26,28)",
           "rgb(77,175,74)",
           "rgb(77,175,74)",
           "rgb(55,126,184)",
           "rgb(255,255,51)",
           "rgb(152,78,163)",
           "rgb(228,26,28)",
           "rgb(55,126,184)",
           "rgb(228,26,28)",
           "rgb(55,126,184)",
           "rgb(228,26,28)",
           "rgb(77,175,74)",
           "rgb(255,127,0)",
           "rgb(228,26,28)",
           "rgb(228,26,28)",
           "rgb(55,126,184)",
           "rgb(228,26,28)",
           "rgb(228,26,28)",
           "rgb(255,255,51)",
           "rgb(228,26,28)",
           "rgb(228,26,28)",
           "rgb(228,26,28)",
           "rgb(228,26,28)",
           "rgb(77,175,74)",
           "rgb(255,255,51)",
           "rgb(228,26,28)",
           "rgb(55,126,184)",
           "rgb(55,126,184)",
           "rgb(55,126,184)",
           "rgb(55,126,184)",
           "rgb(228,26,28)",
           "rgb(77,175,74)",
           "rgb(228,26,28)",
           "rgb(228,26,28)",
           "rgb(228,26,28)",
           "rgb(228,26,28)",
           "rgb(255,255,51)",
           "rgb(55,126,184)",
           "rgb(228,26,28)",
           "rgb(55,126,184)",
           "rgb(228,26,28)",
           "rgb(55,126,184)",
           "rgb(228,26,28)",
           "rgb(77,175,74)",
           "rgb(228,26,28)",
           "rgb(228,26,28)",
           "rgb(228,26,28)",
           "rgb(152,78,163)",
           "rgb(255,255,51)",
           "rgb(228,26,28)",
           "rgb(228,26,28)",
           "rgb(77,175,74)",
           "rgb(228,26,28)",
           "rgb(255,255,51)",
           "rgb(77,175,74)",
           "rgb(228,26,28)",
           "rgb(228,26,28)",
           "rgb(77,175,74)",
           "rgb(228,26,28)",
           "rgb(55,126,184)",
           "rgb(55,126,184)",
           "rgb(152,78,163)",
           "rgb(228,26,28)",
           "rgb(228,26,28)",
           "rgb(255,127,0)",
           "rgb(228,26,28)",
           "rgb(77,175,74)",
           "rgb(228,26,28)",
           "rgb(228,26,28)",
           "rgb(228,26,28)",
           "rgb(228,26,28)",
           "rgb(228,26,28)",
           "rgb(228,26,28)",
           "rgb(55,126,184)",
           "rgb(55,126,184)",
           "rgb(228,26,28)",
           "rgb(228,26,28)",
           "rgb(228,26,28)",
           "rgb(228,26,28)",
           "rgb(228,26,28)",
           "rgb(228,26,28)",
           "rgb(228,26,28)",
           "rgb(228,26,28)",
           "rgb(228,26,28)",
           "rgb(228,26,28)",
           "rgb(228,26,28)",
           "rgb(77,175,74)",
           "rgb(255,127,0)",
           "rgb(228,26,28)",
           "rgb(55,126,184)",
           "rgb(228,26,28)",
           "rgb(77,175,74)",
           "rgb(55,126,184)",
           "rgb(228,26,28)",
           "rgb(228,26,28)",
           "rgb(255,127,0)",
           "rgb(228,26,28)",
           "rgb(152,78,163)",
           "rgb(255,127,0)",
           "rgb(228,26,28)",
           "rgb(228,26,28)",
           "rgb(228,26,28)",
           "rgb(228,26,28)",
           "rgb(55,126,184)",
           "rgb(77,175,74)",
           "rgb(77,175,74)",
           "rgb(228,26,28)",
           "rgb(228,26,28)",
           "rgb(255,127,0)",
           "rgb(55,126,184)",
           "rgb(228,26,28)",
           "rgb(255,127,0)",
           "rgb(77,175,74)",
           "rgb(228,26,28)",
           "rgb(228,26,28)",
           "rgb(255,127,0)",
           "rgb(228,26,28)",
           "rgb(228,26,28)",
           "rgb(228,26,28)",
           "rgb(228,26,28)",
           "rgb(228,26,28)",
           "rgb(55,126,184)",
           "rgb(228,26,28)",
           "rgb(255,127,0)",
           "rgb(55,126,184)",
           "rgb(228,26,28)",
           "rgb(228,26,28)",
           "rgb(55,126,184)",
           "rgb(55,126,184)",
           "rgb(55,126,184)",
           "rgb(152,78,163)",
           "rgb(152,78,163)",
           "rgb(152,78,163)",
           "rgb(228,26,28)",
           "rgb(228,26,28)",
           "rgb(228,26,28)",
           "rgb(228,26,28)",
           "rgb(228,26,28)",
           "rgb(55,126,184)",
           "rgb(255,255,51)",
           "rgb(152,78,163)"
          ]
         },
         "name": "",
         "parents": [
          "0.0",
          "3.0",
          "0.0",
          "1.0",
          "3.0",
          "1.0",
          "3.0",
          "3.0",
          "0.0",
          "0.0",
          "0.0",
          "0.0",
          "0.0",
          "0.0",
          "0.0",
          "3.0",
          "3.0",
          "3.0",
          "0.0",
          "0.0",
          "3.0",
          "0.0",
          "0.0",
          "0.0",
          "0.0",
          "0.0",
          "2.0",
          "3.0",
          "0.0",
          "3.0",
          "4.0",
          "0.0",
          "3.0",
          "0.0",
          "4.0",
          "3.0",
          "2.0",
          "0.0",
          "3.0",
          "0.0",
          "",
          "0.0",
          "3.0",
          "0.0",
          "0.0",
          "0.0",
          "0.0",
          "0.0",
          "0.0",
          "0.0",
          "0.0",
          "0.0",
          "1.0",
          "",
          "",
          "",
          "",
          "1.0",
          "1.0",
          "1.0",
          "0.0",
          "1.0",
          "3.0",
          "3.0",
          "0.0",
          "0.0",
          "3.0",
          "3.0",
          "3.0",
          "3.0",
          "2.0",
          "3.0",
          "0.0",
          "0.0",
          "4.0",
          "0.0",
          "3.0",
          "0.0",
          "3.0",
          "0.0",
          "0.0",
          "0.0",
          "Sin Cluster",
          "0.0",
          "0.0",
          "3.0",
          "0.0",
          "2.0",
          "0.0",
          "3.0",
          "0.0",
          "0.0",
          "3.0",
          "3.0",
          "0.0",
          "3.0",
          "0.0",
          "Sin Cluster",
          "3.0",
          "0.0",
          "0.0",
          "1.0",
          "1.0",
          "3.0",
          "",
          "2.0",
          "0.0",
          "3.0",
          "0.0",
          "3.0",
          "0.0",
          "1.0",
          "4.0",
          "0.0",
          "0.0",
          "3.0",
          "0.0",
          "0.0",
          "Sin Cluster",
          "0.0",
          "0.0",
          "0.0",
          "0.0",
          "1.0",
          "Sin Cluster",
          "0.0",
          "3.0",
          "3.0",
          "3.0",
          "3.0",
          "0.0",
          "1.0",
          "0.0",
          "0.0",
          "0.0",
          "0.0",
          "Sin Cluster",
          "3.0",
          "0.0",
          "3.0",
          "0.0",
          "3.0",
          "0.0",
          "1.0",
          "0.0",
          "0.0",
          "0.0",
          "2.0",
          "Sin Cluster",
          "0.0",
          "0.0",
          "1.0",
          "0.0",
          "Sin Cluster",
          "1.0",
          "0.0",
          "0.0",
          "1.0",
          "0.0",
          "3.0",
          "3.0",
          "2.0",
          "0.0",
          "0.0",
          "4.0",
          "0.0",
          "1.0",
          "0.0",
          "0.0",
          "0.0",
          "0.0",
          "0.0",
          "0.0",
          "3.0",
          "3.0",
          "0.0",
          "0.0",
          "0.0",
          "0.0",
          "0.0",
          "0.0",
          "0.0",
          "0.0",
          "0.0",
          "0.0",
          "0.0",
          "1.0",
          "4.0",
          "0.0",
          "3.0",
          "0.0",
          "1.0",
          "3.0",
          "0.0",
          "0.0",
          "4.0",
          "0.0",
          "2.0",
          "4.0",
          "0.0",
          "0.0",
          "0.0",
          "0.0",
          "3.0",
          "1.0",
          "1.0",
          "0.0",
          "0.0",
          "4.0",
          "3.0",
          "0.0",
          "4.0",
          "1.0",
          "0.0",
          "0.0",
          "4.0",
          "0.0",
          "0.0",
          "0.0",
          "0.0",
          "0.0",
          "3.0",
          "0.0",
          "4.0",
          "3.0",
          "0.0",
          "0.0",
          "3.0",
          "3.0",
          "3.0",
          "2.0",
          "2.0",
          "2.0",
          "0.0",
          "0.0",
          "0.0",
          "0.0",
          "0.0",
          "3.0",
          "Sin Cluster",
          "2.0"
         ],
         "type": "treemap",
         "values": [
          2.934,
          22.062,
          11.299,
          6.526,
          9.589,
          17.561,
          43.643,
          6.457,
          0.146,
          8.513,
          13.168000000000001,
          9.367,
          6.829,
          11.128,
          0.14400000000000002,
          2.036,
          30.879,
          37.178,
          7.1370000000000005,
          29.605,
          23.595,
          6.997,
          2.616,
          4.021,
          3.4299999999999997,
          1.092,
          3.182,
          18.053,
          28.374,
          1.79,
          8.41,
          1.939,
          3.977,
          22.722,
          7.622,
          16.717,
          3.99,
          2.88,
          7.91,
          6.33,
          136.988,
          2.814,
          5.522,
          10.267,
          24.531,
          0.669,
          1.9529999999999998,
          0.28200000000000003,
          1.204,
          1.446,
          20.056,
          7.378,
          6.781,
          849.64,
          207.425,
          143.102,
          912.412,
          2.88,
          8.628,
          10.915,
          6.534,
          1.3199999999999998,
          2.411,
          1.086,
          10.953,
          5.8919999999999995,
          16.69,
          16.016,
          11.527,
          14.952,
          15.373,
          8.937,
          5.963,
          2.944,
          24.073,
          1.451,
          8.583,
          6.643,
          33.548,
          2.909,
          2.8120000000000003,
          5.406,
          0.939,
          1.232,
          6.49,
          4.159,
          22.222,
          5.523,
          2.919,
          4.101,
          10.59,
          0.012,
          7.685,
          3.932,
          7.42,
          18.728,
          11.163,
          4.57,
          10.803,
          1.5419999999999998,
          7.589,
          6.141,
          1.42,
          26.581,
          10.557,
          0.188,
          6.482,
          18.563,
          6.229,
          15.073,
          0.868,
          15.324,
          9.693999999999999,
          5.71,
          0.119,
          41.781,
          3.89,
          1.137,
          2.181,
          1.279,
          4.879,
          2.514,
          1.077,
          3.919,
          0.019,
          6.504,
          21.553,
          17.045,
          20.041,
          3.471,
          1.525,
          2.7640000000000002,
          1.9460000000000002,
          4.521,
          5.0809999999999995,
          4.195,
          0.146,
          2.9379999999999997,
          21.582,
          24.757,
          2.812,
          32.685,
          3.153,
          6.682,
          4.471,
          1.95,
          15.627,
          16.738,
          0.038,
          4.877,
          28.672,
          7.055,
          5.494,
          0.008,
          22.978,
          4.432,
          13.373,
          4.261,
          6.76,
          24.741,
          20.239,
          7.855,
          1.237,
          3.364,
          7.373,
          2.173,
          1.615,
          0.534,
          14.954,
          3.887,
          0.529,
          4.57,
          16.041,
          26.204,
          5.924,
          4.676,
          0.088,
          7.716,
          4.465,
          0.6679999999999999,
          9.427,
          26.581,
          7.636,
          2.86,
          5.143,
          1.059,
          10.677,
          6.852,
          5.314,
          35.766,
          0.025,
          3.972,
          30.299,
          6.782,
          0.442,
          13.485,
          0.994,
          20.614,
          9.639,
          12.546,
          8.295,
          1.7289999999999999,
          6.999,
          17.63,
          52.632,
          7.587,
          3.084,
          28.401,
          14.657,
          2.008,
          9.214,
          10.821,
          5.787,
          4.925,
          0.8290000000000001,
          13.628,
          0.804,
          1.1059999999999999,
          2.548,
          4.8100000000000005,
          9.443999999999999,
          1.6320000000000001,
          4.203,
          10.734,
          22.330000000000002,
          3.686,
          2.409,
          55.498,
          26.313,
          12.517,
          53.293,
          4.702,
          2.493,
          23.695999999999998,
          1.21,
          28.61,
          7.67,
          7.141,
          14.257,
          2.6559999999999997,
          9.151
         ]
        }
       ],
       "layout": {
        "legend": {
         "tracegroupgap": 0
        },
        "template": {
         "data": {
          "bar": [
           {
            "error_x": {
             "color": "#2a3f5f"
            },
            "error_y": {
             "color": "#2a3f5f"
            },
            "marker": {
             "line": {
              "color": "#E5ECF6",
              "width": 0.5
             },
             "pattern": {
              "fillmode": "overlay",
              "size": 10,
              "solidity": 0.2
             }
            },
            "type": "bar"
           }
          ],
          "barpolar": [
           {
            "marker": {
             "line": {
              "color": "#E5ECF6",
              "width": 0.5
             },
             "pattern": {
              "fillmode": "overlay",
              "size": 10,
              "solidity": 0.2
             }
            },
            "type": "barpolar"
           }
          ],
          "carpet": [
           {
            "aaxis": {
             "endlinecolor": "#2a3f5f",
             "gridcolor": "white",
             "linecolor": "white",
             "minorgridcolor": "white",
             "startlinecolor": "#2a3f5f"
            },
            "baxis": {
             "endlinecolor": "#2a3f5f",
             "gridcolor": "white",
             "linecolor": "white",
             "minorgridcolor": "white",
             "startlinecolor": "#2a3f5f"
            },
            "type": "carpet"
           }
          ],
          "choropleth": [
           {
            "colorbar": {
             "outlinewidth": 0,
             "ticks": ""
            },
            "type": "choropleth"
           }
          ],
          "contour": [
           {
            "colorbar": {
             "outlinewidth": 0,
             "ticks": ""
            },
            "colorscale": [
             [
              0,
              "#0d0887"
             ],
             [
              0.1111111111111111,
              "#46039f"
             ],
             [
              0.2222222222222222,
              "#7201a8"
             ],
             [
              0.3333333333333333,
              "#9c179e"
             ],
             [
              0.4444444444444444,
              "#bd3786"
             ],
             [
              0.5555555555555556,
              "#d8576b"
             ],
             [
              0.6666666666666666,
              "#ed7953"
             ],
             [
              0.7777777777777778,
              "#fb9f3a"
             ],
             [
              0.8888888888888888,
              "#fdca26"
             ],
             [
              1,
              "#f0f921"
             ]
            ],
            "type": "contour"
           }
          ],
          "contourcarpet": [
           {
            "colorbar": {
             "outlinewidth": 0,
             "ticks": ""
            },
            "type": "contourcarpet"
           }
          ],
          "heatmap": [
           {
            "colorbar": {
             "outlinewidth": 0,
             "ticks": ""
            },
            "colorscale": [
             [
              0,
              "#0d0887"
             ],
             [
              0.1111111111111111,
              "#46039f"
             ],
             [
              0.2222222222222222,
              "#7201a8"
             ],
             [
              0.3333333333333333,
              "#9c179e"
             ],
             [
              0.4444444444444444,
              "#bd3786"
             ],
             [
              0.5555555555555556,
              "#d8576b"
             ],
             [
              0.6666666666666666,
              "#ed7953"
             ],
             [
              0.7777777777777778,
              "#fb9f3a"
             ],
             [
              0.8888888888888888,
              "#fdca26"
             ],
             [
              1,
              "#f0f921"
             ]
            ],
            "type": "heatmap"
           }
          ],
          "heatmapgl": [
           {
            "colorbar": {
             "outlinewidth": 0,
             "ticks": ""
            },
            "colorscale": [
             [
              0,
              "#0d0887"
             ],
             [
              0.1111111111111111,
              "#46039f"
             ],
             [
              0.2222222222222222,
              "#7201a8"
             ],
             [
              0.3333333333333333,
              "#9c179e"
             ],
             [
              0.4444444444444444,
              "#bd3786"
             ],
             [
              0.5555555555555556,
              "#d8576b"
             ],
             [
              0.6666666666666666,
              "#ed7953"
             ],
             [
              0.7777777777777778,
              "#fb9f3a"
             ],
             [
              0.8888888888888888,
              "#fdca26"
             ],
             [
              1,
              "#f0f921"
             ]
            ],
            "type": "heatmapgl"
           }
          ],
          "histogram": [
           {
            "marker": {
             "pattern": {
              "fillmode": "overlay",
              "size": 10,
              "solidity": 0.2
             }
            },
            "type": "histogram"
           }
          ],
          "histogram2d": [
           {
            "colorbar": {
             "outlinewidth": 0,
             "ticks": ""
            },
            "colorscale": [
             [
              0,
              "#0d0887"
             ],
             [
              0.1111111111111111,
              "#46039f"
             ],
             [
              0.2222222222222222,
              "#7201a8"
             ],
             [
              0.3333333333333333,
              "#9c179e"
             ],
             [
              0.4444444444444444,
              "#bd3786"
             ],
             [
              0.5555555555555556,
              "#d8576b"
             ],
             [
              0.6666666666666666,
              "#ed7953"
             ],
             [
              0.7777777777777778,
              "#fb9f3a"
             ],
             [
              0.8888888888888888,
              "#fdca26"
             ],
             [
              1,
              "#f0f921"
             ]
            ],
            "type": "histogram2d"
           }
          ],
          "histogram2dcontour": [
           {
            "colorbar": {
             "outlinewidth": 0,
             "ticks": ""
            },
            "colorscale": [
             [
              0,
              "#0d0887"
             ],
             [
              0.1111111111111111,
              "#46039f"
             ],
             [
              0.2222222222222222,
              "#7201a8"
             ],
             [
              0.3333333333333333,
              "#9c179e"
             ],
             [
              0.4444444444444444,
              "#bd3786"
             ],
             [
              0.5555555555555556,
              "#d8576b"
             ],
             [
              0.6666666666666666,
              "#ed7953"
             ],
             [
              0.7777777777777778,
              "#fb9f3a"
             ],
             [
              0.8888888888888888,
              "#fdca26"
             ],
             [
              1,
              "#f0f921"
             ]
            ],
            "type": "histogram2dcontour"
           }
          ],
          "mesh3d": [
           {
            "colorbar": {
             "outlinewidth": 0,
             "ticks": ""
            },
            "type": "mesh3d"
           }
          ],
          "parcoords": [
           {
            "line": {
             "colorbar": {
              "outlinewidth": 0,
              "ticks": ""
             }
            },
            "type": "parcoords"
           }
          ],
          "pie": [
           {
            "automargin": true,
            "type": "pie"
           }
          ],
          "scatter": [
           {
            "fillpattern": {
             "fillmode": "overlay",
             "size": 10,
             "solidity": 0.2
            },
            "type": "scatter"
           }
          ],
          "scatter3d": [
           {
            "line": {
             "colorbar": {
              "outlinewidth": 0,
              "ticks": ""
             }
            },
            "marker": {
             "colorbar": {
              "outlinewidth": 0,
              "ticks": ""
             }
            },
            "type": "scatter3d"
           }
          ],
          "scattercarpet": [
           {
            "marker": {
             "colorbar": {
              "outlinewidth": 0,
              "ticks": ""
             }
            },
            "type": "scattercarpet"
           }
          ],
          "scattergeo": [
           {
            "marker": {
             "colorbar": {
              "outlinewidth": 0,
              "ticks": ""
             }
            },
            "type": "scattergeo"
           }
          ],
          "scattergl": [
           {
            "marker": {
             "colorbar": {
              "outlinewidth": 0,
              "ticks": ""
             }
            },
            "type": "scattergl"
           }
          ],
          "scattermapbox": [
           {
            "marker": {
             "colorbar": {
              "outlinewidth": 0,
              "ticks": ""
             }
            },
            "type": "scattermapbox"
           }
          ],
          "scatterpolar": [
           {
            "marker": {
             "colorbar": {
              "outlinewidth": 0,
              "ticks": ""
             }
            },
            "type": "scatterpolar"
           }
          ],
          "scatterpolargl": [
           {
            "marker": {
             "colorbar": {
              "outlinewidth": 0,
              "ticks": ""
             }
            },
            "type": "scatterpolargl"
           }
          ],
          "scatterternary": [
           {
            "marker": {
             "colorbar": {
              "outlinewidth": 0,
              "ticks": ""
             }
            },
            "type": "scatterternary"
           }
          ],
          "surface": [
           {
            "colorbar": {
             "outlinewidth": 0,
             "ticks": ""
            },
            "colorscale": [
             [
              0,
              "#0d0887"
             ],
             [
              0.1111111111111111,
              "#46039f"
             ],
             [
              0.2222222222222222,
              "#7201a8"
             ],
             [
              0.3333333333333333,
              "#9c179e"
             ],
             [
              0.4444444444444444,
              "#bd3786"
             ],
             [
              0.5555555555555556,
              "#d8576b"
             ],
             [
              0.6666666666666666,
              "#ed7953"
             ],
             [
              0.7777777777777778,
              "#fb9f3a"
             ],
             [
              0.8888888888888888,
              "#fdca26"
             ],
             [
              1,
              "#f0f921"
             ]
            ],
            "type": "surface"
           }
          ],
          "table": [
           {
            "cells": {
             "fill": {
              "color": "#EBF0F8"
             },
             "line": {
              "color": "white"
             }
            },
            "header": {
             "fill": {
              "color": "#C8D4E3"
             },
             "line": {
              "color": "white"
             }
            },
            "type": "table"
           }
          ]
         },
         "layout": {
          "annotationdefaults": {
           "arrowcolor": "#2a3f5f",
           "arrowhead": 0,
           "arrowwidth": 1
          },
          "autotypenumbers": "strict",
          "coloraxis": {
           "colorbar": {
            "outlinewidth": 0,
            "ticks": ""
           }
          },
          "colorscale": {
           "diverging": [
            [
             0,
             "#8e0152"
            ],
            [
             0.1,
             "#c51b7d"
            ],
            [
             0.2,
             "#de77ae"
            ],
            [
             0.3,
             "#f1b6da"
            ],
            [
             0.4,
             "#fde0ef"
            ],
            [
             0.5,
             "#f7f7f7"
            ],
            [
             0.6,
             "#e6f5d0"
            ],
            [
             0.7,
             "#b8e186"
            ],
            [
             0.8,
             "#7fbc41"
            ],
            [
             0.9,
             "#4d9221"
            ],
            [
             1,
             "#276419"
            ]
           ],
           "sequential": [
            [
             0,
             "#0d0887"
            ],
            [
             0.1111111111111111,
             "#46039f"
            ],
            [
             0.2222222222222222,
             "#7201a8"
            ],
            [
             0.3333333333333333,
             "#9c179e"
            ],
            [
             0.4444444444444444,
             "#bd3786"
            ],
            [
             0.5555555555555556,
             "#d8576b"
            ],
            [
             0.6666666666666666,
             "#ed7953"
            ],
            [
             0.7777777777777778,
             "#fb9f3a"
            ],
            [
             0.8888888888888888,
             "#fdca26"
            ],
            [
             1,
             "#f0f921"
            ]
           ],
           "sequentialminus": [
            [
             0,
             "#0d0887"
            ],
            [
             0.1111111111111111,
             "#46039f"
            ],
            [
             0.2222222222222222,
             "#7201a8"
            ],
            [
             0.3333333333333333,
             "#9c179e"
            ],
            [
             0.4444444444444444,
             "#bd3786"
            ],
            [
             0.5555555555555556,
             "#d8576b"
            ],
            [
             0.6666666666666666,
             "#ed7953"
            ],
            [
             0.7777777777777778,
             "#fb9f3a"
            ],
            [
             0.8888888888888888,
             "#fdca26"
            ],
            [
             1,
             "#f0f921"
            ]
           ]
          },
          "colorway": [
           "#636efa",
           "#EF553B",
           "#00cc96",
           "#ab63fa",
           "#FFA15A",
           "#19d3f3",
           "#FF6692",
           "#B6E880",
           "#FF97FF",
           "#FECB52"
          ],
          "font": {
           "color": "#2a3f5f"
          },
          "geo": {
           "bgcolor": "white",
           "lakecolor": "white",
           "landcolor": "#E5ECF6",
           "showlakes": true,
           "showland": true,
           "subunitcolor": "white"
          },
          "hoverlabel": {
           "align": "left"
          },
          "hovermode": "closest",
          "mapbox": {
           "style": "light"
          },
          "paper_bgcolor": "white",
          "plot_bgcolor": "#E5ECF6",
          "polar": {
           "angularaxis": {
            "gridcolor": "white",
            "linecolor": "white",
            "ticks": ""
           },
           "bgcolor": "#E5ECF6",
           "radialaxis": {
            "gridcolor": "white",
            "linecolor": "white",
            "ticks": ""
           }
          },
          "scene": {
           "xaxis": {
            "backgroundcolor": "#E5ECF6",
            "gridcolor": "white",
            "gridwidth": 2,
            "linecolor": "white",
            "showbackground": true,
            "ticks": "",
            "zerolinecolor": "white"
           },
           "yaxis": {
            "backgroundcolor": "#E5ECF6",
            "gridcolor": "white",
            "gridwidth": 2,
            "linecolor": "white",
            "showbackground": true,
            "ticks": "",
            "zerolinecolor": "white"
           },
           "zaxis": {
            "backgroundcolor": "#E5ECF6",
            "gridcolor": "white",
            "gridwidth": 2,
            "linecolor": "white",
            "showbackground": true,
            "ticks": "",
            "zerolinecolor": "white"
           }
          },
          "shapedefaults": {
           "line": {
            "color": "#2a3f5f"
           }
          },
          "ternary": {
           "aaxis": {
            "gridcolor": "white",
            "linecolor": "white",
            "ticks": ""
           },
           "baxis": {
            "gridcolor": "white",
            "linecolor": "white",
            "ticks": ""
           },
           "bgcolor": "#E5ECF6",
           "caxis": {
            "gridcolor": "white",
            "linecolor": "white",
            "ticks": ""
           }
          },
          "title": {
           "x": 0.05
          },
          "xaxis": {
           "automargin": true,
           "gridcolor": "white",
           "linecolor": "white",
           "ticks": "",
           "title": {
            "standoff": 15
           },
           "zerolinecolor": "white",
           "zerolinewidth": 2
          },
          "yaxis": {
           "automargin": true,
           "gridcolor": "white",
           "linecolor": "white",
           "ticks": "",
           "title": {
            "standoff": 15
           },
           "zerolinecolor": "white",
           "zerolinewidth": 2
          }
         }
        },
        "title": {
         "text": "Treemap de Dependencias para ESP"
        },
        "treemapcolorway": [
         "rgb(228,26,28)",
         "rgb(55,126,184)",
         "rgb(77,175,74)",
         "rgb(152,78,163)",
         "rgb(255,127,0)",
         "rgb(255,255,51)",
         "rgb(166,86,40)",
         "rgb(247,129,191)",
         "rgb(153,153,153)"
        ]
       }
      }
     },
     "metadata": {},
     "output_type": "display_data"
    }
   ],
   "source": [
    "import pandas as pd\n",
    "import plotly.express as px\n",
    "from pathlib import Path\n",
    "import gzip\n",
    "import os\n",
    "\n",
    "# --- Funciones para cargar los datos ---\n",
    "\n",
    "# Obtener la ruta del directorio actual (funciona en scripts y Jupyter Notebooks)\n",
    "current_dir = os.path.dirname(os.path.abspath(\"__file__\"))\n",
    "\n",
    "# Construir BASE_DIR a partir de current_dir\n",
    "BASE_DIR = Path(current_dir).resolve().parent.parent\n",
    "\n",
    "def load_dependency_data(filename=\"dependencias_consolidadas.csv.gz\"):\n",
    "    csv_path = r\"C:\\Users\\Usuario\\Documents\\Github\\Seguridad económica\\src\\data\\processed\\Dependencias consolidadas\\dependencias_consolidadas.csv.gz\"\n",
    "    try:\n",
    "        with gzip.open(csv_path, 'rt', encoding='utf-8') as file:\n",
    "            return pd.read_csv(file)\n",
    "    except Exception as e:\n",
    "        print(f\"Error al cargar el archivo de dependencias: {e}\")\n",
    "        return None\n",
    "\n",
    "def load_clustering_data(filename=\"agglomerative_clustering_results.csv\"):\n",
    "    clustering_path = r\"C:\\Users\\Usuario\\Documents\\Github\\Seguridad económica\\src\\data\\processed\\comunidades\\agglomerative_clustering_results.csv\"\n",
    "    try:\n",
    "        return pd.read_csv(clustering_path, sep=';')\n",
    "    except Exception as e:\n",
    "        print(f\"Error al cargar el archivo de clustering: {e}\")\n",
    "        return None\n",
    "\n",
    "# --- Cargar los datos ---\n",
    "dependency_data = load_dependency_data()\n",
    "clustering_data = load_clustering_data()\n",
    "\n",
    "if dependency_data is None or clustering_data is None:\n",
    "    print(\"Error al cargar los datos. Verifica las rutas y los archivos.\")\n",
    "else:\n",
    "    # --- Función para crear el treemap ---\n",
    "    def create_dependency_treemap(dependency_data, clustering_data, country):\n",
    "        filtered_data = dependency_data[dependency_data['dependent_country'] == country]\n",
    "        \n",
    "        merged_data = pd.merge(\n",
    "            filtered_data,\n",
    "            clustering_data,\n",
    "            left_on='supplier_country',\n",
    "            right_on='iso_d',\n",
    "            how='left'\n",
    "        )\n",
    "\n",
    "        # Manejar valores nulos en la columna 'cluster'\n",
    "        merged_data['cluster'] = merged_data['cluster'].fillna('Sin Cluster')\n",
    "\n",
    "        fig = px.treemap(\n",
    "            merged_data,\n",
    "            path=['cluster', 'supplier_country'],  # Organización por cluster y luego por país\n",
    "            values='dependency_value',\n",
    "            color='cluster',\n",
    "            title=f'Treemap de Dependencias para {country}',\n",
    "            color_discrete_sequence=px.colors.qualitative.Set1  # Puedes ajustar los colores\n",
    "        )\n",
    "        return fig\n",
    "\n",
    "    # --- Crear y mostrar el treemap para Alemania y España---\n",
    "    fig_deu = create_dependency_treemap(dependency_data, clustering_data, 'DEU')\n",
    "    fig_esp = create_dependency_treemap(dependency_data, clustering_data, 'ESP')\n",
    "\n",
    "    fig_deu.show()\n",
    "    fig_esp.show()"
   ]
  },
  {
   "cell_type": "code",
   "execution_count": 4,
   "metadata": {},
   "outputs": [
    {
     "data": {
      "text/html": [
       "<style type=\"text/css\">\n",
       "</style>\n",
       "<table id=\"T_f89a0_\">\n",
       "  <thead>\n",
       "    <tr>\n",
       "      <th class=\"blank level0\" >&nbsp;</th>\n",
       "      <th class=\"col_heading level0 col0\" >Sector</th>\n",
       "      <th class=\"col_heading level0 col1\" >Industria</th>\n",
       "      <th class=\"col_heading level0 col2\" >ESP_valor</th>\n",
       "      <th class=\"col_heading level0 col3\" >ESP_pais</th>\n",
       "      <th class=\"col_heading level0 col4\" >ESP_cluster</th>\n",
       "      <th class=\"col_heading level0 col5\" >DEU_valor</th>\n",
       "      <th class=\"col_heading level0 col6\" >DEU_pais</th>\n",
       "      <th class=\"col_heading level0 col7\" >DEU_cluster</th>\n",
       "    </tr>\n",
       "  </thead>\n",
       "  <tbody>\n",
       "    <tr>\n",
       "      <th id=\"T_f89a0_level0_row0\" class=\"row_heading level0 row0\" >0</th>\n",
       "      <td id=\"T_f89a0_row0_col0\" class=\"data row0 col0\" >Energía</td>\n",
       "      <td id=\"T_f89a0_row0_col1\" class=\"data row0 col1\" >Extraction crude petroleum and natural gas</td>\n",
       "      <td id=\"T_f89a0_row0_col2\" class=\"data row0 col2\" >0.419000</td>\n",
       "      <td id=\"T_f89a0_row0_col3\" class=\"data row0 col3\" >USA</td>\n",
       "      <td id=\"T_f89a0_row0_col4\" class=\"data row0 col4\" >2</td>\n",
       "      <td id=\"T_f89a0_row0_col5\" class=\"data row0 col5\" >0.440000</td>\n",
       "      <td id=\"T_f89a0_row0_col6\" class=\"data row0 col6\" >RUS</td>\n",
       "      <td id=\"T_f89a0_row0_col7\" class=\"data row0 col7\" >1</td>\n",
       "    </tr>\n",
       "    <tr>\n",
       "      <th id=\"T_f89a0_level0_row1\" class=\"row_heading level0 row1\" >1</th>\n",
       "      <td id=\"T_f89a0_row1_col0\" class=\"data row1 col0\" >Energía</td>\n",
       "      <td id=\"T_f89a0_row1_col1\" class=\"data row1 col1\" >Electricity distribution & control apparatus</td>\n",
       "      <td id=\"T_f89a0_row1_col2\" class=\"data row1 col2\" >1.000000</td>\n",
       "      <td id=\"T_f89a0_row1_col3\" class=\"data row1 col3\" >AUT</td>\n",
       "      <td id=\"T_f89a0_row1_col4\" class=\"data row1 col4\" >3</td>\n",
       "      <td id=\"T_f89a0_row1_col5\" class=\"data row1 col5\" >1.000000</td>\n",
       "      <td id=\"T_f89a0_row1_col6\" class=\"data row1 col6\" >AUT</td>\n",
       "      <td id=\"T_f89a0_row1_col7\" class=\"data row1 col7\" >3</td>\n",
       "    </tr>\n",
       "    <tr>\n",
       "      <th id=\"T_f89a0_level0_row2\" class=\"row_heading level0 row2\" >2</th>\n",
       "      <td id=\"T_f89a0_row2_col0\" class=\"data row2 col0\" >Energía</td>\n",
       "      <td id=\"T_f89a0_row2_col1\" class=\"data row2 col1\" >Processing of nuclear fuel</td>\n",
       "      <td id=\"T_f89a0_row2_col2\" class=\"data row2 col2\" >1.000000</td>\n",
       "      <td id=\"T_f89a0_row2_col3\" class=\"data row2 col3\" >AUS</td>\n",
       "      <td id=\"T_f89a0_row2_col4\" class=\"data row2 col4\" >0</td>\n",
       "      <td id=\"T_f89a0_row2_col5\" class=\"data row2 col5\" >1.000000</td>\n",
       "      <td id=\"T_f89a0_row2_col6\" class=\"data row2 col6\" >AUS</td>\n",
       "      <td id=\"T_f89a0_row2_col7\" class=\"data row2 col7\" >0</td>\n",
       "    </tr>\n",
       "    <tr>\n",
       "      <th id=\"T_f89a0_level0_row3\" class=\"row_heading level0 row3\" >3</th>\n",
       "      <td id=\"T_f89a0_row3_col0\" class=\"data row3 col0\" >Energía</td>\n",
       "      <td id=\"T_f89a0_row3_col1\" class=\"data row3 col1\" >Mining of hard coal</td>\n",
       "      <td id=\"T_f89a0_row3_col2\" class=\"data row3 col2\" >1.000000</td>\n",
       "      <td id=\"T_f89a0_row3_col3\" class=\"data row3 col3\" >KAZ</td>\n",
       "      <td id=\"T_f89a0_row3_col4\" class=\"data row3 col4\" >0</td>\n",
       "      <td id=\"T_f89a0_row3_col5\" class=\"data row3 col5\" >1.000000</td>\n",
       "      <td id=\"T_f89a0_row3_col6\" class=\"data row3 col6\" >KAZ</td>\n",
       "      <td id=\"T_f89a0_row3_col7\" class=\"data row3 col7\" >0</td>\n",
       "    </tr>\n",
       "    <tr>\n",
       "      <th id=\"T_f89a0_level0_row4\" class=\"row_heading level0 row4\" >4</th>\n",
       "      <td id=\"T_f89a0_row4_col0\" class=\"data row4 col0\" >Tecnología</td>\n",
       "      <td id=\"T_f89a0_row4_col1\" class=\"data row4 col1\" >Electronic valves tubes etc.</td>\n",
       "      <td id=\"T_f89a0_row4_col2\" class=\"data row4 col2\" >0.601000</td>\n",
       "      <td id=\"T_f89a0_row4_col3\" class=\"data row4 col3\" >USA</td>\n",
       "      <td id=\"T_f89a0_row4_col4\" class=\"data row4 col4\" >2</td>\n",
       "      <td id=\"T_f89a0_row4_col5\" class=\"data row4 col5\" >0.870000</td>\n",
       "      <td id=\"T_f89a0_row4_col6\" class=\"data row4 col6\" >USA</td>\n",
       "      <td id=\"T_f89a0_row4_col7\" class=\"data row4 col7\" >2</td>\n",
       "    </tr>\n",
       "    <tr>\n",
       "      <th id=\"T_f89a0_level0_row5\" class=\"row_heading level0 row5\" >5</th>\n",
       "      <td id=\"T_f89a0_row5_col0\" class=\"data row5 col0\" >Tecnología</td>\n",
       "      <td id=\"T_f89a0_row5_col1\" class=\"data row5 col1\" >TV/radio transmitters; line comm. apparatus</td>\n",
       "      <td id=\"T_f89a0_row5_col2\" class=\"data row5 col2\" >0.934000</td>\n",
       "      <td id=\"T_f89a0_row5_col3\" class=\"data row5 col3\" >CHN</td>\n",
       "      <td id=\"T_f89a0_row5_col4\" class=\"data row5 col4\" >1</td>\n",
       "      <td id=\"T_f89a0_row5_col5\" class=\"data row5 col5\" >0.967000</td>\n",
       "      <td id=\"T_f89a0_row5_col6\" class=\"data row5 col6\" >CHN</td>\n",
       "      <td id=\"T_f89a0_row5_col7\" class=\"data row5 col7\" >1</td>\n",
       "    </tr>\n",
       "    <tr>\n",
       "      <th id=\"T_f89a0_level0_row6\" class=\"row_heading level0 row6\" >6</th>\n",
       "      <td id=\"T_f89a0_row6_col0\" class=\"data row6 col0\" >Tecnología</td>\n",
       "      <td id=\"T_f89a0_row6_col1\" class=\"data row6 col1\" >Office accounting and computing machinery</td>\n",
       "      <td id=\"T_f89a0_row6_col2\" class=\"data row6 col2\" >0.985000</td>\n",
       "      <td id=\"T_f89a0_row6_col3\" class=\"data row6 col3\" >SGP</td>\n",
       "      <td id=\"T_f89a0_row6_col4\" class=\"data row6 col4\" >3</td>\n",
       "      <td id=\"T_f89a0_row6_col5\" class=\"data row6 col5\" >0.985000</td>\n",
       "      <td id=\"T_f89a0_row6_col6\" class=\"data row6 col6\" >SGP</td>\n",
       "      <td id=\"T_f89a0_row6_col7\" class=\"data row6 col7\" >3</td>\n",
       "    </tr>\n",
       "    <tr>\n",
       "      <th id=\"T_f89a0_level0_row7\" class=\"row_heading level0 row7\" >7</th>\n",
       "      <td id=\"T_f89a0_row7_col0\" class=\"data row7 col0\" >Tecnología</td>\n",
       "      <td id=\"T_f89a0_row7_col1\" class=\"data row7 col1\" >Other special purpose machinery</td>\n",
       "      <td id=\"T_f89a0_row7_col2\" class=\"data row7 col2\" >0.698000</td>\n",
       "      <td id=\"T_f89a0_row7_col3\" class=\"data row7 col3\" >DEU</td>\n",
       "      <td id=\"T_f89a0_row7_col4\" class=\"data row7 col4\" >3</td>\n",
       "      <td id=\"T_f89a0_row7_col5\" class=\"data row7 col5\" >0.425000</td>\n",
       "      <td id=\"T_f89a0_row7_col6\" class=\"data row7 col6\" >USA</td>\n",
       "      <td id=\"T_f89a0_row7_col7\" class=\"data row7 col7\" >2</td>\n",
       "    </tr>\n",
       "    <tr>\n",
       "      <th id=\"T_f89a0_level0_row8\" class=\"row_heading level0 row8\" >8</th>\n",
       "      <td id=\"T_f89a0_row8_col0\" class=\"data row8 col0\" >Materias críticas</td>\n",
       "      <td id=\"T_f89a0_row8_col1\" class=\"data row8 col1\" >Basic precious and non-ferrous metals</td>\n",
       "      <td id=\"T_f89a0_row8_col2\" class=\"data row8 col2\" >0.479000</td>\n",
       "      <td id=\"T_f89a0_row8_col3\" class=\"data row8 col3\" >CHN</td>\n",
       "      <td id=\"T_f89a0_row8_col4\" class=\"data row8 col4\" >1</td>\n",
       "      <td id=\"T_f89a0_row8_col5\" class=\"data row8 col5\" >0.446000</td>\n",
       "      <td id=\"T_f89a0_row8_col6\" class=\"data row8 col6\" >USA</td>\n",
       "      <td id=\"T_f89a0_row8_col7\" class=\"data row8 col7\" >2</td>\n",
       "    </tr>\n",
       "    <tr>\n",
       "      <th id=\"T_f89a0_level0_row9\" class=\"row_heading level0 row9\" >9</th>\n",
       "      <td id=\"T_f89a0_row9_col0\" class=\"data row9 col0\" >Materias críticas</td>\n",
       "      <td id=\"T_f89a0_row9_col1\" class=\"data row9 col1\" >Basic iron and steel</td>\n",
       "      <td id=\"T_f89a0_row9_col2\" class=\"data row9 col2\" >0.262000</td>\n",
       "      <td id=\"T_f89a0_row9_col3\" class=\"data row9 col3\" >DEU</td>\n",
       "      <td id=\"T_f89a0_row9_col4\" class=\"data row9 col4\" >3</td>\n",
       "      <td id=\"T_f89a0_row9_col5\" class=\"data row9 col5\" >0.202000</td>\n",
       "      <td id=\"T_f89a0_row9_col6\" class=\"data row9 col6\" >ITA</td>\n",
       "      <td id=\"T_f89a0_row9_col7\" class=\"data row9 col7\" >3</td>\n",
       "    </tr>\n",
       "    <tr>\n",
       "      <th id=\"T_f89a0_level0_row10\" class=\"row_heading level0 row10\" >10</th>\n",
       "      <td id=\"T_f89a0_row10_col0\" class=\"data row10 col0\" >Materias críticas</td>\n",
       "      <td id=\"T_f89a0_row10_col1\" class=\"data row10 col1\" >Basic chemicals except fertilizers</td>\n",
       "      <td id=\"T_f89a0_row10_col2\" class=\"data row10 col2\" >0.380000</td>\n",
       "      <td id=\"T_f89a0_row10_col3\" class=\"data row10 col3\" >USA</td>\n",
       "      <td id=\"T_f89a0_row10_col4\" class=\"data row10 col4\" >2</td>\n",
       "      <td id=\"T_f89a0_row10_col5\" class=\"data row10 col5\" >0.371000</td>\n",
       "      <td id=\"T_f89a0_row10_col6\" class=\"data row10 col6\" >USA</td>\n",
       "      <td id=\"T_f89a0_row10_col7\" class=\"data row10 col7\" >2</td>\n",
       "    </tr>\n",
       "    <tr>\n",
       "      <th id=\"T_f89a0_level0_row11\" class=\"row_heading level0 row11\" >11</th>\n",
       "      <td id=\"T_f89a0_row11_col0\" class=\"data row11 col0\" >Materias críticas</td>\n",
       "      <td id=\"T_f89a0_row11_col1\" class=\"data row11 col1\" >Fertilizers and nitrogen compounds</td>\n",
       "      <td id=\"T_f89a0_row11_col2\" class=\"data row11 col2\" >0.239000</td>\n",
       "      <td id=\"T_f89a0_row11_col3\" class=\"data row11 col3\" >RUS</td>\n",
       "      <td id=\"T_f89a0_row11_col4\" class=\"data row11 col4\" >1</td>\n",
       "      <td id=\"T_f89a0_row11_col5\" class=\"data row11 col5\" >0.202000</td>\n",
       "      <td id=\"T_f89a0_row11_col6\" class=\"data row11 col6\" >RUS</td>\n",
       "      <td id=\"T_f89a0_row11_col7\" class=\"data row11 col7\" >1</td>\n",
       "    </tr>\n",
       "    <tr>\n",
       "      <th id=\"T_f89a0_level0_row12\" class=\"row_heading level0 row12\" >12</th>\n",
       "      <td id=\"T_f89a0_row12_col0\" class=\"data row12 col0\" >Materias críticas</td>\n",
       "      <td id=\"T_f89a0_row12_col1\" class=\"data row12 col1\" >Accumulators primary cells and batteries</td>\n",
       "      <td id=\"T_f89a0_row12_col2\" class=\"data row12 col2\" >0.839000</td>\n",
       "      <td id=\"T_f89a0_row12_col3\" class=\"data row12 col3\" >CHN</td>\n",
       "      <td id=\"T_f89a0_row12_col4\" class=\"data row12 col4\" >1</td>\n",
       "      <td id=\"T_f89a0_row12_col5\" class=\"data row12 col5\" >0.914000</td>\n",
       "      <td id=\"T_f89a0_row12_col6\" class=\"data row12 col6\" >CHN</td>\n",
       "      <td id=\"T_f89a0_row12_col7\" class=\"data row12 col7\" >1</td>\n",
       "    </tr>\n",
       "    <tr>\n",
       "      <th id=\"T_f89a0_level0_row13\" class=\"row_heading level0 row13\" >13</th>\n",
       "      <td id=\"T_f89a0_row13_col0\" class=\"data row13 col0\" >Materias críticas</td>\n",
       "      <td id=\"T_f89a0_row13_col1\" class=\"data row13 col1\" >Electric motors generators and transformers</td>\n",
       "      <td id=\"T_f89a0_row13_col2\" class=\"data row13 col2\" >0.184000</td>\n",
       "      <td id=\"T_f89a0_row13_col3\" class=\"data row13 col3\" >DEU</td>\n",
       "      <td id=\"T_f89a0_row13_col4\" class=\"data row13 col4\" >3</td>\n",
       "      <td id=\"T_f89a0_row13_col5\" class=\"data row13 col5\" >0.130000</td>\n",
       "      <td id=\"T_f89a0_row13_col6\" class=\"data row13 col6\" >CHN</td>\n",
       "      <td id=\"T_f89a0_row13_col7\" class=\"data row13 col7\" >1</td>\n",
       "    </tr>\n",
       "    <tr>\n",
       "      <th id=\"T_f89a0_level0_row14\" class=\"row_heading level0 row14\" >14</th>\n",
       "      <td id=\"T_f89a0_row14_col0\" class=\"data row14 col0\" >Materias críticas</td>\n",
       "      <td id=\"T_f89a0_row14_col1\" class=\"data row14 col1\" >Other non-metallic mineral products n.e.c.</td>\n",
       "      <td id=\"T_f89a0_row14_col2\" class=\"data row14 col2\" >0.107000</td>\n",
       "      <td id=\"T_f89a0_row14_col3\" class=\"data row14 col3\" >DEU</td>\n",
       "      <td id=\"T_f89a0_row14_col4\" class=\"data row14 col4\" >3</td>\n",
       "      <td id=\"T_f89a0_row14_col5\" class=\"data row14 col5\" >0.168000</td>\n",
       "      <td id=\"T_f89a0_row14_col6\" class=\"data row14 col6\" >USA</td>\n",
       "      <td id=\"T_f89a0_row14_col7\" class=\"data row14 col7\" >2</td>\n",
       "    </tr>\n",
       "    <tr>\n",
       "      <th id=\"T_f89a0_level0_row15\" class=\"row_heading level0 row15\" >15</th>\n",
       "      <td id=\"T_f89a0_row15_col0\" class=\"data row15 col0\" >Defensa y Salud</td>\n",
       "      <td id=\"T_f89a0_row15_col1\" class=\"data row15 col1\" >Pharmaceuticals medicinal chemicals etc.</td>\n",
       "      <td id=\"T_f89a0_row15_col2\" class=\"data row15 col2\" >0.892000</td>\n",
       "      <td id=\"T_f89a0_row15_col3\" class=\"data row15 col3\" >USA</td>\n",
       "      <td id=\"T_f89a0_row15_col4\" class=\"data row15 col4\" >2</td>\n",
       "      <td id=\"T_f89a0_row15_col5\" class=\"data row15 col5\" >0.937000</td>\n",
       "      <td id=\"T_f89a0_row15_col6\" class=\"data row15 col6\" >USA</td>\n",
       "      <td id=\"T_f89a0_row15_col7\" class=\"data row15 col7\" >2</td>\n",
       "    </tr>\n",
       "    <tr>\n",
       "      <th id=\"T_f89a0_level0_row16\" class=\"row_heading level0 row16\" >16</th>\n",
       "      <td id=\"T_f89a0_row16_col0\" class=\"data row16 col0\" >Defensa y Salud</td>\n",
       "      <td id=\"T_f89a0_row16_col1\" class=\"data row16 col1\" >Medical surgical and orthopaedic equipment</td>\n",
       "      <td id=\"T_f89a0_row16_col2\" class=\"data row16 col2\" >0.561000</td>\n",
       "      <td id=\"T_f89a0_row16_col3\" class=\"data row16 col3\" >USA</td>\n",
       "      <td id=\"T_f89a0_row16_col4\" class=\"data row16 col4\" >2</td>\n",
       "      <td id=\"T_f89a0_row16_col5\" class=\"data row16 col5\" >0.423000</td>\n",
       "      <td id=\"T_f89a0_row16_col6\" class=\"data row16 col6\" >USA</td>\n",
       "      <td id=\"T_f89a0_row16_col7\" class=\"data row16 col7\" >2</td>\n",
       "    </tr>\n",
       "    <tr>\n",
       "      <th id=\"T_f89a0_level0_row17\" class=\"row_heading level0 row17\" >17</th>\n",
       "      <td id=\"T_f89a0_row17_col0\" class=\"data row17 col0\" >Defensa y Salud</td>\n",
       "      <td id=\"T_f89a0_row17_col1\" class=\"data row17 col1\" >Weapons and ammunition</td>\n",
       "      <td id=\"T_f89a0_row17_col2\" class=\"data row17 col2\" >0.098000</td>\n",
       "      <td id=\"T_f89a0_row17_col3\" class=\"data row17 col3\" >DEU</td>\n",
       "      <td id=\"T_f89a0_row17_col4\" class=\"data row17 col4\" >3</td>\n",
       "      <td id=\"T_f89a0_row17_col5\" class=\"data row17 col5\" >0.029000</td>\n",
       "      <td id=\"T_f89a0_row17_col6\" class=\"data row17 col6\" >USA</td>\n",
       "      <td id=\"T_f89a0_row17_col7\" class=\"data row17 col7\" >2</td>\n",
       "    </tr>\n",
       "    <tr>\n",
       "      <th id=\"T_f89a0_level0_row18\" class=\"row_heading level0 row18\" >18</th>\n",
       "      <td id=\"T_f89a0_row18_col0\" class=\"data row18 col0\" >Defensa y Salud</td>\n",
       "      <td id=\"T_f89a0_row18_col1\" class=\"data row18 col1\" >Aircraft and spacecraft</td>\n",
       "      <td id=\"T_f89a0_row18_col2\" class=\"data row18 col2\" >0.335000</td>\n",
       "      <td id=\"T_f89a0_row18_col3\" class=\"data row18 col3\" >USA</td>\n",
       "      <td id=\"T_f89a0_row18_col4\" class=\"data row18 col4\" >2</td>\n",
       "      <td id=\"T_f89a0_row18_col5\" class=\"data row18 col5\" >0.730000</td>\n",
       "      <td id=\"T_f89a0_row18_col6\" class=\"data row18 col6\" >USA</td>\n",
       "      <td id=\"T_f89a0_row18_col7\" class=\"data row18 col7\" >2</td>\n",
       "    </tr>\n",
       "    <tr>\n",
       "      <th id=\"T_f89a0_level0_row19\" class=\"row_heading level0 row19\" >19</th>\n",
       "      <td id=\"T_f89a0_row19_col0\" class=\"data row19 col0\" >Defensa y Salud</td>\n",
       "      <td id=\"T_f89a0_row19_col1\" class=\"data row19 col1\" >Measuring/testing/navigating appliances etc.</td>\n",
       "      <td id=\"T_f89a0_row19_col2\" class=\"data row19 col2\" >0.795000</td>\n",
       "      <td id=\"T_f89a0_row19_col3\" class=\"data row19 col3\" >USA</td>\n",
       "      <td id=\"T_f89a0_row19_col4\" class=\"data row19 col4\" >2</td>\n",
       "      <td id=\"T_f89a0_row19_col5\" class=\"data row19 col5\" >0.682000</td>\n",
       "      <td id=\"T_f89a0_row19_col6\" class=\"data row19 col6\" >USA</td>\n",
       "      <td id=\"T_f89a0_row19_col7\" class=\"data row19 col7\" >2</td>\n",
       "    </tr>\n",
       "  </tbody>\n",
       "</table>\n"
      ],
      "text/plain": [
       "<pandas.io.formats.style.Styler at 0x18f9229ac10>"
      ]
     },
     "execution_count": 4,
     "metadata": {},
     "output_type": "execute_result"
    }
   ],
   "source": [
    "import pandas as pd\n",
    "import numpy as np\n",
    "\n",
    "def crear_tabla_estrategica(dep_data, cluster_data):\n",
    "   sectores = {\n",
    "       'Energía': [\n",
    "           'Extraction crude petroleum and natural gas',\n",
    "           'Electricity distribution & control apparatus', \n",
    "           'Processing of nuclear fuel',\n",
    "           'Mining of hard coal'\n",
    "       ],\n",
    "       'Tecnología': [\n",
    "           'Electronic valves tubes etc.',\n",
    "           'TV/radio transmitters; line comm. apparatus',\n",
    "           'Office accounting and computing machinery',\n",
    "           'Other special purpose machinery'\n",
    "       ],\n",
    "       'Materias críticas': [\n",
    "           'Basic precious and non-ferrous metals',   # Incluye litio\n",
    "           'Basic iron and steel',\n",
    "           'Basic chemicals except fertilizers',\n",
    "           'Fertilizers and nitrogen compounds',\n",
    "           'Accumulators primary cells and batteries', # Baterías\n",
    "           'Electric motors generators and transformers', # Motores eléctricos\n",
    "           'Other non-metallic mineral products n.e.c.' # Materiales especiales\n",
    "       ],\n",
    "       'Defensa y Salud': [\n",
    "           'Pharmaceuticals medicinal chemicals etc.',\n",
    "           'Medical surgical and orthopaedic equipment',\n",
    "           'Weapons and ammunition',\n",
    "           'Aircraft and spacecraft',\n",
    "           'Measuring/testing/navigating appliances etc.'\n",
    "       ]\n",
    "   }\n",
    "\n",
    "   # Crear mapping de países a clusters\n",
    "   cluster_map = dict(zip(cluster_data['iso_d'], cluster_data['cluster']))\n",
    "   \n",
    "   resultados = []\n",
    "   \n",
    "   for sector, industrias in sectores.items():\n",
    "       for industria in industrias:\n",
    "           # Datos España\n",
    "           esp = dep_data[\n",
    "               (dep_data['dependent_country'] == 'ESP') & \n",
    "               (dep_data['industry'] == industria)\n",
    "           ].nlargest(1, 'dependency_value')\n",
    "           \n",
    "           # Datos Alemania\n",
    "           deu = dep_data[\n",
    "               (dep_data['dependent_country'] == 'DEU') & \n",
    "               (dep_data['industry'] == industria)\n",
    "           ].nlargest(1, 'dependency_value')\n",
    "           \n",
    "           resultados.append({\n",
    "               'Sector': sector,\n",
    "               'Industria': industria,\n",
    "               'ESP_valor': esp['dependency_value'].iloc[0] if not esp.empty else np.nan,\n",
    "               'ESP_pais': esp['supplier_country'].iloc[0] if not esp.empty else '',\n",
    "               'ESP_cluster': cluster_map.get(esp['supplier_country'].iloc[0], np.nan) if not esp.empty else np.nan,\n",
    "               'DEU_valor': deu['dependency_value'].iloc[0] if not deu.empty else np.nan,\n",
    "               'DEU_pais': deu['supplier_country'].iloc[0] if not deu.empty else '',\n",
    "               'DEU_cluster': cluster_map.get(deu['supplier_country'].iloc[0], np.nan) if not deu.empty else np.nan\n",
    "           })\n",
    "   \n",
    "   return pd.DataFrame(resultados)\n",
    "\n",
    "# Para dar formato a la tabla con colores:\n",
    "def estilizar_tabla(df):\n",
    "   cluster_colors = {\n",
    "       1: 'background-color: #FF4444',  # Rojo - Desafíos Geopolíticos\n",
    "       0: 'background-color: #FFA500',  # Naranja - Economías Emergentes\n",
    "       4: 'background-color: #FFD700',  # Amarillo - América Latina\n",
    "       2: 'background-color: #90EE90',  # Verde claro - Socios Históricos\n",
    "       3: 'background-color: #228B22'   # Verde - Economías Avanzadas\n",
    "   }\n",
    "   \n",
    "   def _colorear_clusters(val):\n",
    "       return cluster_colors.get(val, '')\n",
    "       \n",
    "   return df.style.apply(lambda x: [''] * len(x) if x.name != 'ESP_cluster' else [_colorear_clusters(v) for v in x], axis=1)\\\n",
    "                 .apply(lambda x: [''] * len(x) if x.name != 'DEU_cluster' else [_colorear_clusters(v) for v in x], axis=1)\n",
    "\n",
    "# Uso:\n",
    "tabla = crear_tabla_estrategica(dependency_data, clustering_data)\n",
    "tabla_estilizada = estilizar_tabla(tabla)\n",
    "tabla_estilizada"
   ]
  },
  {
   "cell_type": "code",
   "execution_count": 6,
   "metadata": {},
   "outputs": [
    {
     "data": {
      "image/png": "[encoded data removed]",
      "text/plain": [
       "<Figure size 2000x1400 with 1 Axes>"
      ]
     },
     "metadata": {},
     "output_type": "display_data"
    }
   ],
   "source": [
    "import matplotlib.pyplot as plt\n",
    "import matplotlib.patches as mpatches\n",
    "\n",
    "def crear_tabla_visual(df):\n",
    "   \n",
    "   \n",
    "   cluster_colors = {\n",
    "       1: '#FF4444',  \n",
    "       0: '#FFA500',  \n",
    "       2: '#90EE90',  \n",
    "       3: '#228B22',  \n",
    "       4: '#FFD700'   \n",
    "   }\n",
    "   \n",
    "   cluster_nombres = {\n",
    "       1: 'Estados con Desafíos Geopolíticos',\n",
    "       0: 'Economías Emergentes y en Desarrollo',\n",
    "       2: 'Socios Históricos y Culturales',\n",
    "       3: 'Economías Avanzadas y Aliados Estratégicos',\n",
    "       4: 'América Latina: Aliados Regionales Clave'\n",
    "   }\n",
    "   \n",
    "   fig, ax = plt.subplots(figsize=(20, 14))\n",
    "   \n",
    "   for spine in ax.spines.values():\n",
    "       spine.set_visible(False)\n",
    "\n",
    "   # Modificar Sector\n",
    "   df_mod = df.copy()\n",
    "   prev_sector = \"\"\n",
    "   for idx, row in df_mod.iterrows():\n",
    "       if row['Sector'] == prev_sector:\n",
    "           df_mod.at[idx, 'Sector'] = \"\"\n",
    "       else:\n",
    "           prev_sector = row['Sector']\n",
    "\n",
    "   cell_values = df_mod[['Sector', 'Industria', 'ESP_valor', 'ESP_pais', 'DEU_valor', 'DEU_pais']].values\n",
    "\n",
    "   # Crear tabla base sin headers\n",
    "   tabla = ax.table(\n",
    "       cellText=cell_values,\n",
    "       loc='center',\n",
    "       cellLoc='center'\n",
    "   )\n",
    "   \n",
    "   tabla.auto_set_column_width([0,1,2,3,4,5])\n",
    "   tabla.set_fontsize(11)\n",
    "   tabla.scale(1.5, 2)\n",
    "   \n",
    "   # Headers con fondo gris\n",
    "   tabla.add_cell(-1, 0, width=1, height=0.06, text='Sector', \n",
    "                 loc='center', facecolor='lightgray')\n",
    "   tabla.add_cell(-1, 1, width=1, height=0.06, text='Industria', \n",
    "                 loc='center', facecolor='lightgray')\n",
    "   \n",
    "   # España header y subheaders\n",
    "   tabla.add_cell(-2, 2, width=2, height=0.06, text='ESPAÑA', \n",
    "                 loc='center', facecolor='lightgray')\n",
    "   tabla.add_cell(-1, 2, width=1, height=0.06, text='Indicador', \n",
    "                 loc='center', facecolor='lightgray')\n",
    "   tabla.add_cell(-1, 3, width=1, height=0.06, text='Principal\\nDependencia', \n",
    "                 loc='center', facecolor='lightgray')\n",
    "   \n",
    "   # Alemania header y subheaders  \n",
    "   tabla.add_cell(-2, 4, width=2, height=0.06, text='ALEMANIA', \n",
    "                 loc='center', facecolor='lightgray')\n",
    "   tabla.add_cell(-1, 4, width=1, height=0.06, text='Indicador', \n",
    "                 loc='center', facecolor='lightgray')\n",
    "   tabla.add_cell(-1, 5, width=1, height=0.06, text='Principal\\nDependencia', \n",
    "                 loc='center', facecolor='lightgray')\n",
    "   \n",
    "   for idx, row in df.iterrows():\n",
    "       tabla._cells[(idx, 3)].set_facecolor(cluster_colors[row['ESP_cluster']])\n",
    "       tabla._cells[(idx, 5)].set_facecolor(cluster_colors[row['DEU_cluster']])\n",
    "       tabla._cells[(idx, 3)].set_text_props(color='white', weight='bold')\n",
    "       tabla._cells[(idx, 5)].set_text_props(color='white', weight='bold')\n",
    "\n",
    "   # Leyenda\n",
    "   legend_elements = [\n",
    "       mpatches.Patch(facecolor=color, label=cluster_nombres[cluster_id])\n",
    "       for cluster_id, color in cluster_colors.items()\n",
    "   ]\n",
    "   ax.legend(handles=legend_elements, \n",
    "            loc='upper center', \n",
    "            bbox_to_anchor=(0.5, -0.05),\n",
    "            ncol=3,\n",
    "            fontsize=10)\n",
    "\n",
    "   ax.set_xticks([])\n",
    "   ax.set_yticks([])\n",
    "   \n",
    "   plt.title('Análisis Comparativo de Dependencias Estratégicas entre España y Alemania', \n",
    "            pad=30, size=16, weight='bold')\n",
    "   plt.tight_layout()\n",
    "   return fig\n",
    "\n",
    "fig = crear_tabla_visual(tabla)\n",
    "plt.show()"
   ]
  },
  {
   "cell_type": "code",
   "execution_count": 9,
   "metadata": {},
   "outputs": [
    {
     "data": {
      "image/png": "[encoded data removed]",
      "text/plain": [
       "<Figure size 1200x800 with 1 Axes>"
      ]
     },
     "metadata": {},
     "output_type": "display_data"
    }
   ],
   "source": [
    "import matplotlib.pyplot as plt\n",
    "import numpy as np\n",
    "\n",
    "def crear_scatter_dependencias(df, cluster_data):\n",
    "   \n",
    "    \n",
    "    # Colores por cluster\n",
    "    cluster_colors = {\n",
    "        1: '#FF4444',  # Rojo\n",
    "        0: '#FFA500',  # Naranja\n",
    "        2: '#90EE90',  # Verde claro\n",
    "        3: '#228B22',  # Verde\n",
    "        4: '#FFD700'   # Amarillo\n",
    "    }\n",
    "    \n",
    "    # Crear figura\n",
    "    fig, ax = plt.subplots(figsize=(12, 8))\n",
    "    \n",
    "    # Procesar solo las industrias estratégicas\n",
    "    industrias_estrategicas = [\n",
    "        'Extraction crude petroleum and natural gas',\n",
    "        'Electricity distribution & control apparatus',\n",
    "        'Processing of nuclear fuel',\n",
    "        'Mining of hard coal',\n",
    "        'Electronic valves tubes etc.',\n",
    "        'TV/radio transmitters; line comm. apparatus',\n",
    "        'Office accounting and computing machinery',\n",
    "        'Other special purpose machinery',\n",
    "        'Basic precious and non-ferrous metals',\n",
    "        'Basic iron and steel',\n",
    "        'Basic chemicals except fertilizers',\n",
    "        'Fertilizers and nitrogen compounds',\n",
    "        'Accumulators primary cells and batteries',\n",
    "        'Electric motors generators and transformers',\n",
    "        'Other non-metallic mineral products n.e.c.'\n",
    "    ]\n",
    "    \n",
    "    for industria in industrias_estrategicas:\n",
    "        # Datos España\n",
    "        datos_esp = df[\n",
    "            (df['dependent_country'] == 'ESP') & \n",
    "            (df['industry'] == industria)\n",
    "        ]\n",
    "        if not datos_esp.empty:\n",
    "            herf_esp = np.sum(np.square(\n",
    "                datos_esp['dependency_value'] / datos_esp['dependency_value'].sum()\n",
    "            ))\n",
    "            max_dep_esp = datos_esp['dependency_value'].max()\n",
    "            prov_esp = datos_esp.loc[datos_esp['dependency_value'].idxmax(), 'supplier_country']\n",
    "            cluster_esp = cluster_data[cluster_data['iso_d'] == prov_esp]['cluster'].iloc[0]\n",
    "            \n",
    "            ax.scatter(max_dep_esp, herf_esp, \n",
    "                      color=cluster_colors[cluster_esp],\n",
    "                      marker='o', s=100, alpha=0.7,\n",
    "                      label=f'ESP - {industria}')\n",
    "        \n",
    "        # Datos Alemania\n",
    "        datos_deu = df[\n",
    "            (df['dependent_country'] == 'DEU') & \n",
    "            (df['industry'] == industria)\n",
    "        ]\n",
    "        if not datos_deu.empty:\n",
    "            herf_deu = np.sum(np.square(\n",
    "                datos_deu['dependency_value'] / datos_deu['dependency_value'].sum()\n",
    "            ))\n",
    "            max_dep_deu = datos_deu['dependency_value'].max()\n",
    "            prov_deu = datos_deu.loc[datos_deu['dependency_value'].idxmax(), 'supplier_country']\n",
    "            cluster_deu = cluster_data[cluster_data['iso_d'] == prov_deu]['cluster'].iloc[0]\n",
    "            \n",
    "            ax.scatter(max_dep_deu, herf_deu,\n",
    "                      color=cluster_colors[cluster_deu],\n",
    "                      marker='^', s=100, alpha=0.7,\n",
    "                      label=f'DEU - {industria}')\n",
    "    \n",
    "    ax.set_xlabel('Máxima Dependencia')\n",
    "    ax.set_ylabel('Índice Herfindahl')\n",
    "    ax.set_title('Dependencia vs Concentración\\nEspaña (○) vs Alemania (△)')\n",
    "    ax.grid(True, alpha=0.3)\n",
    "    \n",
    "    plt.tight_layout()\n",
    "    return fig\n",
    "\n",
    "# Usar\n",
    "fig = crear_scatter_dependencias(dependency_data, clustering_data)\n",
    "plt.show()"
   ]
  }
 ],
 "metadata": {
  "kernelspec": {
   "display_name": "tftimeseries",
   "language": "python",
   "name": "python3"
  },
  "language_info": {
   "codemirror_mode": {
    "name": "ipython",
    "version": 3
   },
   "file_extension": ".py",
   "mimetype": "text/x-python",
   "name": "python",
   "nbconvert_exporter": "python",
   "pygments_lexer": "ipython3",
   "version": "3.9.7"
  }
 },
 "nbformat": 4,
 "nbformat_minor": 2
}
