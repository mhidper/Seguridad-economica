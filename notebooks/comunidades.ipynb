{
 "cells": [
  {
   "cell_type": "markdown",
   "metadata": {},
   "source": [
    "---\n",
    "<h1 align=\"center\"><strong>Cálculo de comunidades de riesgo (ejemplo para España)</strong></h1>\n",
    "<h4 align=\"center\"><strong>Manuel Alejandro Hidalgo y Jorge Díaz Lanchas</strong></h4>\n",
    "<h4 align=\"center\"><strong>Fundación Real Instituto Elcano</strong></h4>\n",
    "\n",
    "---"
   ]
  },
  {
   "cell_type": "code",
   "execution_count": 1,
   "metadata": {},
   "outputs": [],
   "source": [
    "import networkx as nx\n",
    "from community import community_louvain\n",
    "import matplotlib.pyplot as plt\n",
    "import random\n",
    "import pandas as pd\n",
    "from sklearn.preprocessing import MinMaxScaler\n",
    "import numpy as np\n",
    "from prince import FAMD\n",
    "import seaborn as sns\n",
    "from prince import MCA\n",
    "\n",
    "df = pd.read_csv(r\"C:\\Users\\Usuario\\Downloads\\Final_Database_Trade_Costs_2000_2019_Complete.csv\")\n",
    "df_2019 = df[df['year'] == 2019]  \n",
    "# Filtrar para eliminar registros donde iso_o es igual a iso_d\n",
    "df_2019 = df_2019[df_2019['iso_o'] != df_2019['iso_d']]"
   ]
  },
  {
   "cell_type": "markdown",
   "metadata": {},
   "source": [
    "---\n",
    "<h1 align=\"center\"><strong>Generación de variables nuevas y grupos de variables por dimensiones</strong></h1>\n",
    "\n",
    "---\n",
    "\n",
    "1. Creación del Diccionario de Países\n",
    "Inicialmente, creamos un diccionario que mapea los códigos ISO de los países a sus nombres completos. Este paso es fundamental para facilitar la interpretación de los resultados y permitir análisis más intuitivos. El proceso implica la creación de un diccionario inicial y su posterior inversión para eliminar duplicados, asegurando una correspondencia única entre códigos y nombres de países.\n",
    "\n",
    "2. Variables de Relaciones Coloniales\n",
    "Reconociendo la importancia histórica de las relaciones coloniales en las dinámicas económicas y geopolíticas actuales, generamos una variable compuesta que combina información sobre relaciones coloniales pasadas. Esta variable considera tanto si un país fue colonia como si fue colonizador, capturando así la complejidad de estas relaciones históricas.\n",
    "\n",
    "3. Transformación de Variables de Acuerdos Comerciales\n",
    "El estudio incluye una serie de variables relacionadas con acuerdos comerciales internacionales. Para facilitar el análisis, invertimos los valores de estas variables. Esta transformación permite interpretar los valores de 1 como la ausencia de un acuerdo y 0 como su presencia, alineando estas variables con otras medidas de distancia o diferencia en nuestro modelo.\n",
    "\n",
    "4. Creación de Variables de Alineación\n",
    "Desarrollamos una serie de variables que capturan la alineación geopolítica de los países. Estas incluyen:\n",
    "   a) Alineación con Estados Unidos\n",
    "   b) Alineación con la Unión Europea\n",
    "   c) Alineación combinada UE-EE.UU.\n",
    "   d) Alineación con China\n",
    "\n",
    "Estas variables se construyen comparando las alineaciones de los países de origen y destino en cada par de la base de datos. Un valor de 1 indica una diferencia en la alineación, mientras que 0 indica una alineación similar. Esta metodología nos permite cuantificar las diferencias en orientación geopolítica entre pares de países.\n",
    "\n",
    "5. Actualización de Variables Geopolíticas\n",
    "Reconociendo los cambios recientes en el panorama geopolítico global, actualizamos específicamente las variables relacionadas con la alineación de Rusia. Ajustamos los datos para reflejar la posición actual de Rusia como no alineada con la Unión Europea y alineada con China. Este paso es crucial para asegurar que nuestro análisis refleje las realidades geopolíticas contemporáneas.\n",
    "\n",
    "6. Normalización de Variables\n",
    "Para facilitar comparaciones significativas entre diferentes medidas, aplicamos una normalización Min-Max a variables clave como la distancia geopolítica y la distancia lingüística. Esta transformación escala estas variables al rango [0,1], permitiendo una interpretación más uniforme y comparaciones más directas entre diferentes tipos de \"distancias\" en nuestro análisis.\n",
    "\n",
    "7. Incorporación de Datos sobre la Situación en Ucrania\n",
    "Dada la relevancia actual del conflicto en Ucrania, incorporamos dos conjuntos de datos relacionados:\n",
    "   a) Participación en la conferencia de paz en Suiza\n",
    "   b) Votaciones en la resolución de la ONU sobre Ucrania\n",
    "\n",
    "Para la votación de la ONU, transformamos las respuestas categóricas (\"Yes\", \"No\", \"Abstention\", \"Nonvoting\") en valores numéricos (0, 1, 0.5, 0.5 respectivamente). Esto nos permite cuantificar y analizar las posiciones de los países respecto al conflicto.\n",
    "Creamos variables tanto para el país de origen como para el de destino en cada par, y calculamos la diferencia absoluta entre estas posiciones. Este enfoque nos permite medir la divergencia en las posturas sobre Ucrania entre pares de países.\n",
    "\n",
    "8. Variable de Continente\n",
    "Creamos una variable binaria que indica si dos países pertenecen al mismo continente (0) o a continentes diferentes (1). Esta variable captura una dimensión importante de proximidad geográfica y potencial similitud cultural que puede influir en las relaciones económicas y geopolíticas.\n",
    "\n",
    "9. Ajuste de Variables Asimétricas\n",
    "Para ciertas variables como sanciones de armas, militares, financieras, de viaje y otras, realizamos un ajuste para garantizar la simetría en las relaciones bilaterales. Este proceso implica:\n",
    "   a) Identificar pares de países donde la variable es 1 (indicando la presencia de una sanción o medida similar).\n",
    "   b) Crear el par inverso de países.\n",
    "   c) Actualizar la base de datos para asegurar que si A-B tiene un valor de 1, B-A también tenga un valor de 1.\n",
    "Este ajuste es crucial para mantener la consistencia en nuestros datos y reflejar con precisión la naturaleza recíproca de muchas medidas internacionales.\n",
    "\n",
    "10. Definición de Conjuntos de Variables\n",
    "Finalmente, definimos dos conjuntos clave de variables para análisis posteriores:\n",
    "   a) Variables geopolíticas: Incluyen medidas de alineación, sanciones actualizadas y la variable de continente.\n",
    "   b) Variables culturales: Abarcan distancia lingüística normalizada, relaciones coloniales y orígenes legales comunes.\n",
    "Esta categorización nos permite realizar análisis diferenciados, explorando cómo los factores geopolíticos y culturales influyen de manera distinta en las relaciones económicas internacionales. Ambos grupos se unen al ya generado de variables relacionadas con el comercio, y que entre las tres constituyen las dimensiones sobre las que vamos a establecer las distancias geopolíticas y comerciales que definirán el nivel de riesgo.\n"
   ]
  },
  {
   "cell_type": "code",
   "execution_count": 4,
   "metadata": {},
   "outputs": [],
   "source": [
    "\n",
    "# Usar df_filtered en lugar de df_2019 para el resto del código\n",
    "\n",
    "# Crear un diccionario de países\n",
    "diccionario_paises = dict(zip(df_2019['iso_o'], df_2019['country_o']))\n",
    "\n",
    "# Invertir el diccionario y luego invertirlo de nuevo para eliminar duplicados\n",
    "diccionario_paises = {v: k for k, v in {v: k for k, v in diccionario_paises.items()}.items()}\n",
    "\n",
    "# Crear una variable de colonia combinando información de origen y destino\n",
    "df_2019['colony'] = df_2019['colony_of_destination_ever'] + df_2019['colony_of_origin_ever']\n",
    "\n",
    "# Lista de variables relacionadas con acuerdos comerciales\n",
    "vars_trade = ['member_wto_joint', 'agree_pta_goods', 'agree_pta_services', 'agree_fta',\n",
    "              'agree_eia', 'agree_cu', 'eu_joint', 'agree_fta_eia', 'agree_pta']\n",
    "\n",
    "# Invertir los valores de las variables de acuerdo comercial (0 a 1, 1 a 0)\n",
    "for var in vars_trade:\n",
    "    df_2019[var] = 1 - df_2019[var]\n",
    "    \n",
    "# Actualizar variables a 2024\n",
    "\n",
    "# Actualizar alineación de Rusia (no alineada con UE, alineada con China)\n",
    "df_2019.loc[df['iso_o'] == 'RUS', 'align_eu_o'] = 0\n",
    "df_2019.loc[df['iso_d'] == 'RUS', 'align_eu_d'] = 0\n",
    "df_2019.loc[df['iso_o'] == 'RUS', 'align_chn_o'] = 1\n",
    "df_2019.loc[df['iso_d'] == 'RUS', 'align_chn_d'] = 1\n",
    "\n",
    "# Crear variables de alineación\n",
    "# Alineación con EE.UU.\n",
    "df_2019['align_us'] = 1 \n",
    "condicion = df_2019['align_us_d'] == df_2019['align_us_o']\n",
    "df_2019.loc[condicion, 'align_us'] = 0\n",
    "\n",
    "# Alineación con UE\n",
    "df_2019['align_eu'] = 1 \n",
    "condicion = df_2019['align_eu_d'] == df_2019['align_eu_o']\n",
    "df_2019.loc[condicion, 'align_eu'] = 0\n",
    "\n",
    "# Alineación combinada UE-EE.UU.\n",
    "df_2019['align_eu_us'] = df_2019['align_us'] * df_2019['align_eu']\n",
    "\n",
    "# Alineación con China\n",
    "df_2019['align_chn'] = 1 \n",
    "condicion = df_2019['align_chn_d'] == df_2019['align_chn_o']\n",
    "df_2019.loc[condicion, 'align_chn'] = 0\n",
    "\n",
    "# OCDE\n",
    "df_2019['oecd'] = 1 \n",
    "condicion = df_2019['oecd_d'] == df_2019['oecd_o']\n",
    "df_2019.loc[condicion, 'oecd'] = 0\n",
    "\n",
    "\n",
    "\n",
    "# Normalización de variables\n",
    "scaler = MinMaxScaler()\n",
    "df_2019 = df_2019.copy()\n",
    "df_2019['geopol_dist_norm'] = scaler.fit_transform(df_2019[['geopol_dist']])\n",
    "df_2019['lang_dist_norm'] = scaler.fit_transform(df_2019[['lang_dist']])\n",
    "\n",
    "# UCRANIA\n",
    "\n",
    "#Conferencia de paz en Suiza\n",
    "\n",
    "#https://www.eda.admin.ch/eda/en/fdfa/fdfa/aktuell/dossiers/konferenz-zum-frieden-ukraine/Summit-on-Peace-in-ukraine-joint-communique-on-a-peace-framework.html\n",
    "\n",
    "ucrania = {'AFG': 0,\n",
    " 'ALA': 0,\n",
    " 'ALB': 1,\n",
    " 'DZA': 0,\n",
    " 'ASM': 0,\n",
    " 'AND': 1,\n",
    " 'AGO': 0,\n",
    " 'AIA': 0,\n",
    " 'ATG': 1,\n",
    " 'ARG': 1,\n",
    " 'ARM': 0,\n",
    " 'ABW': 0,\n",
    " 'AUS': 1,\n",
    " 'AUT': 1,\n",
    " 'AZE': 0,\n",
    " 'BHS': 0,\n",
    " 'BHR': 0,\n",
    " 'BGD': 0,\n",
    " 'BRB': 1,\n",
    " 'BLR': 0,\n",
    " 'BEL': 1,\n",
    " 'BLZ': 0,\n",
    " 'BEN': 1,\n",
    " 'BMU': 0,\n",
    " 'BTN': 0,\n",
    " 'BOL': 0,\n",
    " 'BIH': 1,\n",
    " 'BWA': 0,\n",
    " 'BRA': 0,\n",
    " 'IOT': 0,\n",
    " 'VGB': 0,\n",
    " 'BRN': 0,\n",
    " 'BGR': 1,\n",
    " 'BFA': 0,\n",
    " 'BDI': 0,\n",
    " 'KHM': 0,\n",
    " 'CMR': 0,\n",
    " 'CAN': 1,\n",
    " 'CPV': 1,\n",
    " 'CYM': 0,\n",
    " 'CAF': 0,\n",
    " 'TCD': 0,\n",
    " 'CHL': 1,\n",
    " 'CHN': 0,\n",
    " 'CXR': 0,\n",
    " 'CCK': 0,\n",
    " 'COL': 0,\n",
    " 'COM': 1,\n",
    " 'COD': 0,\n",
    " 'COG': 0,\n",
    " 'COK': 0,\n",
    " 'CRI': 1,\n",
    " 'CIV': 1,\n",
    " 'HRV': 1,\n",
    " 'CUB': 0,\n",
    " 'CUW': 0,\n",
    " 'CYP': 1,\n",
    " 'CZE': 1,\n",
    " 'DNK': 1,\n",
    " 'DJI': 0,\n",
    " 'DMA': 0,\n",
    " 'DOM': 1,\n",
    " 'TLS': 0,\n",
    " 'ECU': 1,\n",
    " 'EGY': 0,\n",
    " 'SLV': 0,\n",
    " 'GNQ': 0,\n",
    " 'ERI': 0,\n",
    " 'EST': 1,\n",
    " 'ETH': 0,\n",
    " 'FRO': 0,\n",
    " 'FLK': 0,\n",
    " 'FJI': 1,\n",
    " 'FIN': 1,\n",
    " 'FRA': 1,\n",
    " 'GUF': 0,\n",
    " 'PYF': 0,\n",
    " 'GAB': 0,\n",
    " 'GMB': 1,\n",
    " 'GEO': 1,\n",
    " 'DEU': 1,\n",
    " 'GHA': 1,\n",
    " 'GIB': 0,\n",
    " 'GRC': 1,\n",
    " 'GRL': 0,\n",
    " 'GRD': 0,\n",
    " 'GLP': 0,\n",
    " 'GUM': 0,\n",
    " 'GTM': 1,\n",
    " 'GGY': 0,\n",
    " 'GIN': 0,\n",
    " 'GNB': 0,\n",
    " 'GUY': 1,\n",
    " 'HTI': 0,\n",
    " 'VAT': 0,\n",
    " 'HND': 0,\n",
    " 'HKG': 0,\n",
    " 'HUN': 1,\n",
    " 'ISL': 1,\n",
    " 'IND': 0,\n",
    " 'IDN': 0,\n",
    " 'IRN': 0,\n",
    " 'IRQ': 0,\n",
    " 'IRL': 1,\n",
    " 'IMN': 0,\n",
    " 'ISR': 1,\n",
    " 'ITA': 1,\n",
    " 'JAM': 0,\n",
    " 'JPN': 1,\n",
    " 'JEY': 0,\n",
    " 'JOR': 0,\n",
    " 'KAZ': 0,\n",
    " 'KEN': 1,\n",
    " 'KIR': 0,\n",
    " 'PRK': 0,\n",
    " 'KOR': 1,\n",
    " 'KWT': 0,\n",
    " 'KGZ': 0,\n",
    " 'LAO': 0,\n",
    " 'LVA': 1,\n",
    " 'LBN': 0,\n",
    " 'LSO': 0,\n",
    " 'LBR': 1,\n",
    " 'LBY': 0,\n",
    " 'LIE': 1,\n",
    " 'LTU': 1,\n",
    " 'LUX': 1,\n",
    " 'MAC': 0,\n",
    " 'MKD': 1,\n",
    " 'MDG': 0,\n",
    " 'MWI': 1,\n",
    " 'MYS': 0,\n",
    " 'MDV': 0,\n",
    " 'MLI': 0,\n",
    " 'MLT': 1,\n",
    " 'MHL': 1,\n",
    " 'MTQ': 0,\n",
    " 'MRT': 0,\n",
    " 'MUS': 0,\n",
    " 'MYT': 0,\n",
    " 'MEX': 0,\n",
    " 'FSM': 1,\n",
    " 'MDA': 1,\n",
    " 'MCO': 1,\n",
    " 'MNG': 0,\n",
    " 'MNE': 1,\n",
    " 'MSR': 0,\n",
    " 'MAR': 0,\n",
    " 'MOZ': 0,\n",
    " 'MMR': 0,\n",
    " 'NAM': 0,\n",
    " 'NRU': 0,\n",
    " 'NPL': 0,\n",
    " 'NLD': 1,\n",
    " 'NCL': 0,\n",
    " 'NZL': 1,\n",
    " 'NIC': 0,\n",
    " 'NER': 0,\n",
    " 'NGA': 0,\n",
    " 'NIU': 0,\n",
    " 'NFK': 0,\n",
    " 'MNP': 0,\n",
    " 'NOR': 1,\n",
    " 'OMN': 0,\n",
    " 'PAK': 0,\n",
    " 'PLW': 1,\n",
    " 'PSE': 0,\n",
    " 'PAN': 0,\n",
    " 'PNG': 0,\n",
    " 'PRY': 0,\n",
    " 'PER': 1,\n",
    " 'PHL': 1,\n",
    " 'PCN': 0,\n",
    " 'POL': 1,\n",
    " 'PRT': 1,\n",
    " 'PRI': 0,\n",
    " 'QAT': 1,\n",
    " 'REU': 0,\n",
    " 'ROU': 1,\n",
    " 'RUS': 0,\n",
    " 'RWA': 0,\n",
    " 'BLM': 0,\n",
    " 'SHN': 0,\n",
    " 'KNA': 0,\n",
    " 'LCA': 0,\n",
    " 'SPM': 0,\n",
    " 'VCT': 0,\n",
    " 'MAF': 0,\n",
    " 'WSM': 0,\n",
    " 'SMR': 1,\n",
    " 'STP': 1,\n",
    " 'SAU': 0,\n",
    " 'SEN': 0,\n",
    " 'SRB': 1,\n",
    " 'SYC': 0,\n",
    " 'SLE': 0,\n",
    " 'SGP': 1,\n",
    " 'SXM': 0,\n",
    " 'SVK': 1,\n",
    " 'SVN': 1,\n",
    " 'SLB': 0,\n",
    " 'SOM': 1,\n",
    " 'ZAF': 0,\n",
    " 'SSD': 0,\n",
    " 'ESP': 1,\n",
    " 'LKA': 0,\n",
    " 'SDN': 0,\n",
    " 'SUR': 1,\n",
    " 'SWZ': 0,\n",
    " 'SWE': 1,\n",
    " 'CHE': 1,\n",
    " 'SYR': 0,\n",
    " 'TWN': 0,\n",
    " 'TJK': 0,\n",
    " 'TZA': 0,\n",
    " 'THA': 0,\n",
    " 'TGO': 0,\n",
    " 'TKL': 0,\n",
    " 'TON': 1,\n",
    " 'TTO': 0,\n",
    " 'TUN': 0,\n",
    " 'TUR': 1,\n",
    " 'TKM': 0,\n",
    " 'TCA': 0,\n",
    " 'TUV': 0,\n",
    " 'VIR': 0,\n",
    " 'UGA': 0,\n",
    " 'UKR': 1,\n",
    " 'ARE': 0,\n",
    " 'GBR': 1,\n",
    " 'USA': 1,\n",
    " 'URY': 1,\n",
    " 'UZB': 0,\n",
    " 'VUT': 0,\n",
    " 'VEN': 0,\n",
    " 'VNM': 0,\n",
    " 'WLF': 0,\n",
    " 'ESH': 0,\n",
    " 'YEM': 0,\n",
    " 'ZMB': 1,\n",
    " 'ZWE': 0}\n",
    "\n",
    "#Resolución de la ONU (fichero de Jorge \"C:\\Users\\Usuario\\Dropbox\\Proyecto - Seguridad economica\\Data\\Geopolitical distance\\UN resolution votes on Ukraine 2022.xlsx\")\n",
    "\n",
    "onu_ukr = {'AUS':'Yes',\n",
    "            'AUT':'Yes',\n",
    "            'BEL':'Yes',\n",
    "            'CAN':'Yes',\n",
    "            'CHE':'Yes',\n",
    "            'CZE':'Yes',\n",
    "            'DEU':'Yes',\n",
    "            'DNK':'Yes',\n",
    "            'ESP':'Yes',\n",
    "            'EST':'Yes',\n",
    "            'FIN':'Yes',\n",
    "            'FRA':'Yes',\n",
    "            'GBR':'Yes',\n",
    "            'GRC':'Yes',\n",
    "            'IRL':'Yes',\n",
    "            'AGO':'Abstention',\n",
    "            'LBN':'Nonvoting',\n",
    "            'ALB':'Yes',\n",
    "            'ARE':'Abstention',\n",
    "            'ARG':'Yes',\n",
    "            'ARM':'Nonvoting',\n",
    "            'ATG':'Yes',\n",
    "            'AZE':'Nonvoting',\n",
    "            'BDI':'No',\n",
    "            'BEN':'Nonvoting',\n",
    "            'BFA':'Nonvoting',\n",
    "            'BGD':'Abstention',\n",
    "            'BGR':'Yes',\n",
    "            'BHR':'Abstention',\n",
    "            'BHS':'Yes',\n",
    "            'BIH':'Yes',\n",
    "            'BLR':'No',\n",
    "            'BLZ':'Abstention',\n",
    "            'BOL':'No',\n",
    "            'BRA':'Abstention',\n",
    "            'BRB':'Abstention',\n",
    "            'BRN':'Abstention',\n",
    "            'BTN':'Abstention',\n",
    "            'BWA':'Abstention',\n",
    "            'CAF':'No',\n",
    "            'CHL':'Yes',\n",
    "            'CHN':'No',\n",
    "            'CIV':'Yes',\n",
    "            'CMR':'Abstention',\n",
    "            'COG':'No',\n",
    "            'COL':'Yes',\n",
    "            'CRI':'Yes',\n",
    "            'DMA':'Yes',\n",
    "            'DOM':'Yes',\n",
    "            'DZA':'No',\n",
    "            'ECU':'Yes',\n",
    "            'EGY':'Abstention',\n",
    "            'ETH':'No',\n",
    "            'FJI':'Yes',\n",
    "            'GAB':'No',\n",
    "            'GEO':'Yes',\n",
    "            'SLV':'Abstention',\n",
    "            'GHA':'Abstention',\n",
    "            'GIN':'Nonvoting',\n",
    "            'GMB':'Abstention',\n",
    "            'GNB':'Abstention',\n",
    "            'GTM':'Yes',\n",
    "            'HND':'Yes',\n",
    "            'HRV':'Yes',\n",
    "            'HTI':'Yes',\n",
    "            'HUN':'Yes',\n",
    "            'IDN':'Abstention',\n",
    "            'IND':'Abstention',\n",
    "            'IRQ':'Abstention',\n",
    "            'JAM':'Yes',\n",
    "            'KAZ':'No',\n",
    "            'KEN':'Abstention',\n",
    "            'KGZ':'No',\n",
    "            'KHM':'Abstention',\n",
    "            'YEM':'Abstention',\n",
    "            'KIR':'Yes',\n",
    "            'KWT':'Abstention',\n",
    "            'LAO':'No',\n",
    "            'ISR':'Yes',\n",
    "            'ITA':'Yes',\n",
    "            'JPN':'Yes',\n",
    "            'KOR':'Yes',\n",
    "            'LVA':'Yes',\n",
    "            'NLD':'Yes',\n",
    "            'NOR':'Yes',\n",
    "            'NZL':'Yes',\n",
    "            'PRT':'Yes',\n",
    "            'SGP':'Abstention',\n",
    "            'SVK':'Yes',\n",
    "            'SVN':'Yes',\n",
    "            'SWE':'Yes',\n",
    "            'USA':'Yes',\n",
    "            'LBR':'Yes',\n",
    "            'LKA':'Abstention',\n",
    "            'LSO':'Abstention',\n",
    "            'MAR':'Nonvoting',\n",
    "            'MDA':'Yes',\n",
    "            'MDG':'Abstention',\n",
    "            'MDV':'Abstention',\n",
    "            'MEX':'Abstention',\n",
    "            'MLI':'No',\n",
    "            'MMR':'Yes',\n",
    "            'MNG':'Abstention',\n",
    "            'MOZ':'Abstention',\n",
    "            'MRT':'Nonvoting',\n",
    "            'MWI':'Yes',\n",
    "            'MYS':'Abstention',\n",
    "            'NAM':'Abstention',\n",
    "            'NER':'Abstention',\n",
    "            'NGA':'Abstention',\n",
    "            'NIC':'No',\n",
    "            'NPL':'Abstention',\n",
    "            'OMN':'Abstention',\n",
    "            'PAK':'Abstention',\n",
    "            'PAN':'Yes',\n",
    "            'PER':'Yes',\n",
    "            'PHL':'Yes',\n",
    "            'PLW':'Yes',\n",
    "            'PNG':'Yes',\n",
    "            'POL':'Yes',\n",
    "            'PRY':'Yes',\n",
    "            'QAT':'Abstention',\n",
    "            'ROU':'Yes',\n",
    "            'RUS':'No',\n",
    "            'RWA':'Nonvoting',\n",
    "            'SAU':'Abstention',\n",
    "            'SDN':'Abstention',\n",
    "            'SEN':'Abstention',\n",
    "            'SLB':'Nonvoting',\n",
    "            'SLE':'Yes',\n",
    "            'TCD':'Yes',\n",
    "            'TGO':'Abstention',\n",
    "            'THA':'Abstention',\n",
    "            'TJK':'No',\n",
    "            'TLS':'Yes',\n",
    "            'TON':'Yes',\n",
    "            'TUN':'Abstention',\n",
    "            'TUR':'Yes',\n",
    "            'TUV':'Yes',\n",
    "            'TZA':'Abstention',\n",
    "            'UGA':'Abstention',\n",
    "            'UKR':'Yes',\n",
    "            'URY':'Yes',\n",
    "            'UZB':'No',\n",
    "            'VEN':'Nonvoting',\n",
    "            'VUT':'Abstention',\n",
    "            'ZAF':'Abstention',\n",
    "            'ZMB':'Nonvoting',\n",
    "            'ZWE':'No'\n",
    "            }\n",
    "\n",
    "onu_ukr_modified = {key: 0 if value == 'Yes' else 1 if value == 'No' else 0.5 for key, value in onu_ukr.items()}\n",
    "\n",
    "# Modificar el diccionario onu_ukr para representar numéricamente las votaciones\n",
    "onu_ukr_modified = {key: 0 if value == 'Yes' else 1 if value == 'No' else 0.5 for key, value in onu_ukr.items()}\n",
    "\n",
    "# Agregar nuevas columnas usando los diccionarios\n",
    "df_2019['ukr_o'] = df_2019['iso_o'].map(ucrania)\n",
    "df_2019['ukr_d'] = df_2019['iso_d'].map(ucrania) \n",
    "df_2019['ukr'] = abs(df_2019['ukr_o']-df_2019['ukr_d'])\n",
    "\n",
    "df_2019['onu_ukr_o'] = df_2019['iso_o'].map(onu_ukr_modified).fillna(0.5)\n",
    "df_2019['onu_ukr_d'] = df_2019['iso_d'].map(onu_ukr_modified).fillna(0.5)\n",
    "df_2019['onu_ukr'] = abs(df_2019['onu_ukr_o']-df_2019['onu_ukr_d'])\n",
    "\n",
    "# Crear variable de continente (0 si mismo continente, 1 si diferente)\n",
    "df_2019['continent'] = 1 \n",
    "condicion = df_2019['region_o'] == df_2019['region_d']\n",
    "df_2019.loc[condicion, 'continent'] = 0\n",
    "\n",
    "# Ajustar variables asimétricas (arms, military, financial, travel, other)\n",
    "variables  = [\"arms\", \"military\", \"financial\", \"travel\", \"other\"]\n",
    "\n",
    "for X in variables:\n",
    "    # Identificar pares de países donde la variable es 1\n",
    "    tuplas = set(df_2019[df_2019[X] == 1][['iso_o', 'iso_d']].apply(tuple, axis=1))\n",
    "    tuplas = pd.DataFrame(tuplas)\n",
    "    tuplas_inv = tuplas[[1, 0]]\n",
    "    tuplas_inv.columns = ['iso_o', 'iso_d']\n",
    "\n",
    "    tuplas_arms_inv_set = set(map(tuple, tuplas_inv.values))\n",
    "\n",
    "    # Función para actualizar la variable\n",
    "    def actualizar(row):\n",
    "        if row[X] == 0 and (row['iso_o'], row['iso_d']) in tuplas_arms_inv_set:\n",
    "            return 1\n",
    "        return row[X]\n",
    "\n",
    "    Y = X + '_actualizado'\n",
    "    # Aplicar la función a df_2019\n",
    "    df_2019[Y] = df_2019.apply(actualizar, axis=1)\n",
    "\n",
    "# Definir listas de variables geopolíticas y culturales\n",
    "vars_geo = ['oecd', 'align_eu_us', 'align_chn', 'arms_actualizado', 'military_actualizado', 'ukr', 'continent']\n",
    "\n",
    "vars_cult = ['lang_dist_norm', 'colony', 'common_legal_origin']\n",
    "\n"
   ]
  },
  {
   "cell_type": "markdown",
   "metadata": {},
   "source": [
    "---\n",
    "<h1 align=\"center\"><strong>Reducción de dimensionalidad</strong></h1>\n",
    "\n",
    "---\n",
    "\n",
    "\n",
    "En un segundo paso el código realiza una serie de operaciones de procesamiento y análisis de datos en un conjunto de datos relacionados con variables geopolíticas, culturales y comerciales entre países. El proceso es el que sigue:\n",
    "\n",
    "1. Preparación de Datos:\n",
    "   El código comienza filtrando el DataFrame original (df_2019) para seleccionar variables específicas relevantes para el análisis. Estas variables incluyen identificadores de países, medidas de distancia geopolítica, alineaciones políticas, acuerdos comerciales, factores culturales y respuestas a situaciones internacionales como la crisis en Ucrania.\n",
    "\n",
    "2. Análisis de Factores Geopolíticos (distancia geopolítica):\n",
    "   - Se calcula una media de variables geopolíticas para cada par de países.\n",
    "   - Se aplica una normalización Min-Max a esta media y a la variable distancia geopolítica normalizada.\n",
    "   - Se utiliza Análisis de Componentes Principales (PCA) para reducir estas dos variables a un solo componente, capturando la esencia de la relación geopolítica entre cada par de países.\n",
    "   - El resultado del PCA se normaliza nuevamente para mantener la consistencia en la escala de los datos.\n",
    "\n",
    "3. Análisis de Factores Culturales (distancia cultural):\n",
    "   - Se aplica un Análisis Factorial de Datos Mixtos (FAMD) a las variables culturales. El FAMD es particularmente útil aquí porque puede manejar una mezcla de variables continuas y categóricas.\n",
    "   - Este análisis reduce múltiples factores culturales a un solo componente que representa la \"distancia cultural\" entre países.\n",
    "   - El resultado se normaliza para mantener la consistencia con otras medidas.\n",
    "\n",
    "4. Análisis de Acuerdos Comerciales:\n",
    "   - Se utiliza Análisis de Correspondencias Múltiples (MCA) para analizar las variables relacionadas con acuerdos comerciales. El MCA es apropiado para datos categóricos, como la presencia o ausencia de diferentes tipos de acuerdos comerciales.\n",
    "   - Este análisis reduce la información de múltiples acuerdos comerciales a un solo componente que representa la \"similitud comercial\" entre países.\n",
    "   - El resultado también se normaliza.\n",
    "En cada paso, el código crea nuevas variables en el DataFrame que representan las medidas compuestas de relaciones geopolíticas, culturales y comerciales. Estas nuevas variables son:\n",
    "- 'pca_geo_norm': Una medida normalizada de la distancia geopolítica.\n",
    "- 'famd_cult_norm': Una medida normalizada de la distancia cultural.\n",
    "- 'famd_trade_norm': Una medida normalizada de la similitud en acuerdos comerciales.\n",
    "\n",
    "El uso de técnicas de reducción de dimensionalidad (PCA, FAMD, MCA) permite condensar información compleja de múltiples variables en componentes únicos más manejables, facilitando análisis posteriores y visualizaciones.\n",
    "\n",
    "La normalización consistente de los resultados asegura que todas estas nuevas medidas estén en escalas comparables, lo que es crucial para análisis comparativos o para su uso en modelos estadísticos posteriores.\n",
    "Este proceso de transformación de datos proporciona una base sólida para análisis más profundos de cómo los factores geopolíticos, culturales y comerciales interactúan y posiblemente influyen en las relaciones económicas entre países. El resultado es un conjunto de datos enriquecido que captura aspectos complejos de las relaciones internacionales en formas cuantificables y comparables.\n",
    "\n"
   ]
  },
  {
   "cell_type": "code",
   "execution_count": 20,
   "metadata": {},
   "outputs": [],
   "source": [
    "from sklearn.decomposition import PCA\n",
    "from sklearn.preprocessing import StandardScaler\n",
    "\n",
    "# Inicializar el escalador Min-Max para normalización\n",
    "scaler = MinMaxScaler()\n",
    "\n",
    "# Filtrar el DataFrame para incluir solo las variables relevantes\n",
    "df_filtered = df_2019[['iso_o', 'iso_d', 'geopol_dist_norm', 'align_eu_us', 'align_chn',\n",
    "                       'arms_actualizado', 'military_actualizado', 'member_wto_joint',\n",
    "                       'agree_pta_goods', 'agree_pta_services', 'agree_fta', 'agree_eia',\n",
    "                       'agree_cu', 'eu_joint', 'agree_fta_eia', \n",
    "                       'agree_pta', 'lang_dist_norm', 'colony',\n",
    "                       'common_legal_origin', 'ukr', 'continent', 'onu_ukr', 'oecd']].copy()\n",
    "\n",
    "#----------------------------------------------\n",
    "\n",
    "# Agregación de los datos geopolíticos\n",
    "data_scaled = ['oecd', 'align_eu_us', \n",
    "                'align_chn', 'arms_actualizado', \n",
    "                'military_actualizado', 'ukr', 'continent', \n",
    "                'geopol_dist_norm']\n",
    "\n",
    "# Aplicar FAMD a los datos geopolíticos estandarizados\n",
    "famd = FAMD(n_components=1, random_state=42)\n",
    "famd_result_cult = famd.fit_transform(df_filtered[data_scaled])\n",
    "df_filtered['pca_geo'] = famd_result_cult\n",
    "df_filtered['pca_geo_norm'] = scaler.fit_transform(df_filtered[['pca_geo']])\n",
    "\n",
    "#----------------------------------------------\n",
    "\n",
    "# Aplicar FAMD a las variables culturales\n",
    "famd = FAMD(n_components=1, random_state=42)\n",
    "famd_result_cult = famd.fit_transform(df_filtered[vars_cult])\n",
    "df_filtered['famd_cult'] = famd_result_cult\n",
    "df_filtered['famd_cult_norm'] = scaler.fit_transform(df_filtered[['famd_cult']])\n",
    "df_filtered['famd_cult_norm'] = 1- df_filtered['famd_cult_norm']\n",
    "\n",
    "\n",
    "from sklearn.preprocessing import StandardScaler\n",
    "\n",
    "# Aplicar MEDIA a las variables de comercio\n",
    "\n",
    "df_filtered['famd_trade_norm'] = df_filtered[['member_wto_joint', 'agree_pta_goods',\n",
    "                                            'agree_pta_services', 'agree_fta',\n",
    "                                            'agree_eia', 'agree_cu', 'eu_joint',\n",
    "                                            'agree_fta_eia','agree_pta']].mean(axis=1)\n",
    "\n"
   ]
  },
  {
   "cell_type": "markdown",
   "metadata": {},
   "source": [
    "---\n",
    "<h1 align=\"center\"><strong>Clusters España</strong></h1>\n",
    "\n",
    "---\n",
    "\n",
    "Las ventajas del Clustering Aglomerativo, especialmente en el contexto de análisis de relaciones internacionales, son numerosas. Aquí te presento una explicación detallada de sus principales beneficios:\n",
    "\n",
    "1. Interpretabilidad Jerárquica:\n",
    "   - El algoritmo produce una estructura jerárquica (dendrograma) que permite visualizar cómo se forman los clusters en diferentes niveles de similitud.\n",
    "   - Esto facilita la comprensión de las relaciones entre países a múltiples escalas, desde agrupaciones muy específicas hasta categorías más amplias.\n",
    "\n",
    "2. Flexibilidad en el Número de Clusters:\n",
    "   - Aunque en este caso se predefinieron 5 clusters, el método permite \"cortar\" el dendrograma a diferentes niveles para obtener un número variable de clusters.\n",
    "   - Esta flexibilidad es valiosa para explorar diferentes niveles de granularidad en las relaciones internacionales.\n",
    "\n",
    "3. No Requiere Especificación Previa de Centroides:\n",
    "   - A diferencia de métodos como K-means, el clustering aglomerativo no necesita una inicialización de centroides, lo que lo hace menos susceptible a mínimos locales causados por una mala inicialización.\n",
    "\n",
    "4. Manejo Eficiente de Diferentes Formas de Clusters:\n",
    "   - Es capaz de descubrir clusters de diversas formas y tamaños, no solo circulares o esféricos.\n",
    "   - Esto es particularmente útil en relaciones internacionales, donde los patrones de agrupación pueden ser complejos y no uniformes.\n",
    "\n",
    "5. Robustez ante Outliers:\n",
    "   - Especialmente con el método de Ward, el algoritmo es relativamente robusto ante la presencia de valores atípicos, lo cual es importante cuando se analizan países con relaciones muy distintas al patrón general.\n",
    "\n",
    "6. Captura de Relaciones de Similitud Multidimensionales:\n",
    "   - Al utilizar múltiples variables (en este caso, distancia geopolítica y similitud comercial), el método puede capturar relaciones complejas que no serían evidentes al examinar cada variable por separado.\n",
    "\n",
    "7. No Asume Distribuciones Específicas:\n",
    "   - El método no hace suposiciones sobre la distribución subyacente de los datos, lo que lo hace apropiado para una amplia gama de escenarios en relaciones internacionales.\n",
    "\n",
    "8. Visualización Intuitiva:\n",
    "   - Los resultados se pueden representar en un dendrograma o en un gráfico de dispersión 2D, facilitando la comunicación de resultados a audiencias no técnicas, como responsables políticos.\n",
    "\n",
    "9. Capacidad para Manejar Datos Mixtos:\n",
    "   - Aunque en este caso se usaron variables normalizadas, el método puede adaptarse para manejar tanto variables continuas como categóricas, lo cual es común en datos de relaciones internacionales.\n",
    "\n",
    "10. Descubrimiento de Estructuras Subyacentes:\n",
    "    - Puede revelar patrones y agrupaciones en las relaciones internacionales que no son inmediatamente evidentes, proporcionando nuevas perspectivas para la formulación de políticas.\n",
    "\n",
    "11. Estabilidad Temporal:\n",
    "    - Los resultados tienden a ser más estables a lo largo del tiempo en comparación con otros métodos de clustering, lo que es valioso para el análisis de tendencias a largo plazo en relaciones internacionales.\n",
    "\n",
    "12. Facilidad de Interpretación Contextual:\n",
    "    - Los clusters resultantes pueden interpretarse fácilmente en el contexto de las relaciones internacionales, permitiendo a los expertos en el campo dar sentido a las agrupaciones basándose en su conocimiento del dominio.\n",
    "\n",
    "13. Adaptabilidad a Diferentes Métricas de Distancia:\n",
    "    - Aunque en este caso se usó la distancia euclidiana, el método puede adaptarse a otras métricas de distancia que puedan ser más apropiadas para ciertos aspectos de las relaciones internacionales.\n",
    "\n",
    "Estas ventajas hacen del Clustering Aglomerativo una herramienta poderosa y versátil para el análisis de relaciones internacionales, permitiendo descubrir patrones complejos y proporcionar una base sólida para la toma de decisiones en política exterior y estrategias comerciales.\n",
    "\n",
    "Análisis de Clustering Aglomerativo en las Relaciones Internacionales de España\n",
    "\n",
    "Metodología:\n",
    "\n",
    "En este estudio, empleamos el algoritmo de Clustering Aglomerativo para analizar y categorizar las relaciones internacionales de España. Este método nos permite identificar grupos de países que comparten características similares en su relación con España, basándonos en métricas geopolíticas y comerciales.\n",
    "\n",
    "1. Preparación de Datos:\n",
    "\n",
    "   Utilizamos dos variables principales para cada país:\n",
    "   a) pca_geo_norm: Una medida normalizada de la distancia geopolítica, derivada de un análisis de componentes principales (PCA) de múltiples indicadores geopolíticos.\n",
    "   b) famd_trade_norm: Una medida normalizada de la similitud en acuerdos comerciales, obtenida mediante un Análisis Factorial de Datos Mixtos (FAMD) de diversos acuerdos comerciales.\n",
    "\n",
    "   Estas variables se normalizaron previamente para asegurar una escala comparable, con valores entre 0 y 1.\n",
    "\n",
    "2. Algoritmo de Clustering Aglomerativo:\n",
    "\n",
    "   Utilizamos la implementación de scikit-learn del Clustering Aglomerativo, que sigue un enfoque jerárquico bottom-up. El proceso se puede describir matemáticamente de la siguiente manera:\n",
    "\n",
    "   a) Inicialización:\n",
    "      Cada país i se considera un cluster C_i = {i}, i = 1, ..., n\n",
    "      Conjunto de clusters activos A = {C_1, ..., C_n}\n",
    "\n",
    "   b) Iteración:\n",
    "      Mientras |A| > k (donde k es el número deseado de clusters, en nuestro caso 5):\n",
    "      - Encontrar C_i, C_j ∈ A que minimicen d(C_i, C_j)\n",
    "      - A = A \\ {C_i, C_j} ∪ {C_i ∪ C_j}\n",
    "\n",
    "      Donde d(C_i, C_j) es la distancia entre clusters, definida por el método de Ward:\n",
    "      d(C_i, C_j) = Σ||x - m_{i∪j}||² - [Σ||x - m_i||² + Σ||x - m_j||²]\n",
    "                    x∈C_i∪C_j         x∈C_i        x∈C_j\n",
    "\n",
    "      m_i es el centroide del cluster C_i\n",
    "\n",
    "   c) Criterio de Ward:\n",
    "      Este método busca minimizar la varianza total dentro de los clusters. En cada paso, une los dos clusters cuya fusión resulta en el menor aumento de la suma de cuadrados dentro del cluster (WSS):\n",
    "\n",
    "      WSS = Σ Σ ||x - m_k||²\n",
    "            k x∈C_k\n",
    "\n",
    "      Donde m_k es el centroide del cluster C_k\n",
    "\n",
    "3. Implementación y Parámetros:\n",
    "\n",
    "   Utilizamos la siguiente configuración:\n",
    "   - n_clusters=5: Predefinimos 5 grupos para categorizar las relaciones internacionales.\n",
    "   - linkage='ward': Utilizamos el método de Ward para la fusión de clusters.\n",
    "   - metric='euclidean': La distancia euclidiana se usa para medir la similitud entre puntos.\n",
    "\n",
    "4. Interpretación de Resultados:\n",
    "\n",
    "   El algoritmo asigna cada país a uno de los 5 clusters. La interpretación se basa en:\n",
    "   \n",
    "   a) Centroides de los clusters: Representan las características promedio de cada grupo en términos de distancia geopolítica y similitud comercial con España.\n",
    "   \n",
    "   b) Varianza intra-cluster: Indica la homogeneidad dentro de cada grupo. Una menor varianza sugiere relaciones más consistentes dentro del cluster.\n",
    "   \n",
    "   c) Distancia inter-cluster: Muestra cuán diferentes son los grupos entre sí, lo que puede indicar distintos niveles o tipos de relaciones con España.\n",
    "\n",
    "5. Visualización:\n",
    "\n",
    "   Representamos los resultados en un gráfico de dispersión bidimensional donde:\n",
    "   - Eje X: Distancia geopolítica normalizada (pca_geo_norm)\n",
    "   - Eje Y: Similitud en acuerdos comerciales normalizada (famd_trade_norm)\n",
    "   - Color: Indica la pertenencia al cluster\n",
    "\n",
    "   Esta visualización permite una interpretación intuitiva de cómo se agrupan los países en su relación con España.\n",
    "\n",
    "6. Limitaciones y Consideraciones:\n",
    "\n",
    "   - El número de clusters (5) es predefinido y podría no representar la estructura óptima de los datos.\n",
    "   - El algoritmo es sensible a outliers y la elección inicial de centroides.\n",
    "   - La interpretación de los clusters requiere conocimiento experto en relaciones internacionales para dar contexto a los agrupamientos matemáticos.\n",
    "\n",
    "Este enfoque metodológico nos permite obtener una visión estructurada y cuantitativa de las relaciones internacionales de España, categorizando países basándose en similitudes geopolíticas y comerciales. Los resultados pueden servir como base para análisis más profundos de la política exterior y estrategias comerciales de España.\n"
   ]
  },
  {
   "cell_type": "code",
   "execution_count": 21,
   "metadata": {},
   "outputs": [
    {
     "data": {
      "image/png": "[encoded data removed]",
      "text/plain": [
       "<Figure size 1000x600 with 2 Axes>"
      ]
     },
     "metadata": {},
     "output_type": "display_data"
    },
    {
     "name": "stdout",
     "output_type": "stream",
     "text": [
      "Número de clusters encontrados por Agglomerative Clustering: 5\n"
     ]
    }
   ],
   "source": [
    "from sklearn.cluster import AgglomerativeClustering\n",
    "\n",
    "df_españa = df_filtered[df_filtered['iso_o']==\"ESP\"]\n",
    "\n",
    "\n",
    "\n",
    "\n",
    "X = df_españa[['pca_geo_norm', 'famd_trade_norm', 'famd_cult_norm']]\n",
    "X = np.array(X)\n",
    "\n",
    "# Agglomerative Clustering\n",
    "agglomerative = AgglomerativeClustering(n_clusters=5)\n",
    "agglomerative_labels = agglomerative.fit_predict(X)\n",
    "# Visualización\n",
    "fig, ax = plt.subplots(figsize=(10, 6))\n",
    "\n",
    "# Agglomerative Clustering\n",
    "scatter = ax.scatter(X[:, 0], X[:, 1], c=agglomerative_labels, cmap='viridis')\n",
    "ax.set_title('Agglomerative Clustering')\n",
    "ax.set_xlabel('PIB per cápita (normalizado)')\n",
    "ax.set_ylabel('Esperanza de vida (normalizada)')\n",
    "plt.colorbar(scatter, ax=ax)\n",
    "\n",
    "plt.tight_layout()\n",
    "plt.show()\n",
    "\n",
    "# Imprimir resultados\n",
    "print(\"Número de clusters encontrados por Agglomerative Clustering:\", len(set(agglomerative_labels)))"
   ]
  },
  {
   "cell_type": "code",
   "execution_count": 37,
   "metadata": {},
   "outputs": [
    {
     "data": {
      "image/png": "[encoded data removed]",
      "text/plain": [
       "<Figure size 1200x2400 with 1 Axes>"
      ]
     },
     "metadata": {},
     "output_type": "display_data"
    }
   ],
   "source": [
    "import numpy as np\n",
    "import matplotlib.pyplot as plt\n",
    "from scipy.cluster.hierarchy import dendrogram, linkage\n",
    "from sklearn.preprocessing import StandardScaler\n",
    "\n",
    "# Asumiendo que df_españa ya está definido\n",
    "X = df_españa[['pca_geo_norm', 'famd_trade_norm', 'famd_cult_norm']].values\n",
    "country_names = df_españa['iso_d'].tolist()  # Usar códigos ISO de países\n",
    "\n",
    "# Normalizar los datos\n",
    "scaler = StandardScaler()\n",
    "X_normalized = scaler.fit_transform(X)\n",
    "\n",
    "# Crear el linkage matrix para el dendrograma\n",
    "linkage_matrix = linkage(X_normalized, method='ward')\n",
    "\n",
    "# Calcular la altura de la figura basada en el número de países\n",
    "fig_height = max(20, len(country_names) * 0.1)  # Ajusta el factor 0.2 según sea necesario\n",
    "\n",
    "# Crear la figura para el dendrograma\n",
    "plt.figure(figsize=(12, fig_height))\n",
    "\n",
    "# Generar el dendrograma\n",
    "dendrogram(\n",
    "    linkage_matrix,\n",
    "    labels=country_names,\n",
    "    orientation='left',  # Hacer el dendrograma vertical\n",
    "    leaf_font_size=6,    # Ajusta este valor si es necesario\n",
    "    leaf_rotation=0      # Mantener las etiquetas horizontales\n",
    ")\n",
    "\n",
    "# Configurar el título y etiquetas\n",
    "plt.title('Dendrograma Vertical del Clustering Aglomerativo de Países', fontsize=16)\n",
    "plt.xlabel('Distancia', fontsize=12)\n",
    "plt.ylabel('Países', fontsize=12)\n",
    "\n",
    "# Ajustar el layout\n",
    "plt.tight_layout()\n",
    "\n",
    "# Ajustar los márgenes para evitar que las etiquetas se corten\n",
    "plt.subplots_adjust(left=0.3)  # Ajusta este valor si es necesario\n",
    "\n",
    "# Mostrar la figura\n",
    "plt.show()\n",
    "\n",
    "# Opcional: Si quieres guardar la figura\n",
    "# plt.savefig('dendrograma_vertical_todos_paises.png', dpi=300, bbox_inches='tight')"
   ]
  },
  {
   "cell_type": "code",
   "execution_count": 39,
   "metadata": {},
   "outputs": [
    {
     "name": "stdout",
     "output_type": "stream",
     "text": [
      "\n",
      "Países por cluster (Agglomerative Clustering):\n",
      "Cluster 0: ABW, AGO, AIA, ALA, AND, ARE, ASM, AUS, BDI, BEN, BFA, BGD, BHR, BLM, BLR, BMU, BRA, BRN, BTN, BWA, CHE, CIV, CMR, COG, COK, COM, CPV, CUW, CXR, CYM, DJI, DZA, ERI, ETH, FJI, FLK, FRO, FSM, GAB, GGY, GHA, GIB, GIN, GLP, GMB, GNB, GRL, GUF, GUM, HKG, IDN, IMN, IND, IOT, IRN, JEY, JOR, KAZ, KEN, KGZ, KHM, KIR, KWT, LAO, LBR, LKA, LSO, MAC, MAF, MCO, MDG, MDV, MHL, MLI, MNG, MNP, MOZ, MRT, MSR, MTQ, MUS, MWI, MYS, MYT, NAM, NCL, NER, NFK, NIU, NPL, NRU, NZL, OMN, PAK, PCN, PLW, PNG, PSE, PYF, QAT, REU, RWA, SAU, SEN, SHN, SLB, SLE, SMR, SPM, SRB, STP, SWZ, SXM, SYC, TCA, TCD, TGO, THA, TJK, TKL, TKM, TLS, TON, TUN, TUR, TUV, TWN, TZA, UGA, UZB, VAT, VGB, VIR, VNM, VUT, WLF, WSM, ZAF, ZMB\n",
      "Cluster 1: AFG, ARM, AZE, CAF, CHN, COD, EGY, IRQ, ISR, LBN, LBY, MMR, NGA, PRK, RUS, SDN, SOM, SSD, SYR, VEN, YEM, ZWE\n",
      "Cluster 2: ARG, BOL, CCK, CUB, ESH, GNQ, HTI, MAR, PHL, PRI, PRY, URY, USA\n",
      "Cluster 3: ALB, ATG, AUT, BEL, BGR, BHS, BIH, BLZ, BRB, CAN, CYP, CZE, DEU, DMA, DNK, EST, FIN, FRA, GBR, GEO, GRC, GRD, GUY, HRV, HUN, IRL, ISL, ITA, JAM, JPN, KNA, KOR, LCA, LIE, LTU, LUX, LVA, MDA, MKD, MLT, MNE, NLD, NOR, POL, PRT, ROU, SGP, SUR, SVK, SVN, SWE, TTO, UKR, VCT\n",
      "Cluster 4: CHL, COL, CRI, DOM, ECU, GTM, HND, MEX, NIC, PAN, PER, SLV\n"
     ]
    }
   ],
   "source": [
    "\n",
    "# Función para imprimir países por cluster\n",
    "def print_countries_by_cluster(labels, algorithm_name):\n",
    "    unique_labels = set(labels)\n",
    "    print(f\"\\nPaíses por cluster ({algorithm_name}):\")\n",
    "    for label in unique_labels:\n",
    "        if label != -1:  # -1 es el label para ruido en DBSCAN\n",
    "            countries = df_españa[labels == label]['iso_d'].tolist()\n",
    "            print(f\"Cluster {label}: {', '.join(countries)}\")\n",
    "        else:\n",
    "            countries = df_españa[labels == -1]['iso_d'].tolist()\n",
    "            print(f\"Ruido: {', '.join(countries)}\")\n",
    "\n",
    "\n",
    "# Imprimir países por cluster para Agglomerative Clustering\n",
    "print_countries_by_cluster(agglomerative_labels, \"Agglomerative Clustering\")"
   ]
  },
  {
   "cell_type": "code",
   "execution_count": 40,
   "metadata": {},
   "outputs": [
    {
     "name": "stdout",
     "output_type": "stream",
     "text": [
      "\n",
      "Resultados del Agglomerative Clustering exportados a 'agglomerative_clustering_results.csv'\n"
     ]
    }
   ],
   "source": [
    "\n",
    "# Exportar resultados de Agglomerative Clustering a CSV\n",
    "results_df = pd.DataFrame({\n",
    "    'iso_d': df_españa['iso_d'],\n",
    "    'cluster': agglomerative_labels,\n",
    "    'pca_geo_norm': df_españa['pca_geo_norm'],\n",
    "    'famd_trade_norm': df_españa['famd_trade_norm'],\n",
    "    'famd_cult_norm': df_españa['famd_cult_norm']\n",
    "})\n",
    "\n",
    "# Ordenar por cluster y luego por iso_d\n",
    "results_df = results_df.sort_values(['cluster', 'iso_d'])\n",
    "\n",
    "# Exportar a CSV\n",
    "results_df.to_csv(r\"C:\\Users\\Usuario\\Documents\\Github\\Seguridad económica\\Resultados\\comunidades\\agglomerative_clustering_results.csv\", sep = \";\", index=False)\n",
    "print(\"\\nResultados del Agglomerative Clustering exportados a 'agglomerative_clustering_results.csv'\")"
   ]
  },
  {
   "cell_type": "markdown",
   "metadata": {},
   "source": [
    "---\n",
    "### TABLA\n",
    "---"
   ]
  },
  {
   "cell_type": "code",
   "execution_count": 44,
   "metadata": {},
   "outputs": [
    {
     "name": "stdout",
     "output_type": "stream",
     "text": [
      "Economías Emergentes y en Desarrollo (Cluster 0) Estados con Desafíos Geopolíticos (Cluster 1) Economías Avanzadas y Aliados Estratégicos (Cluster 2) Socios Históricos y Culturales (Cluster 3) América Latina: Aliados Regionales Clave (Cluster 4)\n",
      "                                             ABW                                           AFG                                                    ARG                                        ALB                                                  CHL\n",
      "                                             AGO                                           ARM                                                    BOL                                        ATG                                                  COL\n",
      "                                             AIA                                           AZE                                                    CCK                                        AUT                                                  CRI\n",
      "                                             ALA                                           CAF                                                    CUB                                        BEL                                                  DOM\n",
      "                                             AND                                           CHN                                                    ESH                                        BGR                                                  ECU\n",
      "                                             ARE                                           COD                                                    GNQ                                        BHS                                                  GTM\n",
      "                                             ASM                                           EGY                                                    HTI                                        BIH                                                  HND\n",
      "                                             AUS                                           IRQ                                                    MAR                                        BLZ                                                  MEX\n",
      "                                             BDI                                           ISR                                                    PHL                                        BRB                                                  NIC\n",
      "                                             BEN                                           LBN                                                    PRI                                        CAN                                                  PAN\n",
      "                                             BFA                                           LBY                                                    PRY                                        CYP                                                  PER\n",
      "                                             BGD                                           MMR                                                    URY                                        CZE                                                  SLV\n",
      "                                             BHR                                           NGA                                                    USA                                        DEU                                                     \n",
      "                                             BLM                                           PRK                                                                                               DMA                                                     \n",
      "                                             BLR                                           RUS                                                                                               DNK                                                     \n",
      "                                             BMU                                           SDN                                                                                               EST                                                     \n",
      "                                             BRA                                           SOM                                                                                               FIN                                                     \n",
      "                                             BRN                                           SSD                                                                                               FRA                                                     \n",
      "                                             BTN                                           SYR                                                                                               GBR                                                     \n",
      "                                             BWA                                           VEN                                                                                               GEO                                                     \n",
      "                                             CHE                                           YEM                                                                                               GRC                                                     \n",
      "                                             CIV                                           ZWE                                                                                               GRD                                                     \n",
      "                                             CMR                                                                                                                                             GUY                                                     \n",
      "                                             COG                                                                                                                                             HRV                                                     \n",
      "                                             COK                                                                                                                                             HUN                                                     \n",
      "                                             COM                                                                                                                                             IRL                                                     \n",
      "                                             CPV                                                                                                                                             ISL                                                     \n",
      "                                             CUW                                                                                                                                             ITA                                                     \n",
      "                                             CXR                                                                                                                                             JAM                                                     \n",
      "                                             CYM                                                                                                                                             JPN                                                     \n",
      "                                             DJI                                                                                                                                             KNA                                                     \n",
      "                                             DZA                                                                                                                                             KOR                                                     \n",
      "                                             ERI                                                                                                                                             LCA                                                     \n",
      "                                             ETH                                                                                                                                             LIE                                                     \n",
      "                                             FJI                                                                                                                                             LTU                                                     \n",
      "                                             FLK                                                                                                                                             LUX                                                     \n",
      "                                             FRO                                                                                                                                             LVA                                                     \n",
      "                                             FSM                                                                                                                                             MDA                                                     \n",
      "                                             GAB                                                                                                                                             MKD                                                     \n",
      "                                             GGY                                                                                                                                             MLT                                                     \n",
      "                                             GHA                                                                                                                                             MNE                                                     \n",
      "                                             GIB                                                                                                                                             NLD                                                     \n",
      "                                             GIN                                                                                                                                             NOR                                                     \n",
      "                                             GLP                                                                                                                                             POL                                                     \n",
      "                                             GMB                                                                                                                                             PRT                                                     \n",
      "                                             GNB                                                                                                                                             ROU                                                     \n",
      "                                             GRL                                                                                                                                             SGP                                                     \n",
      "                                             GUF                                                                                                                                             SUR                                                     \n",
      "                                             GUM                                                                                                                                             SVK                                                     \n",
      "                                             HKG                                                                                                                                             SVN                                                     \n",
      "                                             IDN                                                                                                                                             SWE                                                     \n",
      "                                             IMN                                                                                                                                             TTO                                                     \n",
      "                                             IND                                                                                                                                             UKR                                                     \n",
      "                                             IOT                                                                                                                                             VCT                                                     \n",
      "                                             IRN                                                                                                                                                                                                     \n",
      "                                             JEY                                                                                                                                                                                                     \n",
      "                                             JOR                                                                                                                                                                                                     \n",
      "                                             KAZ                                                                                                                                                                                                     \n",
      "                                             KEN                                                                                                                                                                                                     \n",
      "                                             KGZ                                                                                                                                                                                                     \n",
      "                                             KHM                                                                                                                                                                                                     \n",
      "                                             KIR                                                                                                                                                                                                     \n",
      "                                             KWT                                                                                                                                                                                                     \n",
      "                                             LAO                                                                                                                                                                                                     \n",
      "                                             LBR                                                                                                                                                                                                     \n",
      "                                             LKA                                                                                                                                                                                                     \n",
      "                                             LSO                                                                                                                                                                                                     \n",
      "                                             MAC                                                                                                                                                                                                     \n",
      "                                             MAF                                                                                                                                                                                                     \n",
      "                                             MCO                                                                                                                                                                                                     \n",
      "                                             MDG                                                                                                                                                                                                     \n",
      "                                             MDV                                                                                                                                                                                                     \n",
      "                                             MHL                                                                                                                                                                                                     \n",
      "                                             MLI                                                                                                                                                                                                     \n",
      "                                             MNG                                                                                                                                                                                                     \n",
      "                                             MNP                                                                                                                                                                                                     \n",
      "                                             MOZ                                                                                                                                                                                                     \n",
      "                                             MRT                                                                                                                                                                                                     \n",
      "                                             MSR                                                                                                                                                                                                     \n",
      "                                             MTQ                                                                                                                                                                                                     \n",
      "                                             MUS                                                                                                                                                                                                     \n",
      "                                             MWI                                                                                                                                                                                                     \n",
      "                                             MYS                                                                                                                                                                                                     \n",
      "                                             MYT                                                                                                                                                                                                     \n",
      "                                             NAM                                                                                                                                                                                                     \n",
      "                                             NCL                                                                                                                                                                                                     \n",
      "                                             NER                                                                                                                                                                                                     \n",
      "                                             NFK                                                                                                                                                                                                     \n",
      "                                             NIU                                                                                                                                                                                                     \n",
      "                                             NPL                                                                                                                                                                                                     \n",
      "                                             NRU                                                                                                                                                                                                     \n",
      "                                             NZL                                                                                                                                                                                                     \n",
      "                                             OMN                                                                                                                                                                                                     \n",
      "                                             PAK                                                                                                                                                                                                     \n",
      "                                             PCN                                                                                                                                                                                                     \n",
      "                                             PLW                                                                                                                                                                                                     \n",
      "                                             PNG                                                                                                                                                                                                     \n",
      "                                             PSE                                                                                                                                                                                                     \n",
      "                                             PYF                                                                                                                                                                                                     \n",
      "                                             QAT                                                                                                                                                                                                     \n",
      "                                             REU                                                                                                                                                                                                     \n",
      "                                             RWA                                                                                                                                                                                                     \n",
      "                                             SAU                                                                                                                                                                                                     \n",
      "                                             SEN                                                                                                                                                                                                     \n",
      "                                             SHN                                                                                                                                                                                                     \n",
      "                                             SLB                                                                                                                                                                                                     \n",
      "                                             SLE                                                                                                                                                                                                     \n",
      "                                             SMR                                                                                                                                                                                                     \n",
      "                                             SPM                                                                                                                                                                                                     \n",
      "                                             SRB                                                                                                                                                                                                     \n",
      "                                             STP                                                                                                                                                                                                     \n",
      "                                             SWZ                                                                                                                                                                                                     \n",
      "                                             SXM                                                                                                                                                                                                     \n",
      "                                             SYC                                                                                                                                                                                                     \n",
      "                                             TCA                                                                                                                                                                                                     \n",
      "                                             TCD                                                                                                                                                                                                     \n",
      "                                             TGO                                                                                                                                                                                                     \n",
      "                                             THA                                                                                                                                                                                                     \n",
      "                                             TJK                                                                                                                                                                                                     \n",
      "                                             TKL                                                                                                                                                                                                     \n",
      "                                             TKM                                                                                                                                                                                                     \n",
      "                                             TLS                                                                                                                                                                                                     \n",
      "                                             TON                                                                                                                                                                                                     \n",
      "                                             TUN                                                                                                                                                                                                     \n",
      "                                             TUR                                                                                                                                                                                                     \n",
      "                                             TUV                                                                                                                                                                                                     \n",
      "                                             TWN                                                                                                                                                                                                     \n",
      "                                             TZA                                                                                                                                                                                                     \n",
      "                                             UGA                                                                                                                                                                                                     \n",
      "                                             UZB                                                                                                                                                                                                     \n",
      "                                             VAT                                                                                                                                                                                                     \n",
      "                                             VGB                                                                                                                                                                                                     \n",
      "                                             VIR                                                                                                                                                                                                     \n",
      "                                             VNM                                                                                                                                                                                                     \n",
      "                                             VUT                                                                                                                                                                                                     \n",
      "                                             WLF                                                                                                                                                                                                     \n",
      "                                             WSM                                                                                                                                                                                                     \n",
      "                                             ZAF                                                                                                                                                                                                     \n",
      "                                             ZMB                                                                                                                                                                                                     \n",
      "\n",
      "Número de países en cada cluster:\n",
      "Economías Emergentes y en Desarrollo (Cluster 0): 139 países\n",
      "Estados con Desafíos Geopolíticos (Cluster 1): 22 países\n",
      "Economías Avanzadas y Aliados Estratégicos (Cluster 2): 13 países\n",
      "Socios Históricos y Culturales (Cluster 3): 54 países\n",
      "América Latina: Aliados Regionales Clave (Cluster 4): 12 países\n"
     ]
    }
   ],
   "source": [
    "import pandas as pd\n",
    "from collections import defaultdict\n",
    "\n",
    "# Definir los nombres de los clusters\n",
    "cluster_names = {\n",
    "    0: \"Economías Emergentes y en Desarrollo\",\n",
    "    1: \"Estados con Desafíos Geopolíticos\",\n",
    "    2: \"Economías Avanzadas y Aliados Estratégicos\",\n",
    "    3: \"Socios Históricos y Culturales\",\n",
    "    4: \"América Latina: Aliados Regionales Clave\"\n",
    "}\n",
    "\n",
    "# Asumiendo que results_df es tu DataFrame con la información de clusters\n",
    "# Si el nombre de tu DataFrame es diferente, cámbialo aquí\n",
    "df = results_df\n",
    "\n",
    "# Asegurarse de que las columnas necesarias existen\n",
    "if 'cluster' not in df.columns or 'iso_d' not in df.columns:\n",
    "    raise ValueError(\"El DataFrame debe contener las columnas 'cluster' e 'iso_d'\")\n",
    "\n",
    "# Crear un diccionario para almacenar los países por cluster\n",
    "clusters = defaultdict(list)\n",
    "\n",
    "# Agrupar los países por cluster\n",
    "for _, row in df.iterrows():\n",
    "    clusters[row['cluster']].append(row['iso_d'])\n",
    "\n",
    "# Encontrar el número máximo de países en un cluster\n",
    "max_countries = max(len(countries) for countries in clusters.values())\n",
    "\n",
    "# Crear un DataFrame con los países organizados por cluster nombrado\n",
    "cluster_df = pd.DataFrame({\n",
    "    f\"{cluster_names[i]} (Cluster {i})\": pd.Series(countries + [''] * (max_countries - len(countries)))\n",
    "    for i, countries in clusters.items()\n",
    "})\n",
    "\n",
    "# Ordenar las columnas por número de cluster\n",
    "cluster_df = cluster_df.reindex(sorted(cluster_df.columns, key=lambda x: int(x.split()[-1].strip(')'))), axis=1)\n",
    "\n",
    "# Mostrar la tabla\n",
    "print(cluster_df.to_string(index=False))\n",
    "\n",
    "# Guardar la tabla en un archivo CSV (opcional)\n",
    "cluster_df.to_csv('../Resultados/comunidades/paises_por_cluster_nombrado.csv', index=False, sep=';', encoding='utf-8-sig')\n",
    "\n",
    "# Imprimir información adicional\n",
    "print(\"\\nNúmero de países en cada cluster:\")\n",
    "for i, (name, countries) in enumerate(zip(cluster_names.values(), clusters.values())):\n",
    "    print(f\"{name} (Cluster {i}): {len(countries)} países\")"
   ]
  },
  {
   "cell_type": "code",
   "execution_count": null,
   "metadata": {},
   "outputs": [],
   "source": []
  },
  {
   "cell_type": "code",
   "execution_count": 42,
   "metadata": {},
   "outputs": [
    {
     "name": "stdout",
     "output_type": "stream",
     "text": [
      "\n",
      "Tabla final:\n",
      "                                               Cluster Estadística Distancia geopolítica Distancia comercial Distancia cultural\n",
      "      Economías Emergentes y en Desarrollo (Cluster 0)       Media                  0.03                0.83               0.99\n",
      "      Economías Emergentes y en Desarrollo (Cluster 0)  Desv. Est.                  0.02                0.16               0.02\n",
      "         Estados con Desafíos Geopolíticos (Cluster 1)       Media                  0.75                0.84               0.96\n",
      "         Estados con Desafíos Geopolíticos (Cluster 1)  Desv. Est.                  0.22                0.17               0.16\n",
      "Economías Avanzadas y Aliados Estratégicos (Cluster 2)       Media                  0.02                0.90               0.43\n",
      "Economías Avanzadas y Aliados Estratégicos (Cluster 2)  Desv. Est.                  0.02                0.12               0.13\n",
      "            Socios Históricos y Culturales (Cluster 3)       Media                  0.07                0.12               0.99\n",
      "            Socios Históricos y Culturales (Cluster 3)  Desv. Est.                  0.03                0.13               0.02\n",
      "  América Latina: Aliados Regionales Clave (Cluster 4)       Media                  0.02                0.22               0.27\n",
      "  América Latina: Aliados Regionales Clave (Cluster 4)  Desv. Est.                  0.01                0.00               0.01\n",
      "\n",
      "Número de países en cada cluster:\n",
      "Economías Emergentes y en Desarrollo (Cluster 0): 139 países\n",
      "Estados con Desafíos Geopolíticos (Cluster 1): 22 países\n",
      "Economías Avanzadas y Aliados Estratégicos (Cluster 2): 13 países\n",
      "Socios Históricos y Culturales (Cluster 3): 54 países\n",
      "América Latina: Aliados Regionales Clave (Cluster 4): 12 países\n"
     ]
    }
   ],
   "source": [
    "# Lista de variables a analizar con sus nuevos nombres\n",
    "variables = {\n",
    "    'pca_geo_norm': 'Distancia geopolítica',\n",
    "    'famd_trade_norm': 'Distancia comercial',\n",
    "    'famd_cult_norm': 'Distancia cultural'\n",
    "}\n",
    "\n",
    "# Función para calcular media y desviación estándar\n",
    "def calc_stats(group):\n",
    "    return pd.DataFrame({\n",
    "        'mean': group[variables.keys()].mean(),\n",
    "        'std': group[variables.keys()].std()\n",
    "    })\n",
    "\n",
    "# Calcular estadísticas por cluster\n",
    "cluster_stats = results_df.groupby('cluster').apply(calc_stats).reset_index()\n",
    "\n",
    "# Reestructurar los datos\n",
    "reshaped_stats = []\n",
    "for cluster in sorted(cluster_stats['cluster'].unique()):\n",
    "    cluster_data = cluster_stats[cluster_stats['cluster'] == cluster]\n",
    "    cluster_name = f\"{cluster_names[cluster]} (Cluster {cluster})\"\n",
    "    \n",
    "    mean_row = {'Cluster': cluster_name, 'Estadística': 'Media'}\n",
    "    std_row = {'Cluster': cluster_name, 'Estadística': 'Desv. Est.'}\n",
    "    \n",
    "    for old_var, new_var in variables.items():\n",
    "        mean_value = cluster_data[cluster_data['level_1'] == old_var]['mean'].values[0]\n",
    "        std_value = cluster_data[cluster_data['level_1'] == old_var]['std'].values[0]\n",
    "        \n",
    "        mean_row[new_var] = f\"{mean_value:.2f}\"\n",
    "        std_row[new_var] = f\"{std_value:.2f}\"\n",
    "    \n",
    "    reshaped_stats.extend([mean_row, std_row])\n",
    "\n",
    "# Crear DataFrame final\n",
    "final_df = pd.DataFrame(reshaped_stats)\n",
    "\n",
    "# Reordenar las columnas\n",
    "column_order = ['Cluster', 'Estadística'] + list(variables.values())\n",
    "final_df = final_df[column_order]\n",
    "\n",
    "# Mostrar la tabla\n",
    "print(\"\\nTabla final:\")\n",
    "print(final_df.to_string(index=False))\n",
    "\n",
    "# Guardar la tabla en un archivo CSV\n",
    "final_df.to_csv('../Resultados/comunidades/estadisticas_por_cluster_restructurado.csv', index=False, sep=\";\", encoding='utf-8-sig')\n",
    "\n",
    "# Imprimir información adicional\n",
    "print(\"\\nNúmero de países en cada cluster:\")\n",
    "for cluster, name in cluster_names.items():\n",
    "    count = len(results_df[results_df['cluster'] == cluster])\n",
    "    print(f\"{name} (Cluster {cluster}): {count} países\")"
   ]
  },
  {
   "cell_type": "code",
   "execution_count": 46,
   "metadata": {},
   "outputs": [
    {
     "data": {
      "image/png": "[encoded data removed]",
      "text/plain": [
       "<Figure size 1200x1800 with 3 Axes>"
      ]
     },
     "metadata": {},
     "output_type": "display_data"
    }
   ],
   "source": [
    "import matplotlib.pyplot as plt\n",
    "import seaborn as sns\n",
    "\n",
    "# Asumiendo que ya tienes tu dataframe results_df\n",
    "\n",
    "# Definir nombres más descriptivos para las variables\n",
    "variable_names = {\n",
    "    'pca_geo_norm': 'Distancia Geopolítica',\n",
    "    'famd_trade_norm': 'Distancia Comercial',\n",
    "    'famd_cult_norm': 'Distancia Cultural'\n",
    "}\n",
    "\n",
    "# Definir nombres para los clusters\n",
    "cluster_names = {\n",
    "    0: \"Economías Emergentes\\ny en Desarrollo\",\n",
    "    1: \"Estados con Desafíos\\nGeopolíticos\",\n",
    "    2: \"Economías Avanzadas\\ny Aliados Estratégicos\",\n",
    "    3: \"Socios Históricos\\ny Culturales\",\n",
    "    4: \"América Latina:\\nAliados Regionales Clave\"\n",
    "}\n",
    "\n",
    "# Crear una figura con 3 subplots, uno para cada variable\n",
    "fig, axs = plt.subplots(3, 1, figsize=(12, 18))\n",
    "\n",
    "# Agregar un título principal\n",
    "fig.suptitle('Distribución de Variables por Cluster', fontsize=16, y=0.95)\n",
    "\n",
    "# Lista de variables para los boxplots\n",
    "variables = ['pca_geo_norm', 'famd_trade_norm', 'famd_cult_norm']\n",
    "\n",
    "# Crear un boxplot para cada variable\n",
    "for i, var in enumerate(variables):\n",
    "    sns.boxplot(x='cluster', y=var, data=results_df, ax=axs[i])\n",
    "    axs[i].set_title(f'Distribución de {variable_names[var]}', fontsize=14)\n",
    "    axs[i].set_ylabel(variable_names[var], fontsize=12)\n",
    "    \n",
    "    # Configurar las etiquetas del eje x\n",
    "    if i < 2:  # Para los dos primeros gráficos\n",
    "        axs[i].set_xticklabels([''] * 5)\n",
    "        axs[i].set_xlabel('')\n",
    "    else:  # Para el último gráfico\n",
    "        axs[i].set_xticklabels([cluster_names[j] for j in range(5)], rotation=45, ha='right')\n",
    "        axs[i].set_xlabel('Cluster', fontsize=12)\n",
    "\n",
    "# Ajustar el espacio entre subplots\n",
    "plt.tight_layout()\n",
    "\n",
    "# Ajustar el espacio para el título principal\n",
    "plt.subplots_adjust(top=0.92)\n",
    "\n",
    "# Mostrar la figura\n",
    "plt.show()"
   ]
  },
  {
   "cell_type": "code",
   "execution_count": 10,
   "metadata": {},
   "outputs": [
    {
     "data": {
      "image/png": "[encoded data removed]",
      "text/plain": [
       "<Figure size 1200x800 with 2 Axes>"
      ]
     },
     "metadata": {},
     "output_type": "display_data"
    },
    {
     "name": "stdout",
     "output_type": "stream",
     "text": [
      "Número de países en la visualización: 240\n",
      "Número de clusters únicos: 5\n",
      "Rango de valores para TSNE1: -10.28 a 18.91\n",
      "Rango de valores para TSNE2: -10.22 a 11.33\n"
     ]
    }
   ],
   "source": [
    "import pandas as pd\n",
    "import numpy as np\n",
    "import matplotlib.pyplot as plt\n",
    "from sklearn.manifold import TSNE\n",
    "from sklearn.preprocessing import StandardScaler\n",
    "\n",
    "# Asumiendo que ya tienes tu dataframe results_df\n",
    "\n",
    "# Seleccionar las variables para el análisis\n",
    "features = ['pca_geo_norm', 'famd_trade_norm', 'famd_cult_norm']\n",
    "\n",
    "# Asegurarse de que no hay valores faltantes en las características\n",
    "results_df_clean = results_df.dropna(subset=features + ['cluster', 'iso_d'])\n",
    "\n",
    "# Estandarizar las características\n",
    "scaler = StandardScaler()\n",
    "scaled_features = scaler.fit_transform(results_df_clean[features])\n",
    "\n",
    "# Aplicar t-SNE\n",
    "tsne = TSNE(n_components=2, random_state=42)\n",
    "tsne_results = tsne.fit_transform(scaled_features)\n",
    "\n",
    "# Crear un nuevo dataframe con los resultados de t-SNE\n",
    "df_tsne = pd.DataFrame(data=tsne_results, columns=['TSNE1', 'TSNE2'], index=results_df_clean.index)\n",
    "df_tsne['Cluster'] = results_df_clean['cluster']\n",
    "df_tsne['Country'] = results_df_clean['iso_d']\n",
    "\n",
    "# Crear el gráfico\n",
    "plt.figure(figsize=(12, 8))\n",
    "scatter = plt.scatter(df_tsne['TSNE1'], df_tsne['TSNE2'], \n",
    "                      c=df_tsne['Cluster'], cmap='viridis', \n",
    "                      alpha=0.7, s=50)\n",
    "\n",
    "# Añadir etiquetas para algunos países (puedes ajustar esto según tus necesidades)\n",
    "for i, txt in enumerate(df_tsne['Country']):\n",
    "    if np.random.rand() < 0.1:  # Etiqueta aleatoriamente el 10% de los países\n",
    "        plt.annotate(txt, (df_tsne['TSNE1'].iloc[i], df_tsne['TSNE2'].iloc[i]), xytext=(5,5), \n",
    "                     textcoords='offset points', fontsize=8)\n",
    "\n",
    "plt.colorbar(scatter, label='Cluster')\n",
    "plt.title('Visualización de Clusters de Países usando t-SNE')\n",
    "plt.xlabel('t-SNE 1')\n",
    "plt.ylabel('t-SNE 2')\n",
    "\n",
    "plt.tight_layout()\n",
    "plt.show()\n",
    "\n",
    "# Imprimir información sobre los datos\n",
    "print(f\"Número de países en la visualización: {len(df_tsne)}\")\n",
    "print(f\"Número de clusters únicos: {df_tsne['Cluster'].nunique()}\")\n",
    "print(f\"Rango de valores para TSNE1: {df_tsne['TSNE1'].min():.2f} a {df_tsne['TSNE1'].max():.2f}\")\n",
    "print(f\"Rango de valores para TSNE2: {df_tsne['TSNE2'].min():.2f} a {df_tsne['TSNE2'].max():.2f}\")"
   ]
  },
  {
   "cell_type": "code",
   "execution_count": 1,
   "metadata": {},
   "outputs": [
    {
     "name": "stderr",
     "output_type": "stream",
     "text": [
      "c:\\Users\\Usuario\\anaconda3\\envs\\tftimeseries\\lib\\site-packages\\pandas\\core\\computation\\expressions.py:21: UserWarning: Pandas requires version '2.8.4' or newer of 'numexpr' (version '2.8.1' currently installed).\n",
      "  from pandas.core.computation.check import NUMEXPR_INSTALLED\n",
      "c:\\Users\\Usuario\\anaconda3\\envs\\tftimeseries\\lib\\site-packages\\pandas\\core\\arrays\\masked.py:60: UserWarning: Pandas requires version '1.3.6' or newer of 'bottleneck' (version '1.3.2' currently installed).\n",
      "  from pandas.core import (\n"
     ]
    },
    {
     "name": "stdout",
     "output_type": "stream",
     "text": [
      "\n",
      "Resumen de Clusters:\n",
      "Economías Emergentes y en Desarrollo (Cluster 0): 24.0 países\n",
      "Estados con Desafíos Geopolíticos (Cluster 1): 22.0 países\n",
      "Economías Avanzadas y Aliados Estratégicos (Cluster 2): 13.0 países\n",
      "Socios Históricos y Culturales (Cluster 3): 24.0 países\n",
      "América Latina: Aliados Regionales Clave (Cluster 4): 12.0 países\n",
      "\n",
      "DataFrame sin estilo:\n",
      "                                                  Cluster  \\\n",
      "0        Economías Emergentes y en Desarrollo (Cluster 0)   \n",
      "1           Estados con Desafíos Geopolíticos (Cluster 1)   \n",
      "2  Economías Avanzadas y Aliados Estratégicos (Cluster 2)   \n",
      "3              Socios Históricos y Culturales (Cluster 3)   \n",
      "4    América Latina: Aliados Regionales Clave (Cluster 4)   \n",
      "\n",
      "                                                                                                                   Países  \\\n",
      "0  ABW, AGO, AIA, ALA, AND, ARE, ASM, AUS, BDI, BEN, BFA, BGD, BHR, BLM, BLR, BMU, BRA, BRN, BTN, BWA, CHE, CIV, CMR, COG   \n",
      "1            AFG, ARM, AZE, CAF, CHN, COD, EGY, IRQ, ISR, LBN, LBY, MMR, NGA, PRK, RUS, SDN, SOM, SSD, SYR, VEN, YEM, ZWE   \n",
      "2                                                         ARG, BOL, CCK, CUB, ESH, GNQ, HTI, MAR, PHL, PRI, PRY, URY, USA   \n",
      "3  ALB, ATG, AUT, BEL, BGR, BHS, BIH, BLZ, BRB, CAN, CYP, CZE, DEU, DMA, DNK, EST, FIN, FRA, GBR, GEO, GRC, GRD, GUY, HRV   \n",
      "4                                                              CHL, COL, CRI, DOM, ECU, GTM, HND, MEX, NIC, PAN, PER, SLV   \n",
      "\n",
      "   Número de Países  \n",
      "0              24.0  \n",
      "1              22.0  \n",
      "2              13.0  \n",
      "3              24.0  \n",
      "4              12.0  \n",
      "\n",
      "Para ver el DataFrame estilizado, usar en un notebook:\n",
      "display(styled_df)\n"
     ]
    }
   ],
   "source": [
    "import pandas as pd\n",
    "\n",
    "def crear_tabla_clusters():\n",
    "    \"\"\"\n",
    "    Crea una tabla formateada de clusters de países con su información correspondiente.\n",
    "    \n",
    "    Returns:\n",
    "        tuple: (df_clusters, styled_df)\n",
    "            - df_clusters: DataFrame con la información básica\n",
    "            - styled_df: DataFrame con estilos aplicados para mejor visualización\n",
    "    \"\"\"\n",
    "    # Definir los clusters y sus países\n",
    "    clusters = {\n",
    "        'Economías Emergentes y en Desarrollo (Cluster 0)': [\n",
    "            'ABW', 'AGO', 'AIA', 'ALA', 'AND', 'ARE', 'ASM', 'AUS', 'BDI', 'BEN',\n",
    "            'BFA', 'BGD', 'BHR', 'BLM', 'BLR', 'BMU', 'BRA', 'BRN', 'BTN', 'BWA',\n",
    "            'CHE', 'CIV', 'CMR', 'COG'\n",
    "        ],\n",
    "        'Estados con Desafíos Geopolíticos (Cluster 1)': [\n",
    "            'AFG', 'ARM', 'AZE', 'CAF', 'CHN', 'COD', 'EGY', 'IRQ', 'ISR', 'LBN',\n",
    "            'LBY', 'MMR', 'NGA', 'PRK', 'RUS', 'SDN', 'SOM', 'SSD', 'SYR', 'VEN',\n",
    "            'YEM', 'ZWE'\n",
    "        ],\n",
    "        'Economías Avanzadas y Aliados Estratégicos (Cluster 2)': [\n",
    "            'ARG', 'BOL', 'CCK', 'CUB', 'ESH', 'GNQ', 'HTI', 'MAR', 'PHL', 'PRI',\n",
    "            'PRY', 'URY', 'USA'\n",
    "        ],\n",
    "        'Socios Históricos y Culturales (Cluster 3)': [\n",
    "            'ALB', 'ATG', 'AUT', 'BEL', 'BGR', 'BHS', 'BIH', 'BLZ', 'BRB', 'CAN',\n",
    "            'CYP', 'CZE', 'DEU', 'DMA', 'DNK', 'EST', 'FIN', 'FRA', 'GBR', 'GEO',\n",
    "            'GRC', 'GRD', 'GUY', 'HRV'\n",
    "        ],\n",
    "        'América Latina: Aliados Regionales Clave (Cluster 4)': [\n",
    "            'CHL', 'COL', 'CRI', 'DOM', 'ECU', 'GTM', 'HND', 'MEX', 'NIC', 'PAN',\n",
    "            'PER', 'SLV'\n",
    "        ]\n",
    "    }\n",
    "\n",
    "    # Crear un DataFrame con la información\n",
    "    df_clusters = pd.DataFrame({\n",
    "        'Cluster': [],\n",
    "        'Países': [],\n",
    "        'Número de Países': []\n",
    "    })\n",
    "\n",
    "    # Llenar el DataFrame\n",
    "    for cluster, paises in clusters.items():\n",
    "        df_clusters = df_clusters._append({\n",
    "            'Cluster': cluster,\n",
    "            'Países': ', '.join(sorted(paises)),\n",
    "            'Número de Países': len(paises)\n",
    "        }, ignore_index=True)\n",
    "\n",
    "    # Formatear la tabla\n",
    "    pd.set_option('display.max_colwidth', None)\n",
    "    styled_df = df_clusters.style.set_properties(**{\n",
    "        'text-align': 'left',\n",
    "        'white-space': 'pre-wrap'\n",
    "    }).set_table_styles([\n",
    "        {'selector': 'th', 'props': [('text-align', 'center'), ('background-color', '#f0f0f0')]},\n",
    "        {'selector': 'td', 'props': [('padding', '10px')]},\n",
    "    ])\n",
    "\n",
    "    # Mostrar resumen\n",
    "    print(\"\\nResumen de Clusters:\")\n",
    "    for cluster in df_clusters['Cluster']:\n",
    "        print(f\"{cluster}: {df_clusters[df_clusters['Cluster'] == cluster]['Número de Países'].values[0]} países\")\n",
    "\n",
    "    return df_clusters, styled_df\n",
    "\n",
    "# Ejemplo de uso\n",
    "if __name__ == \"__main__\":\n",
    "    df, styled_df = crear_tabla_clusters()\n",
    "    print(\"\\nDataFrame sin estilo:\")\n",
    "    print(df)\n",
    "    print(\"\\nPara ver el DataFrame estilizado, usar en un notebook:\")\n",
    "    print(\"display(styled_df)\")"
   ]
  },
  {
   "cell_type": "code",
   "execution_count": 2,
   "metadata": {},
   "outputs": [
    {
     "name": "stdout",
     "output_type": "stream",
     "text": [
      "\n",
      "Resumen de Clusters:\n",
      "Economías Emergentes y en Desarrollo (Cluster 0): 24.0 países\n",
      "Estados con Desafíos Geopolíticos (Cluster 1): 22.0 países\n",
      "Economías Avanzadas y Aliados Estratégicos (Cluster 2): 13.0 países\n",
      "Socios Históricos y Culturales (Cluster 3): 24.0 países\n",
      "América Latina: Aliados Regionales Clave (Cluster 4): 12.0 países\n",
      "                                                  Cluster  \\\n",
      "0        Economías Emergentes y en Desarrollo (Cluster 0)   \n",
      "1           Estados con Desafíos Geopolíticos (Cluster 1)   \n",
      "2  Economías Avanzadas y Aliados Estratégicos (Cluster 2)   \n",
      "3              Socios Históricos y Culturales (Cluster 3)   \n",
      "4    América Latina: Aliados Regionales Clave (Cluster 4)   \n",
      "\n",
      "                                                                                                                   Países  \\\n",
      "0  ABW, AGO, AIA, ALA, AND, ARE, ASM, AUS, BDI, BEN, BFA, BGD, BHR, BLM, BLR, BMU, BRA, BRN, BTN, BWA, CHE, CIV, CMR, COG   \n",
      "1            AFG, ARM, AZE, CAF, CHN, COD, EGY, IRQ, ISR, LBN, LBY, MMR, NGA, PRK, RUS, SDN, SOM, SSD, SYR, VEN, YEM, ZWE   \n",
      "2                                                         ARG, BOL, CCK, CUB, ESH, GNQ, HTI, MAR, PHL, PRI, PRY, URY, USA   \n",
      "3  ALB, ATG, AUT, BEL, BGR, BHS, BIH, BLZ, BRB, CAN, CYP, CZE, DEU, DMA, DNK, EST, FIN, FRA, GBR, GEO, GRC, GRD, GUY, HRV   \n",
      "4                                                              CHL, COL, CRI, DOM, ECU, GTM, HND, MEX, NIC, PAN, PER, SLV   \n",
      "\n",
      "   Número de Países  \n",
      "0              24.0  \n",
      "1              22.0  \n",
      "2              13.0  \n",
      "3              24.0  \n",
      "4              12.0  \n"
     ]
    },
    {
     "data": {
      "text/html": [
       "<style type=\"text/css\">\n",
       "#T_694d2 th {\n",
       "  text-align: center;\n",
       "  background-color: #f0f0f0;\n",
       "}\n",
       "#T_694d2 td {\n",
       "  padding: 10px;\n",
       "}\n",
       "#T_694d2_row0_col0, #T_694d2_row0_col1, #T_694d2_row0_col2, #T_694d2_row1_col0, #T_694d2_row1_col1, #T_694d2_row1_col2, #T_694d2_row2_col0, #T_694d2_row2_col1, #T_694d2_row2_col2, #T_694d2_row3_col0, #T_694d2_row3_col1, #T_694d2_row3_col2, #T_694d2_row4_col0, #T_694d2_row4_col1, #T_694d2_row4_col2 {\n",
       "  text-align: left;\n",
       "  white-space: pre-wrap;\n",
       "}\n",
       "</style>\n",
       "<table id=\"T_694d2\">\n",
       "  <thead>\n",
       "    <tr>\n",
       "      <th class=\"blank level0\" >&nbsp;</th>\n",
       "      <th id=\"T_694d2_level0_col0\" class=\"col_heading level0 col0\" >Cluster</th>\n",
       "      <th id=\"T_694d2_level0_col1\" class=\"col_heading level0 col1\" >Países</th>\n",
       "      <th id=\"T_694d2_level0_col2\" class=\"col_heading level0 col2\" >Número de Países</th>\n",
       "    </tr>\n",
       "  </thead>\n",
       "  <tbody>\n",
       "    <tr>\n",
       "      <th id=\"T_694d2_level0_row0\" class=\"row_heading level0 row0\" >0</th>\n",
       "      <td id=\"T_694d2_row0_col0\" class=\"data row0 col0\" >Economías Emergentes y en Desarrollo (Cluster 0)</td>\n",
       "      <td id=\"T_694d2_row0_col1\" class=\"data row0 col1\" >ABW, AGO, AIA, ALA, AND, ARE, ASM, AUS, BDI, BEN, BFA, BGD, BHR, BLM, BLR, BMU, BRA, BRN, BTN, BWA, CHE, CIV, CMR, COG</td>\n",
       "      <td id=\"T_694d2_row0_col2\" class=\"data row0 col2\" >24.000000</td>\n",
       "    </tr>\n",
       "    <tr>\n",
       "      <th id=\"T_694d2_level0_row1\" class=\"row_heading level0 row1\" >1</th>\n",
       "      <td id=\"T_694d2_row1_col0\" class=\"data row1 col0\" >Estados con Desafíos Geopolíticos (Cluster 1)</td>\n",
       "      <td id=\"T_694d2_row1_col1\" class=\"data row1 col1\" >AFG, ARM, AZE, CAF, CHN, COD, EGY, IRQ, ISR, LBN, LBY, MMR, NGA, PRK, RUS, SDN, SOM, SSD, SYR, VEN, YEM, ZWE</td>\n",
       "      <td id=\"T_694d2_row1_col2\" class=\"data row1 col2\" >22.000000</td>\n",
       "    </tr>\n",
       "    <tr>\n",
       "      <th id=\"T_694d2_level0_row2\" class=\"row_heading level0 row2\" >2</th>\n",
       "      <td id=\"T_694d2_row2_col0\" class=\"data row2 col0\" >Economías Avanzadas y Aliados Estratégicos (Cluster 2)</td>\n",
       "      <td id=\"T_694d2_row2_col1\" class=\"data row2 col1\" >ARG, BOL, CCK, CUB, ESH, GNQ, HTI, MAR, PHL, PRI, PRY, URY, USA</td>\n",
       "      <td id=\"T_694d2_row2_col2\" class=\"data row2 col2\" >13.000000</td>\n",
       "    </tr>\n",
       "    <tr>\n",
       "      <th id=\"T_694d2_level0_row3\" class=\"row_heading level0 row3\" >3</th>\n",
       "      <td id=\"T_694d2_row3_col0\" class=\"data row3 col0\" >Socios Históricos y Culturales (Cluster 3)</td>\n",
       "      <td id=\"T_694d2_row3_col1\" class=\"data row3 col1\" >ALB, ATG, AUT, BEL, BGR, BHS, BIH, BLZ, BRB, CAN, CYP, CZE, DEU, DMA, DNK, EST, FIN, FRA, GBR, GEO, GRC, GRD, GUY, HRV</td>\n",
       "      <td id=\"T_694d2_row3_col2\" class=\"data row3 col2\" >24.000000</td>\n",
       "    </tr>\n",
       "    <tr>\n",
       "      <th id=\"T_694d2_level0_row4\" class=\"row_heading level0 row4\" >4</th>\n",
       "      <td id=\"T_694d2_row4_col0\" class=\"data row4 col0\" >América Latina: Aliados Regionales Clave (Cluster 4)</td>\n",
       "      <td id=\"T_694d2_row4_col1\" class=\"data row4 col1\" >CHL, COL, CRI, DOM, ECU, GTM, HND, MEX, NIC, PAN, PER, SLV</td>\n",
       "      <td id=\"T_694d2_row4_col2\" class=\"data row4 col2\" >12.000000</td>\n",
       "    </tr>\n",
       "  </tbody>\n",
       "</table>\n"
      ],
      "text/plain": [
       "<pandas.io.formats.style.Styler at 0x20e3b6de4f0>"
      ]
     },
     "metadata": {},
     "output_type": "display_data"
    },
    {
     "name": "stdout",
     "output_type": "stream",
     "text": [
      "Número de clusters: 5\n",
      "Total de países: 95.0\n"
     ]
    }
   ],
   "source": [
    "df, styled_df = crear_tabla_clusters()\n",
    "\n",
    "# Para ver la tabla normal\n",
    "print(df)\n",
    "\n",
    "# Para ver la tabla estilizada en un notebook\n",
    "from IPython.display import display\n",
    "display(styled_df)\n",
    "\n",
    "# Para acceder a datos específicos\n",
    "print(f\"Número de clusters: {len(df)}\")\n",
    "print(f\"Total de países: {df['Número de Países'].sum()}\")"
   ]
  },
  {
   "cell_type": "code",
   "execution_count": 3,
   "metadata": {},
   "outputs": [],
   "source": [
    "import plotly.express as px\n",
    "import plotly.graph_objects as go\n",
    "import pandas as pd\n",
    "import numpy as np\n",
    "\n",
    "def crear_visualizacion_clusters():\n",
    "    \"\"\"\n",
    "    Crea visualizaciones interactivas de los clusters de países.\n",
    "    \"\"\"\n",
    "    # Definir los clusters y sus países\n",
    "    clusters = {\n",
    "        'Economías Emergentes y en Desarrollo': [\n",
    "            'ABW', 'AGO', 'AIA', 'ALA', 'AND', 'ARE', 'ASM', 'AUS', 'BDI', 'BEN',\n",
    "            'BFA', 'BGD', 'BHR', 'BLM', 'BLR', 'BMU', 'BRA', 'BRN', 'BTN', 'BWA',\n",
    "            'CHE', 'CIV', 'CMR', 'COG'\n",
    "        ],\n",
    "        'Estados con Desafíos Geopolíticos': [\n",
    "            'AFG', 'ARM', 'AZE', 'CAF', 'CHN', 'COD', 'EGY', 'IRQ', 'ISR', 'LBN',\n",
    "            'LBY', 'MMR', 'NGA', 'PRK', 'RUS', 'SDN', 'SOM', 'SSD', 'SYR', 'VEN',\n",
    "            'YEM', 'ZWE'\n",
    "        ],\n",
    "        'Economías Avanzadas y Aliados Estratégicos': [\n",
    "            'ARG', 'BOL', 'CCK', 'CUB', 'ESH', 'GNQ', 'HTI', 'MAR', 'PHL', 'PRI',\n",
    "            'PRY', 'URY', 'USA'\n",
    "        ],\n",
    "        'Socios Históricos y Culturales': [\n",
    "            'ALB', 'ATG', 'AUT', 'BEL', 'BGR', 'BHS', 'BIH', 'BLZ', 'BRB', 'CAN',\n",
    "            'CYP', 'CZE', 'DEU', 'DMA', 'DNK', 'EST', 'FIN', 'FRA', 'GBR', 'GEO',\n",
    "            'GRC', 'GRD', 'GUY', 'HRV'\n",
    "        ],\n",
    "        'América Latina: Aliados Regionales Clave': [\n",
    "            'CHL', 'COL', 'CRI', 'DOM', 'ECU', 'GTM', 'HND', 'MEX', 'NIC', 'PAN',\n",
    "            'PER', 'SLV'\n",
    "        ]\n",
    "    }\n",
    "\n",
    "    # Crear DataFrame para el treemap\n",
    "    data = []\n",
    "    for cluster, paises in clusters.items():\n",
    "        for pais in paises:\n",
    "            data.append({\n",
    "                'Cluster': cluster,\n",
    "                'País': pais,\n",
    "                'Valor': 1  # Cada país tiene el mismo peso\n",
    "            })\n",
    "    \n",
    "    df = pd.DataFrame(data)\n",
    "\n",
    "    # Crear treemap\n",
    "    fig_treemap = px.treemap(\n",
    "        df,\n",
    "        path=[px.Constant(\"Todos los Clusters\"), 'Cluster', 'País'],\n",
    "        values='Valor',\n",
    "        color='Cluster',\n",
    "        color_discrete_sequence=px.colors.qualitative.Set3,\n",
    "        title='Distribución de Países por Cluster'\n",
    "    )\n",
    "\n",
    "    # Personalizar el diseño\n",
    "    fig_treemap.update_layout(\n",
    "        title_x=0.5,\n",
    "        title_font_size=24,\n",
    "        width=1200,\n",
    "        height=800,\n",
    "        font=dict(size=14),\n",
    "    )\n",
    "\n",
    "    # Crear gráfico de barras para mostrar el tamaño de los clusters\n",
    "    cluster_sizes = df.groupby('Cluster').size()\n",
    "    \n",
    "    fig_bars = go.Figure()\n",
    "    \n",
    "    fig_bars.add_trace(go.Bar(\n",
    "        x=cluster_sizes.index,\n",
    "        y=cluster_sizes.values,\n",
    "        marker_color=px.colors.qualitative.Set3,\n",
    "        text=cluster_sizes.values,\n",
    "        textposition='auto',\n",
    "    ))\n",
    "\n",
    "    fig_bars.update_layout(\n",
    "        title={\n",
    "            'text': 'Número de Países por Cluster',\n",
    "            'x': 0.5,\n",
    "            'y': 0.95,\n",
    "            'xanchor': 'center',\n",
    "            'yanchor': 'top',\n",
    "            'font': dict(size=24)\n",
    "        },\n",
    "        xaxis_title=\"Cluster\",\n",
    "        yaxis_title=\"Número de Países\",\n",
    "        width=1200,\n",
    "        height=600,\n",
    "        showlegend=False,\n",
    "        xaxis_tickangle=-45,\n",
    "        font=dict(size=14),\n",
    "        margin=dict(t=100, l=100, r=100, b=100)\n",
    "    )\n",
    "\n",
    "    # Crear gráfico circular\n",
    "    fig_pie = px.pie(\n",
    "        df,\n",
    "        names='Cluster',\n",
    "        title='Distribución Porcentual de Países por Cluster',\n",
    "        color='Cluster',\n",
    "        color_discrete_sequence=px.colors.qualitative.Set3,\n",
    "    )\n",
    "\n",
    "    fig_pie.update_layout(\n",
    "        title_x=0.5,\n",
    "        title_font_size=24,\n",
    "        width=1000,\n",
    "        height=700,\n",
    "        font=dict(size=14),\n",
    "        showlegend=True,\n",
    "        legend=dict(orientation=\"h\", y=-0.1)\n",
    "    )\n",
    "\n",
    "    return fig_treemap, fig_bars, fig_pie\n",
    "\n",
    "# Ejemplo de uso\n",
    "if __name__ == \"__main__\":\n",
    "    fig_treemap, fig_bars, fig_pie = crear_visualizacion_clusters()\n",
    "    \n",
    "    # Para mostrar en notebook\n",
    "    # fig_treemap.show()\n",
    "    # fig_bars.show()\n",
    "    # fig_pie.show()\n",
    "    \n",
    "    # Para guardar como HTML interactivo\n",
    "    fig_treemap.write_html(\"clusters_treemap.html\")\n",
    "    fig_bars.write_html(\"clusters_bars.html\")\n",
    "    fig_pie.write_html(\"clusters_pie.html\")"
   ]
  },
  {
   "cell_type": "code",
   "execution_count": 4,
   "metadata": {},
   "outputs": [
    {
     "data": {
      "application/vnd.plotly.v1+json": {
       "config": {
        "plotlyServerURL": "https://plot.ly"
       },
       "data": [
        {
         "branchvalues": "total",
         "customdata": [
          [
           "Estados con Desafíos Geopolíticos"
          ],
          [
           "Estados con Desafíos Geopolíticos"
          ],
          [
           "Economías Avanzadas y Aliados Estratégicos"
          ],
          [
           "Estados con Desafíos Geopolíticos"
          ],
          [
           "América Latina: Aliados Regionales Clave"
          ],
          [
           "Estados con Desafíos Geopolíticos"
          ],
          [
           "Estados con Desafíos Geopolíticos"
          ],
          [
           "Estados con Desafíos Geopolíticos"
          ],
          [
           "Economías Avanzadas y Aliados Estratégicos"
          ],
          [
           "Economías Avanzadas y Aliados Estratégicos"
          ],
          [
           "Estados con Desafíos Geopolíticos"
          ],
          [
           "Estados con Desafíos Geopolíticos"
          ],
          [
           "Socios Históricos y Culturales"
          ],
          [
           "Socios Históricos y Culturales"
          ],
          [
           "Socios Históricos y Culturales"
          ],
          [
           "Socios Históricos y Culturales"
          ],
          [
           "América Latina: Aliados Regionales Clave"
          ],
          [
           "Socios Históricos y Culturales"
          ],
          [
           "Estados con Desafíos Geopolíticos"
          ],
          [
           "Economías Avanzadas y Aliados Estratégicos"
          ],
          [
           "Socios Históricos y Culturales"
          ],
          [
           "Socios Históricos y Culturales"
          ],
          [
           "América Latina: Aliados Regionales Clave"
          ],
          [
           "Economías Avanzadas y Aliados Estratégicos"
          ],
          [
           "Socios Históricos y Culturales"
          ],
          [
           "Economías Emergentes y en Desarrollo"
          ],
          [
           "Socios Históricos y Culturales"
          ],
          [
           "Socios Históricos y Culturales"
          ],
          [
           "Economías Emergentes y en Desarrollo"
          ],
          [
           "Economías Emergentes y en Desarrollo"
          ],
          [
           "Economías Emergentes y en Desarrollo"
          ],
          [
           "Socios Históricos y Culturales"
          ],
          [
           "Economías Emergentes y en Desarrollo"
          ],
          [
           "Estados con Desafíos Geopolíticos"
          ],
          [
           "Socios Históricos y Culturales"
          ],
          [
           "Economías Emergentes y en Desarrollo"
          ],
          [
           "Economías Emergentes y en Desarrollo"
          ],
          [
           "Socios Históricos y Culturales"
          ],
          [
           "Economías Emergentes y en Desarrollo"
          ],
          [
           "Estados con Desafíos Geopolíticos"
          ],
          [
           "Economías Avanzadas y Aliados Estratégicos"
          ],
          [
           "Economías Emergentes y en Desarrollo"
          ],
          [
           "Economías Emergentes y en Desarrollo"
          ],
          [
           "Socios Históricos y Culturales"
          ],
          [
           "Economías Emergentes y en Desarrollo"
          ],
          [
           "Economías Emergentes y en Desarrollo"
          ],
          [
           "Economías Emergentes y en Desarrollo"
          ],
          [
           "Estados con Desafíos Geopolíticos"
          ],
          [
           "Socios Históricos y Culturales"
          ],
          [
           "Economías Emergentes y en Desarrollo"
          ],
          [
           "Economías Emergentes y en Desarrollo"
          ],
          [
           "América Latina: Aliados Regionales Clave"
          ],
          [
           "América Latina: Aliados Regionales Clave"
          ],
          [
           "Socios Históricos y Culturales"
          ],
          [
           "Estados con Desafíos Geopolíticos"
          ],
          [
           "Economías Emergentes y en Desarrollo"
          ],
          [
           "Economías Emergentes y en Desarrollo"
          ],
          [
           "Economías Emergentes y en Desarrollo"
          ],
          [
           "Socios Históricos y Culturales"
          ],
          [
           "Economías Avanzadas y Aliados Estratégicos"
          ],
          [
           "Economías Emergentes y en Desarrollo"
          ],
          [
           "Economías Emergentes y en Desarrollo"
          ],
          [
           "Economías Avanzadas y Aliados Estratégicos"
          ],
          [
           "Economías Emergentes y en Desarrollo"
          ],
          [
           "América Latina: Aliados Regionales Clave"
          ],
          [
           "Estados con Desafíos Geopolíticos"
          ],
          [
           "Economías Emergentes y en Desarrollo"
          ],
          [
           "Economías Emergentes y en Desarrollo"
          ],
          [
           "Estados con Desafíos Geopolíticos"
          ],
          [
           "Economías Emergentes y en Desarrollo"
          ],
          [
           "Socios Históricos y Culturales"
          ],
          [
           "América Latina: Aliados Regionales Clave"
          ],
          [
           "Estados con Desafíos Geopolíticos"
          ],
          [
           "Economías Avanzadas y Aliados Estratégicos"
          ],
          [
           "Economías Avanzadas y Aliados Estratégicos"
          ],
          [
           "América Latina: Aliados Regionales Clave"
          ],
          [
           "América Latina: Aliados Regionales Clave"
          ],
          [
           "Estados con Desafíos Geopolíticos"
          ],
          [
           "Estados con Desafíos Geopolíticos"
          ],
          [
           "Socios Históricos y Culturales"
          ],
          [
           "Economías Avanzadas y Aliados Estratégicos"
          ],
          [
           "Socios Históricos y Culturales"
          ],
          [
           "Socios Históricos y Culturales"
          ],
          [
           "América Latina: Aliados Regionales Clave"
          ],
          [
           "Socios Históricos y Culturales"
          ],
          [
           "Estados con Desafíos Geopolíticos"
          ],
          [
           "América Latina: Aliados Regionales Clave"
          ],
          [
           "Economías Avanzadas y Aliados Estratégicos"
          ],
          [
           "Estados con Desafíos Geopolíticos"
          ],
          [
           "Estados con Desafíos Geopolíticos"
          ],
          [
           "Estados con Desafíos Geopolíticos"
          ],
          [
           "Economías Avanzadas y Aliados Estratégicos"
          ],
          [
           "América Latina: Aliados Regionales Clave"
          ],
          [
           "Socios Históricos y Culturales"
          ],
          [
           "Socios Históricos y Culturales"
          ],
          [
           "América Latina: Aliados Regionales Clave"
          ],
          [
           "Economías Avanzadas y Aliados Estratégicos"
          ],
          [
           "Economías Emergentes y en Desarrollo"
          ],
          [
           "Estados con Desafíos Geopolíticos"
          ],
          [
           "Socios Históricos y Culturales"
          ],
          [
           "(?)"
          ]
         ],
         "domain": {
          "x": [
           0,
           1
          ],
          "y": [
           0,
           1
          ]
         },
         "hovertemplate": "labels=%{label}<br>Valor=%{value}<br>parent=%{parent}<br>id=%{id}<br>Cluster=%{customdata[0]}<extra></extra>",
         "ids": [
          "Todos los Clusters/Estados con Desafíos Geopolíticos/ZWE",
          "Todos los Clusters/Estados con Desafíos Geopolíticos/YEM",
          "Todos los Clusters/Economías Avanzadas y Aliados Estratégicos/PRY",
          "Todos los Clusters/Estados con Desafíos Geopolíticos/RUS",
          "Todos los Clusters/América Latina: Aliados Regionales Clave/SLV",
          "Todos los Clusters/Estados con Desafíos Geopolíticos/SOM",
          "Todos los Clusters/Estados con Desafíos Geopolíticos/SDN",
          "Todos los Clusters/Estados con Desafíos Geopolíticos/SYR",
          "Todos los Clusters/Economías Avanzadas y Aliados Estratégicos/URY",
          "Todos los Clusters/Economías Avanzadas y Aliados Estratégicos/USA",
          "Todos los Clusters/Estados con Desafíos Geopolíticos/VEN",
          "Todos los Clusters/Estados con Desafíos Geopolíticos/SSD",
          "Todos los Clusters/Socios Históricos y Culturales/DNK",
          "Todos los Clusters/Socios Históricos y Culturales/CZE",
          "Todos los Clusters/Socios Históricos y Culturales/DEU",
          "Todos los Clusters/Socios Históricos y Culturales/DMA",
          "Todos los Clusters/América Latina: Aliados Regionales Clave/DOM",
          "Todos los Clusters/Socios Históricos y Culturales/FRA",
          "Todos los Clusters/Estados con Desafíos Geopolíticos/EGY",
          "Todos los Clusters/Economías Avanzadas y Aliados Estratégicos/ESH",
          "Todos los Clusters/Socios Históricos y Culturales/EST",
          "Todos los Clusters/Socios Históricos y Culturales/FIN",
          "Todos los Clusters/América Latina: Aliados Regionales Clave/ECU",
          "Todos los Clusters/Economías Avanzadas y Aliados Estratégicos/CUB",
          "Todos los Clusters/Socios Históricos y Culturales/CYP",
          "Todos los Clusters/Economías Emergentes y en Desarrollo/ABW",
          "Todos los Clusters/Socios Históricos y Culturales/BHS",
          "Todos los Clusters/Socios Históricos y Culturales/BIH",
          "Todos los Clusters/Economías Emergentes y en Desarrollo/BGD",
          "Todos los Clusters/Economías Emergentes y en Desarrollo/BFA",
          "Todos los Clusters/Economías Emergentes y en Desarrollo/BEN",
          "Todos los Clusters/Socios Históricos y Culturales/BEL",
          "Todos los Clusters/Economías Emergentes y en Desarrollo/BDI",
          "Todos los Clusters/Estados con Desafíos Geopolíticos/AZE",
          "Todos los Clusters/Socios Históricos y Culturales/AUT",
          "Todos los Clusters/Economías Emergentes y en Desarrollo/AUS",
          "Todos los Clusters/Economías Emergentes y en Desarrollo/BHR",
          "Todos los Clusters/Socios Históricos y Culturales/ATG",
          "Todos los Clusters/Economías Emergentes y en Desarrollo/ASM",
          "Todos los Clusters/Estados con Desafíos Geopolíticos/ARM",
          "Todos los Clusters/Economías Avanzadas y Aliados Estratégicos/ARG",
          "Todos los Clusters/Economías Emergentes y en Desarrollo/ARE",
          "Todos los Clusters/Economías Emergentes y en Desarrollo/AND",
          "Todos los Clusters/Socios Históricos y Culturales/ALB",
          "Todos los Clusters/Economías Emergentes y en Desarrollo/ALA",
          "Todos los Clusters/Economías Emergentes y en Desarrollo/AIA",
          "Todos los Clusters/Economías Emergentes y en Desarrollo/AGO",
          "Todos los Clusters/Estados con Desafíos Geopolíticos/AFG",
          "Todos los Clusters/Socios Históricos y Culturales/BGR",
          "Todos los Clusters/Economías Emergentes y en Desarrollo/BLM",
          "Todos los Clusters/Economías Emergentes y en Desarrollo/BLR",
          "Todos los Clusters/América Latina: Aliados Regionales Clave/COL",
          "Todos los Clusters/América Latina: Aliados Regionales Clave/CRI",
          "Todos los Clusters/Socios Históricos y Culturales/CAN",
          "Todos los Clusters/Estados con Desafíos Geopolíticos/CAF",
          "Todos los Clusters/Economías Emergentes y en Desarrollo/BWA",
          "Todos los Clusters/Economías Emergentes y en Desarrollo/BTN",
          "Todos los Clusters/Economías Emergentes y en Desarrollo/BRN",
          "Todos los Clusters/Socios Históricos y Culturales/BRB",
          "Todos los Clusters/Economías Avanzadas y Aliados Estratégicos/BOL",
          "Todos los Clusters/Economías Emergentes y en Desarrollo/BMU",
          "Todos los Clusters/Economías Emergentes y en Desarrollo/BRA",
          "Todos los Clusters/Economías Avanzadas y Aliados Estratégicos/CCK",
          "Todos los Clusters/Economías Emergentes y en Desarrollo/CHE",
          "Todos los Clusters/América Latina: Aliados Regionales Clave/CHL",
          "Todos los Clusters/Estados con Desafíos Geopolíticos/CHN",
          "Todos los Clusters/Economías Emergentes y en Desarrollo/CIV",
          "Todos los Clusters/Economías Emergentes y en Desarrollo/CMR",
          "Todos los Clusters/Estados con Desafíos Geopolíticos/COD",
          "Todos los Clusters/Economías Emergentes y en Desarrollo/COG",
          "Todos los Clusters/Socios Históricos y Culturales/BLZ",
          "Todos los Clusters/América Latina: Aliados Regionales Clave/PAN",
          "Todos los Clusters/Estados con Desafíos Geopolíticos/PRK",
          "Todos los Clusters/Economías Avanzadas y Aliados Estratégicos/PRI",
          "Todos los Clusters/Economías Avanzadas y Aliados Estratégicos/PHL",
          "Todos los Clusters/América Latina: Aliados Regionales Clave/PER",
          "Todos los Clusters/América Latina: Aliados Regionales Clave/NIC",
          "Todos los Clusters/Estados con Desafíos Geopolíticos/LBY",
          "Todos los Clusters/Estados con Desafíos Geopolíticos/MMR",
          "Todos los Clusters/Socios Históricos y Culturales/GEO",
          "Todos los Clusters/Economías Avanzadas y Aliados Estratégicos/GNQ",
          "Todos los Clusters/Socios Históricos y Culturales/GRC",
          "Todos los Clusters/Socios Históricos y Culturales/GRD",
          "Todos los Clusters/América Latina: Aliados Regionales Clave/GTM",
          "Todos los Clusters/Socios Históricos y Culturales/GUY",
          "Todos los Clusters/Estados con Desafíos Geopolíticos/NGA",
          "Todos los Clusters/América Latina: Aliados Regionales Clave/HND",
          "Todos los Clusters/Economías Avanzadas y Aliados Estratégicos/HTI",
          "Todos los Clusters/Estados con Desafíos Geopolíticos/IRQ",
          "Todos los Clusters/Estados con Desafíos Geopolíticos/ISR",
          "Todos los Clusters/Estados con Desafíos Geopolíticos/LBN",
          "Todos los Clusters/Economías Avanzadas y Aliados Estratégicos/MAR",
          "Todos los Clusters/América Latina: Aliados Regionales Clave/MEX",
          "Todos los Clusters/Socios Históricos y Culturales/HRV",
          "Todos los Clusters/Socios Históricos y Culturales/GBR",
          "Todos los Clusters/América Latina: Aliados Regionales Clave",
          "Todos los Clusters/Economías Avanzadas y Aliados Estratégicos",
          "Todos los Clusters/Economías Emergentes y en Desarrollo",
          "Todos los Clusters/Estados con Desafíos Geopolíticos",
          "Todos los Clusters/Socios Históricos y Culturales",
          "Todos los Clusters"
         ],
         "labels": [
          "ZWE",
          "YEM",
          "PRY",
          "RUS",
          "SLV",
          "SOM",
          "SDN",
          "SYR",
          "URY",
          "USA",
          "VEN",
          "SSD",
          "DNK",
          "CZE",
          "DEU",
          "DMA",
          "DOM",
          "FRA",
          "EGY",
          "ESH",
          "EST",
          "FIN",
          "ECU",
          "CUB",
          "CYP",
          "ABW",
          "BHS",
          "BIH",
          "BGD",
          "BFA",
          "BEN",
          "BEL",
          "BDI",
          "AZE",
          "AUT",
          "AUS",
          "BHR",
          "ATG",
          "ASM",
          "ARM",
          "ARG",
          "ARE",
          "AND",
          "ALB",
          "ALA",
          "AIA",
          "AGO",
          "AFG",
          "BGR",
          "BLM",
          "BLR",
          "COL",
          "CRI",
          "CAN",
          "CAF",
          "BWA",
          "BTN",
          "BRN",
          "BRB",
          "BOL",
          "BMU",
          "BRA",
          "CCK",
          "CHE",
          "CHL",
          "CHN",
          "CIV",
          "CMR",
          "COD",
          "COG",
          "BLZ",
          "PAN",
          "PRK",
          "PRI",
          "PHL",
          "PER",
          "NIC",
          "LBY",
          "MMR",
          "GEO",
          "GNQ",
          "GRC",
          "GRD",
          "GTM",
          "GUY",
          "NGA",
          "HND",
          "HTI",
          "IRQ",
          "ISR",
          "LBN",
          "MAR",
          "MEX",
          "HRV",
          "GBR",
          "América Latina: Aliados Regionales Clave",
          "Economías Avanzadas y Aliados Estratégicos",
          "Economías Emergentes y en Desarrollo",
          "Estados con Desafíos Geopolíticos",
          "Socios Históricos y Culturales",
          "Todos los Clusters"
         ],
         "marker": {
          "colors": [
           "rgb(141,211,199)",
           "rgb(141,211,199)",
           "rgb(255,255,179)",
           "rgb(141,211,199)",
           "rgb(190,186,218)",
           "rgb(141,211,199)",
           "rgb(141,211,199)",
           "rgb(141,211,199)",
           "rgb(255,255,179)",
           "rgb(255,255,179)",
           "rgb(141,211,199)",
           "rgb(141,211,199)",
           "rgb(251,128,114)",
           "rgb(251,128,114)",
           "rgb(251,128,114)",
           "rgb(251,128,114)",
           "rgb(190,186,218)",
           "rgb(251,128,114)",
           "rgb(141,211,199)",
           "rgb(255,255,179)",
           "rgb(251,128,114)",
           "rgb(251,128,114)",
           "rgb(190,186,218)",
           "rgb(255,255,179)",
           "rgb(251,128,114)",
           "rgb(128,177,211)",
           "rgb(251,128,114)",
           "rgb(251,128,114)",
           "rgb(128,177,211)",
           "rgb(128,177,211)",
           "rgb(128,177,211)",
           "rgb(251,128,114)",
           "rgb(128,177,211)",
           "rgb(141,211,199)",
           "rgb(251,128,114)",
           "rgb(128,177,211)",
           "rgb(128,177,211)",
           "rgb(251,128,114)",
           "rgb(128,177,211)",
           "rgb(141,211,199)",
           "rgb(255,255,179)",
           "rgb(128,177,211)",
           "rgb(128,177,211)",
           "rgb(251,128,114)",
           "rgb(128,177,211)",
           "rgb(128,177,211)",
           "rgb(128,177,211)",
           "rgb(141,211,199)",
           "rgb(251,128,114)",
           "rgb(128,177,211)",
           "rgb(128,177,211)",
           "rgb(190,186,218)",
           "rgb(190,186,218)",
           "rgb(251,128,114)",
           "rgb(141,211,199)",
           "rgb(128,177,211)",
           "rgb(128,177,211)",
           "rgb(128,177,211)",
           "rgb(251,128,114)",
           "rgb(255,255,179)",
           "rgb(128,177,211)",
           "rgb(128,177,211)",
           "rgb(255,255,179)",
           "rgb(128,177,211)",
           "rgb(190,186,218)",
           "rgb(141,211,199)",
           "rgb(128,177,211)",
           "rgb(128,177,211)",
           "rgb(141,211,199)",
           "rgb(128,177,211)",
           "rgb(251,128,114)",
           "rgb(190,186,218)",
           "rgb(141,211,199)",
           "rgb(255,255,179)",
           "rgb(255,255,179)",
           "rgb(190,186,218)",
           "rgb(190,186,218)",
           "rgb(141,211,199)",
           "rgb(141,211,199)",
           "rgb(251,128,114)",
           "rgb(255,255,179)",
           "rgb(251,128,114)",
           "rgb(251,128,114)",
           "rgb(190,186,218)",
           "rgb(251,128,114)",
           "rgb(141,211,199)",
           "rgb(190,186,218)",
           "rgb(255,255,179)",
           "rgb(141,211,199)",
           "rgb(141,211,199)",
           "rgb(141,211,199)",
           "rgb(255,255,179)",
           "rgb(190,186,218)",
           "rgb(251,128,114)",
           "rgb(251,128,114)",
           "rgb(190,186,218)",
           "rgb(255,255,179)",
           "rgb(128,177,211)",
           "rgb(141,211,199)",
           "rgb(251,128,114)",
           "rgb(253,180,98)"
          ]
         },
         "name": "",
         "parents": [
          "Todos los Clusters/Estados con Desafíos Geopolíticos",
          "Todos los Clusters/Estados con Desafíos Geopolíticos",
          "Todos los Clusters/Economías Avanzadas y Aliados Estratégicos",
          "Todos los Clusters/Estados con Desafíos Geopolíticos",
          "Todos los Clusters/América Latina: Aliados Regionales Clave",
          "Todos los Clusters/Estados con Desafíos Geopolíticos",
          "Todos los Clusters/Estados con Desafíos Geopolíticos",
          "Todos los Clusters/Estados con Desafíos Geopolíticos",
          "Todos los Clusters/Economías Avanzadas y Aliados Estratégicos",
          "Todos los Clusters/Economías Avanzadas y Aliados Estratégicos",
          "Todos los Clusters/Estados con Desafíos Geopolíticos",
          "Todos los Clusters/Estados con Desafíos Geopolíticos",
          "Todos los Clusters/Socios Históricos y Culturales",
          "Todos los Clusters/Socios Históricos y Culturales",
          "Todos los Clusters/Socios Históricos y Culturales",
          "Todos los Clusters/Socios Históricos y Culturales",
          "Todos los Clusters/América Latina: Aliados Regionales Clave",
          "Todos los Clusters/Socios Históricos y Culturales",
          "Todos los Clusters/Estados con Desafíos Geopolíticos",
          "Todos los Clusters/Economías Avanzadas y Aliados Estratégicos",
          "Todos los Clusters/Socios Históricos y Culturales",
          "Todos los Clusters/Socios Históricos y Culturales",
          "Todos los Clusters/América Latina: Aliados Regionales Clave",
          "Todos los Clusters/Economías Avanzadas y Aliados Estratégicos",
          "Todos los Clusters/Socios Históricos y Culturales",
          "Todos los Clusters/Economías Emergentes y en Desarrollo",
          "Todos los Clusters/Socios Históricos y Culturales",
          "Todos los Clusters/Socios Históricos y Culturales",
          "Todos los Clusters/Economías Emergentes y en Desarrollo",
          "Todos los Clusters/Economías Emergentes y en Desarrollo",
          "Todos los Clusters/Economías Emergentes y en Desarrollo",
          "Todos los Clusters/Socios Históricos y Culturales",
          "Todos los Clusters/Economías Emergentes y en Desarrollo",
          "Todos los Clusters/Estados con Desafíos Geopolíticos",
          "Todos los Clusters/Socios Históricos y Culturales",
          "Todos los Clusters/Economías Emergentes y en Desarrollo",
          "Todos los Clusters/Economías Emergentes y en Desarrollo",
          "Todos los Clusters/Socios Históricos y Culturales",
          "Todos los Clusters/Economías Emergentes y en Desarrollo",
          "Todos los Clusters/Estados con Desafíos Geopolíticos",
          "Todos los Clusters/Economías Avanzadas y Aliados Estratégicos",
          "Todos los Clusters/Economías Emergentes y en Desarrollo",
          "Todos los Clusters/Economías Emergentes y en Desarrollo",
          "Todos los Clusters/Socios Históricos y Culturales",
          "Todos los Clusters/Economías Emergentes y en Desarrollo",
          "Todos los Clusters/Economías Emergentes y en Desarrollo",
          "Todos los Clusters/Economías Emergentes y en Desarrollo",
          "Todos los Clusters/Estados con Desafíos Geopolíticos",
          "Todos los Clusters/Socios Históricos y Culturales",
          "Todos los Clusters/Economías Emergentes y en Desarrollo",
          "Todos los Clusters/Economías Emergentes y en Desarrollo",
          "Todos los Clusters/América Latina: Aliados Regionales Clave",
          "Todos los Clusters/América Latina: Aliados Regionales Clave",
          "Todos los Clusters/Socios Históricos y Culturales",
          "Todos los Clusters/Estados con Desafíos Geopolíticos",
          "Todos los Clusters/Economías Emergentes y en Desarrollo",
          "Todos los Clusters/Economías Emergentes y en Desarrollo",
          "Todos los Clusters/Economías Emergentes y en Desarrollo",
          "Todos los Clusters/Socios Históricos y Culturales",
          "Todos los Clusters/Economías Avanzadas y Aliados Estratégicos",
          "Todos los Clusters/Economías Emergentes y en Desarrollo",
          "Todos los Clusters/Economías Emergentes y en Desarrollo",
          "Todos los Clusters/Economías Avanzadas y Aliados Estratégicos",
          "Todos los Clusters/Economías Emergentes y en Desarrollo",
          "Todos los Clusters/América Latina: Aliados Regionales Clave",
          "Todos los Clusters/Estados con Desafíos Geopolíticos",
          "Todos los Clusters/Economías Emergentes y en Desarrollo",
          "Todos los Clusters/Economías Emergentes y en Desarrollo",
          "Todos los Clusters/Estados con Desafíos Geopolíticos",
          "Todos los Clusters/Economías Emergentes y en Desarrollo",
          "Todos los Clusters/Socios Históricos y Culturales",
          "Todos los Clusters/América Latina: Aliados Regionales Clave",
          "Todos los Clusters/Estados con Desafíos Geopolíticos",
          "Todos los Clusters/Economías Avanzadas y Aliados Estratégicos",
          "Todos los Clusters/Economías Avanzadas y Aliados Estratégicos",
          "Todos los Clusters/América Latina: Aliados Regionales Clave",
          "Todos los Clusters/América Latina: Aliados Regionales Clave",
          "Todos los Clusters/Estados con Desafíos Geopolíticos",
          "Todos los Clusters/Estados con Desafíos Geopolíticos",
          "Todos los Clusters/Socios Históricos y Culturales",
          "Todos los Clusters/Economías Avanzadas y Aliados Estratégicos",
          "Todos los Clusters/Socios Históricos y Culturales",
          "Todos los Clusters/Socios Históricos y Culturales",
          "Todos los Clusters/América Latina: Aliados Regionales Clave",
          "Todos los Clusters/Socios Históricos y Culturales",
          "Todos los Clusters/Estados con Desafíos Geopolíticos",
          "Todos los Clusters/América Latina: Aliados Regionales Clave",
          "Todos los Clusters/Economías Avanzadas y Aliados Estratégicos",
          "Todos los Clusters/Estados con Desafíos Geopolíticos",
          "Todos los Clusters/Estados con Desafíos Geopolíticos",
          "Todos los Clusters/Estados con Desafíos Geopolíticos",
          "Todos los Clusters/Economías Avanzadas y Aliados Estratégicos",
          "Todos los Clusters/América Latina: Aliados Regionales Clave",
          "Todos los Clusters/Socios Históricos y Culturales",
          "Todos los Clusters/Socios Históricos y Culturales",
          "Todos los Clusters",
          "Todos los Clusters",
          "Todos los Clusters",
          "Todos los Clusters",
          "Todos los Clusters",
          ""
         ],
         "type": "treemap",
         "values": [
          1,
          1,
          1,
          1,
          1,
          1,
          1,
          1,
          1,
          1,
          1,
          1,
          1,
          1,
          1,
          1,
          1,
          1,
          1,
          1,
          1,
          1,
          1,
          1,
          1,
          1,
          1,
          1,
          1,
          1,
          1,
          1,
          1,
          1,
          1,
          1,
          1,
          1,
          1,
          1,
          1,
          1,
          1,
          1,
          1,
          1,
          1,
          1,
          1,
          1,
          1,
          1,
          1,
          1,
          1,
          1,
          1,
          1,
          1,
          1,
          1,
          1,
          1,
          1,
          1,
          1,
          1,
          1,
          1,
          1,
          1,
          1,
          1,
          1,
          1,
          1,
          1,
          1,
          1,
          1,
          1,
          1,
          1,
          1,
          1,
          1,
          1,
          1,
          1,
          1,
          1,
          1,
          1,
          1,
          1,
          12,
          13,
          24,
          22,
          24,
          95
         ]
        }
       ],
       "layout": {
        "font": {
         "size": 14
        },
        "height": 800,
        "legend": {
         "tracegroupgap": 0
        },
        "template": {
         "data": {
          "bar": [
           {
            "error_x": {
             "color": "#2a3f5f"
            },
            "error_y": {
             "color": "#2a3f5f"
            },
            "marker": {
             "line": {
              "color": "#E5ECF6",
              "width": 0.5
             },
             "pattern": {
              "fillmode": "overlay",
              "size": 10,
              "solidity": 0.2
             }
            },
            "type": "bar"
           }
          ],
          "barpolar": [
           {
            "marker": {
             "line": {
              "color": "#E5ECF6",
              "width": 0.5
             },
             "pattern": {
              "fillmode": "overlay",
              "size": 10,
              "solidity": 0.2
             }
            },
            "type": "barpolar"
           }
          ],
          "carpet": [
           {
            "aaxis": {
             "endlinecolor": "#2a3f5f",
             "gridcolor": "white",
             "linecolor": "white",
             "minorgridcolor": "white",
             "startlinecolor": "#2a3f5f"
            },
            "baxis": {
             "endlinecolor": "#2a3f5f",
             "gridcolor": "white",
             "linecolor": "white",
             "minorgridcolor": "white",
             "startlinecolor": "#2a3f5f"
            },
            "type": "carpet"
           }
          ],
          "choropleth": [
           {
            "colorbar": {
             "outlinewidth": 0,
             "ticks": ""
            },
            "type": "choropleth"
           }
          ],
          "contour": [
           {
            "colorbar": {
             "outlinewidth": 0,
             "ticks": ""
            },
            "colorscale": [
             [
              0,
              "#0d0887"
             ],
             [
              0.1111111111111111,
              "#46039f"
             ],
             [
              0.2222222222222222,
              "#7201a8"
             ],
             [
              0.3333333333333333,
              "#9c179e"
             ],
             [
              0.4444444444444444,
              "#bd3786"
             ],
             [
              0.5555555555555556,
              "#d8576b"
             ],
             [
              0.6666666666666666,
              "#ed7953"
             ],
             [
              0.7777777777777778,
              "#fb9f3a"
             ],
             [
              0.8888888888888888,
              "#fdca26"
             ],
             [
              1,
              "#f0f921"
             ]
            ],
            "type": "contour"
           }
          ],
          "contourcarpet": [
           {
            "colorbar": {
             "outlinewidth": 0,
             "ticks": ""
            },
            "type": "contourcarpet"
           }
          ],
          "heatmap": [
           {
            "colorbar": {
             "outlinewidth": 0,
             "ticks": ""
            },
            "colorscale": [
             [
              0,
              "#0d0887"
             ],
             [
              0.1111111111111111,
              "#46039f"
             ],
             [
              0.2222222222222222,
              "#7201a8"
             ],
             [
              0.3333333333333333,
              "#9c179e"
             ],
             [
              0.4444444444444444,
              "#bd3786"
             ],
             [
              0.5555555555555556,
              "#d8576b"
             ],
             [
              0.6666666666666666,
              "#ed7953"
             ],
             [
              0.7777777777777778,
              "#fb9f3a"
             ],
             [
              0.8888888888888888,
              "#fdca26"
             ],
             [
              1,
              "#f0f921"
             ]
            ],
            "type": "heatmap"
           }
          ],
          "heatmapgl": [
           {
            "colorbar": {
             "outlinewidth": 0,
             "ticks": ""
            },
            "colorscale": [
             [
              0,
              "#0d0887"
             ],
             [
              0.1111111111111111,
              "#46039f"
             ],
             [
              0.2222222222222222,
              "#7201a8"
             ],
             [
              0.3333333333333333,
              "#9c179e"
             ],
             [
              0.4444444444444444,
              "#bd3786"
             ],
             [
              0.5555555555555556,
              "#d8576b"
             ],
             [
              0.6666666666666666,
              "#ed7953"
             ],
             [
              0.7777777777777778,
              "#fb9f3a"
             ],
             [
              0.8888888888888888,
              "#fdca26"
             ],
             [
              1,
              "#f0f921"
             ]
            ],
            "type": "heatmapgl"
           }
          ],
          "histogram": [
           {
            "marker": {
             "pattern": {
              "fillmode": "overlay",
              "size": 10,
              "solidity": 0.2
             }
            },
            "type": "histogram"
           }
          ],
          "histogram2d": [
           {
            "colorbar": {
             "outlinewidth": 0,
             "ticks": ""
            },
            "colorscale": [
             [
              0,
              "#0d0887"
             ],
             [
              0.1111111111111111,
              "#46039f"
             ],
             [
              0.2222222222222222,
              "#7201a8"
             ],
             [
              0.3333333333333333,
              "#9c179e"
             ],
             [
              0.4444444444444444,
              "#bd3786"
             ],
             [
              0.5555555555555556,
              "#d8576b"
             ],
             [
              0.6666666666666666,
              "#ed7953"
             ],
             [
              0.7777777777777778,
              "#fb9f3a"
             ],
             [
              0.8888888888888888,
              "#fdca26"
             ],
             [
              1,
              "#f0f921"
             ]
            ],
            "type": "histogram2d"
           }
          ],
          "histogram2dcontour": [
           {
            "colorbar": {
             "outlinewidth": 0,
             "ticks": ""
            },
            "colorscale": [
             [
              0,
              "#0d0887"
             ],
             [
              0.1111111111111111,
              "#46039f"
             ],
             [
              0.2222222222222222,
              "#7201a8"
             ],
             [
              0.3333333333333333,
              "#9c179e"
             ],
             [
              0.4444444444444444,
              "#bd3786"
             ],
             [
              0.5555555555555556,
              "#d8576b"
             ],
             [
              0.6666666666666666,
              "#ed7953"
             ],
             [
              0.7777777777777778,
              "#fb9f3a"
             ],
             [
              0.8888888888888888,
              "#fdca26"
             ],
             [
              1,
              "#f0f921"
             ]
            ],
            "type": "histogram2dcontour"
           }
          ],
          "mesh3d": [
           {
            "colorbar": {
             "outlinewidth": 0,
             "ticks": ""
            },
            "type": "mesh3d"
           }
          ],
          "parcoords": [
           {
            "line": {
             "colorbar": {
              "outlinewidth": 0,
              "ticks": ""
             }
            },
            "type": "parcoords"
           }
          ],
          "pie": [
           {
            "automargin": true,
            "type": "pie"
           }
          ],
          "scatter": [
           {
            "fillpattern": {
             "fillmode": "overlay",
             "size": 10,
             "solidity": 0.2
            },
            "type": "scatter"
           }
          ],
          "scatter3d": [
           {
            "line": {
             "colorbar": {
              "outlinewidth": 0,
              "ticks": ""
             }
            },
            "marker": {
             "colorbar": {
              "outlinewidth": 0,
              "ticks": ""
             }
            },
            "type": "scatter3d"
           }
          ],
          "scattercarpet": [
           {
            "marker": {
             "colorbar": {
              "outlinewidth": 0,
              "ticks": ""
             }
            },
            "type": "scattercarpet"
           }
          ],
          "scattergeo": [
           {
            "marker": {
             "colorbar": {
              "outlinewidth": 0,
              "ticks": ""
             }
            },
            "type": "scattergeo"
           }
          ],
          "scattergl": [
           {
            "marker": {
             "colorbar": {
              "outlinewidth": 0,
              "ticks": ""
             }
            },
            "type": "scattergl"
           }
          ],
          "scattermapbox": [
           {
            "marker": {
             "colorbar": {
              "outlinewidth": 0,
              "ticks": ""
             }
            },
            "type": "scattermapbox"
           }
          ],
          "scatterpolar": [
           {
            "marker": {
             "colorbar": {
              "outlinewidth": 0,
              "ticks": ""
             }
            },
            "type": "scatterpolar"
           }
          ],
          "scatterpolargl": [
           {
            "marker": {
             "colorbar": {
              "outlinewidth": 0,
              "ticks": ""
             }
            },
            "type": "scatterpolargl"
           }
          ],
          "scatterternary": [
           {
            "marker": {
             "colorbar": {
              "outlinewidth": 0,
              "ticks": ""
             }
            },
            "type": "scatterternary"
           }
          ],
          "surface": [
           {
            "colorbar": {
             "outlinewidth": 0,
             "ticks": ""
            },
            "colorscale": [
             [
              0,
              "#0d0887"
             ],
             [
              0.1111111111111111,
              "#46039f"
             ],
             [
              0.2222222222222222,
              "#7201a8"
             ],
             [
              0.3333333333333333,
              "#9c179e"
             ],
             [
              0.4444444444444444,
              "#bd3786"
             ],
             [
              0.5555555555555556,
              "#d8576b"
             ],
             [
              0.6666666666666666,
              "#ed7953"
             ],
             [
              0.7777777777777778,
              "#fb9f3a"
             ],
             [
              0.8888888888888888,
              "#fdca26"
             ],
             [
              1,
              "#f0f921"
             ]
            ],
            "type": "surface"
           }
          ],
          "table": [
           {
            "cells": {
             "fill": {
              "color": "#EBF0F8"
             },
             "line": {
              "color": "white"
             }
            },
            "header": {
             "fill": {
              "color": "#C8D4E3"
             },
             "line": {
              "color": "white"
             }
            },
            "type": "table"
           }
          ]
         },
         "layout": {
          "annotationdefaults": {
           "arrowcolor": "#2a3f5f",
           "arrowhead": 0,
           "arrowwidth": 1
          },
          "autotypenumbers": "strict",
          "coloraxis": {
           "colorbar": {
            "outlinewidth": 0,
            "ticks": ""
           }
          },
          "colorscale": {
           "diverging": [
            [
             0,
             "#8e0152"
            ],
            [
             0.1,
             "#c51b7d"
            ],
            [
             0.2,
             "#de77ae"
            ],
            [
             0.3,
             "#f1b6da"
            ],
            [
             0.4,
             "#fde0ef"
            ],
            [
             0.5,
             "#f7f7f7"
            ],
            [
             0.6,
             "#e6f5d0"
            ],
            [
             0.7,
             "#b8e186"
            ],
            [
             0.8,
             "#7fbc41"
            ],
            [
             0.9,
             "#4d9221"
            ],
            [
             1,
             "#276419"
            ]
           ],
           "sequential": [
            [
             0,
             "#0d0887"
            ],
            [
             0.1111111111111111,
             "#46039f"
            ],
            [
             0.2222222222222222,
             "#7201a8"
            ],
            [
             0.3333333333333333,
             "#9c179e"
            ],
            [
             0.4444444444444444,
             "#bd3786"
            ],
            [
             0.5555555555555556,
             "#d8576b"
            ],
            [
             0.6666666666666666,
             "#ed7953"
            ],
            [
             0.7777777777777778,
             "#fb9f3a"
            ],
            [
             0.8888888888888888,
             "#fdca26"
            ],
            [
             1,
             "#f0f921"
            ]
           ],
           "sequentialminus": [
            [
             0,
             "#0d0887"
            ],
            [
             0.1111111111111111,
             "#46039f"
            ],
            [
             0.2222222222222222,
             "#7201a8"
            ],
            [
             0.3333333333333333,
             "#9c179e"
            ],
            [
             0.4444444444444444,
             "#bd3786"
            ],
            [
             0.5555555555555556,
             "#d8576b"
            ],
            [
             0.6666666666666666,
             "#ed7953"
            ],
            [
             0.7777777777777778,
             "#fb9f3a"
            ],
            [
             0.8888888888888888,
             "#fdca26"
            ],
            [
             1,
             "#f0f921"
            ]
           ]
          },
          "colorway": [
           "#636efa",
           "#EF553B",
           "#00cc96",
           "#ab63fa",
           "#FFA15A",
           "#19d3f3",
           "#FF6692",
           "#B6E880",
           "#FF97FF",
           "#FECB52"
          ],
          "font": {
           "color": "#2a3f5f"
          },
          "geo": {
           "bgcolor": "white",
           "lakecolor": "white",
           "landcolor": "#E5ECF6",
           "showlakes": true,
           "showland": true,
           "subunitcolor": "white"
          },
          "hoverlabel": {
           "align": "left"
          },
          "hovermode": "closest",
          "mapbox": {
           "style": "light"
          },
          "paper_bgcolor": "white",
          "plot_bgcolor": "#E5ECF6",
          "polar": {
           "angularaxis": {
            "gridcolor": "white",
            "linecolor": "white",
            "ticks": ""
           },
           "bgcolor": "#E5ECF6",
           "radialaxis": {
            "gridcolor": "white",
            "linecolor": "white",
            "ticks": ""
           }
          },
          "scene": {
           "xaxis": {
            "backgroundcolor": "#E5ECF6",
            "gridcolor": "white",
            "gridwidth": 2,
            "linecolor": "white",
            "showbackground": true,
            "ticks": "",
            "zerolinecolor": "white"
           },
           "yaxis": {
            "backgroundcolor": "#E5ECF6",
            "gridcolor": "white",
            "gridwidth": 2,
            "linecolor": "white",
            "showbackground": true,
            "ticks": "",
            "zerolinecolor": "white"
           },
           "zaxis": {
            "backgroundcolor": "#E5ECF6",
            "gridcolor": "white",
            "gridwidth": 2,
            "linecolor": "white",
            "showbackground": true,
            "ticks": "",
            "zerolinecolor": "white"
           }
          },
          "shapedefaults": {
           "line": {
            "color": "#2a3f5f"
           }
          },
          "ternary": {
           "aaxis": {
            "gridcolor": "white",
            "linecolor": "white",
            "ticks": ""
           },
           "baxis": {
            "gridcolor": "white",
            "linecolor": "white",
            "ticks": ""
           },
           "bgcolor": "#E5ECF6",
           "caxis": {
            "gridcolor": "white",
            "linecolor": "white",
            "ticks": ""
           }
          },
          "title": {
           "x": 0.05
          },
          "xaxis": {
           "automargin": true,
           "gridcolor": "white",
           "linecolor": "white",
           "ticks": "",
           "title": {
            "standoff": 15
           },
           "zerolinecolor": "white",
           "zerolinewidth": 2
          },
          "yaxis": {
           "automargin": true,
           "gridcolor": "white",
           "linecolor": "white",
           "ticks": "",
           "title": {
            "standoff": 15
           },
           "zerolinecolor": "white",
           "zerolinewidth": 2
          }
         }
        },
        "title": {
         "font": {
          "size": 24
         },
         "text": "Distribución de Países por Cluster",
         "x": 0.5
        },
        "treemapcolorway": [
         "rgb(141,211,199)",
         "rgb(255,255,179)",
         "rgb(190,186,218)",
         "rgb(251,128,114)",
         "rgb(128,177,211)",
         "rgb(253,180,98)",
         "rgb(179,222,105)",
         "rgb(252,205,229)",
         "rgb(217,217,217)",
         "rgb(188,128,189)",
         "rgb(204,235,197)",
         "rgb(255,237,111)"
        ],
        "width": 1200
       }
      }
     },
     "metadata": {},
     "output_type": "display_data"
    },
    {
     "data": {
      "application/vnd.plotly.v1+json": {
       "config": {
        "plotlyServerURL": "https://plot.ly"
       },
       "data": [
        {
         "marker": {
          "color": [
           "rgb(141,211,199)",
           "rgb(255,255,179)",
           "rgb(190,186,218)",
           "rgb(251,128,114)",
           "rgb(128,177,211)",
           "rgb(253,180,98)",
           "rgb(179,222,105)",
           "rgb(252,205,229)",
           "rgb(217,217,217)",
           "rgb(188,128,189)",
           "rgb(204,235,197)",
           "rgb(255,237,111)"
          ]
         },
         "text": [
          12,
          13,
          24,
          22,
          24
         ],
         "textposition": "auto",
         "type": "bar",
         "x": [
          "América Latina: Aliados Regionales Clave",
          "Economías Avanzadas y Aliados Estratégicos",
          "Economías Emergentes y en Desarrollo",
          "Estados con Desafíos Geopolíticos",
          "Socios Históricos y Culturales"
         ],
         "y": [
          12,
          13,
          24,
          22,
          24
         ]
        }
       ],
       "layout": {
        "font": {
         "size": 14
        },
        "height": 600,
        "margin": {
         "b": 100,
         "l": 100,
         "r": 100,
         "t": 100
        },
        "showlegend": false,
        "template": {
         "data": {
          "bar": [
           {
            "error_x": {
             "color": "#2a3f5f"
            },
            "error_y": {
             "color": "#2a3f5f"
            },
            "marker": {
             "line": {
              "color": "#E5ECF6",
              "width": 0.5
             },
             "pattern": {
              "fillmode": "overlay",
              "size": 10,
              "solidity": 0.2
             }
            },
            "type": "bar"
           }
          ],
          "barpolar": [
           {
            "marker": {
             "line": {
              "color": "#E5ECF6",
              "width": 0.5
             },
             "pattern": {
              "fillmode": "overlay",
              "size": 10,
              "solidity": 0.2
             }
            },
            "type": "barpolar"
           }
          ],
          "carpet": [
           {
            "aaxis": {
             "endlinecolor": "#2a3f5f",
             "gridcolor": "white",
             "linecolor": "white",
             "minorgridcolor": "white",
             "startlinecolor": "#2a3f5f"
            },
            "baxis": {
             "endlinecolor": "#2a3f5f",
             "gridcolor": "white",
             "linecolor": "white",
             "minorgridcolor": "white",
             "startlinecolor": "#2a3f5f"
            },
            "type": "carpet"
           }
          ],
          "choropleth": [
           {
            "colorbar": {
             "outlinewidth": 0,
             "ticks": ""
            },
            "type": "choropleth"
           }
          ],
          "contour": [
           {
            "colorbar": {
             "outlinewidth": 0,
             "ticks": ""
            },
            "colorscale": [
             [
              0,
              "#0d0887"
             ],
             [
              0.1111111111111111,
              "#46039f"
             ],
             [
              0.2222222222222222,
              "#7201a8"
             ],
             [
              0.3333333333333333,
              "#9c179e"
             ],
             [
              0.4444444444444444,
              "#bd3786"
             ],
             [
              0.5555555555555556,
              "#d8576b"
             ],
             [
              0.6666666666666666,
              "#ed7953"
             ],
             [
              0.7777777777777778,
              "#fb9f3a"
             ],
             [
              0.8888888888888888,
              "#fdca26"
             ],
             [
              1,
              "#f0f921"
             ]
            ],
            "type": "contour"
           }
          ],
          "contourcarpet": [
           {
            "colorbar": {
             "outlinewidth": 0,
             "ticks": ""
            },
            "type": "contourcarpet"
           }
          ],
          "heatmap": [
           {
            "colorbar": {
             "outlinewidth": 0,
             "ticks": ""
            },
            "colorscale": [
             [
              0,
              "#0d0887"
             ],
             [
              0.1111111111111111,
              "#46039f"
             ],
             [
              0.2222222222222222,
              "#7201a8"
             ],
             [
              0.3333333333333333,
              "#9c179e"
             ],
             [
              0.4444444444444444,
              "#bd3786"
             ],
             [
              0.5555555555555556,
              "#d8576b"
             ],
             [
              0.6666666666666666,
              "#ed7953"
             ],
             [
              0.7777777777777778,
              "#fb9f3a"
             ],
             [
              0.8888888888888888,
              "#fdca26"
             ],
             [
              1,
              "#f0f921"
             ]
            ],
            "type": "heatmap"
           }
          ],
          "heatmapgl": [
           {
            "colorbar": {
             "outlinewidth": 0,
             "ticks": ""
            },
            "colorscale": [
             [
              0,
              "#0d0887"
             ],
             [
              0.1111111111111111,
              "#46039f"
             ],
             [
              0.2222222222222222,
              "#7201a8"
             ],
             [
              0.3333333333333333,
              "#9c179e"
             ],
             [
              0.4444444444444444,
              "#bd3786"
             ],
             [
              0.5555555555555556,
              "#d8576b"
             ],
             [
              0.6666666666666666,
              "#ed7953"
             ],
             [
              0.7777777777777778,
              "#fb9f3a"
             ],
             [
              0.8888888888888888,
              "#fdca26"
             ],
             [
              1,
              "#f0f921"
             ]
            ],
            "type": "heatmapgl"
           }
          ],
          "histogram": [
           {
            "marker": {
             "pattern": {
              "fillmode": "overlay",
              "size": 10,
              "solidity": 0.2
             }
            },
            "type": "histogram"
           }
          ],
          "histogram2d": [
           {
            "colorbar": {
             "outlinewidth": 0,
             "ticks": ""
            },
            "colorscale": [
             [
              0,
              "#0d0887"
             ],
             [
              0.1111111111111111,
              "#46039f"
             ],
             [
              0.2222222222222222,
              "#7201a8"
             ],
             [
              0.3333333333333333,
              "#9c179e"
             ],
             [
              0.4444444444444444,
              "#bd3786"
             ],
             [
              0.5555555555555556,
              "#d8576b"
             ],
             [
              0.6666666666666666,
              "#ed7953"
             ],
             [
              0.7777777777777778,
              "#fb9f3a"
             ],
             [
              0.8888888888888888,
              "#fdca26"
             ],
             [
              1,
              "#f0f921"
             ]
            ],
            "type": "histogram2d"
           }
          ],
          "histogram2dcontour": [
           {
            "colorbar": {
             "outlinewidth": 0,
             "ticks": ""
            },
            "colorscale": [
             [
              0,
              "#0d0887"
             ],
             [
              0.1111111111111111,
              "#46039f"
             ],
             [
              0.2222222222222222,
              "#7201a8"
             ],
             [
              0.3333333333333333,
              "#9c179e"
             ],
             [
              0.4444444444444444,
              "#bd3786"
             ],
             [
              0.5555555555555556,
              "#d8576b"
             ],
             [
              0.6666666666666666,
              "#ed7953"
             ],
             [
              0.7777777777777778,
              "#fb9f3a"
             ],
             [
              0.8888888888888888,
              "#fdca26"
             ],
             [
              1,
              "#f0f921"
             ]
            ],
            "type": "histogram2dcontour"
           }
          ],
          "mesh3d": [
           {
            "colorbar": {
             "outlinewidth": 0,
             "ticks": ""
            },
            "type": "mesh3d"
           }
          ],
          "parcoords": [
           {
            "line": {
             "colorbar": {
              "outlinewidth": 0,
              "ticks": ""
             }
            },
            "type": "parcoords"
           }
          ],
          "pie": [
           {
            "automargin": true,
            "type": "pie"
           }
          ],
          "scatter": [
           {
            "fillpattern": {
             "fillmode": "overlay",
             "size": 10,
             "solidity": 0.2
            },
            "type": "scatter"
           }
          ],
          "scatter3d": [
           {
            "line": {
             "colorbar": {
              "outlinewidth": 0,
              "ticks": ""
             }
            },
            "marker": {
             "colorbar": {
              "outlinewidth": 0,
              "ticks": ""
             }
            },
            "type": "scatter3d"
           }
          ],
          "scattercarpet": [
           {
            "marker": {
             "colorbar": {
              "outlinewidth": 0,
              "ticks": ""
             }
            },
            "type": "scattercarpet"
           }
          ],
          "scattergeo": [
           {
            "marker": {
             "colorbar": {
              "outlinewidth": 0,
              "ticks": ""
             }
            },
            "type": "scattergeo"
           }
          ],
          "scattergl": [
           {
            "marker": {
             "colorbar": {
              "outlinewidth": 0,
              "ticks": ""
             }
            },
            "type": "scattergl"
           }
          ],
          "scattermapbox": [
           {
            "marker": {
             "colorbar": {
              "outlinewidth": 0,
              "ticks": ""
             }
            },
            "type": "scattermapbox"
           }
          ],
          "scatterpolar": [
           {
            "marker": {
             "colorbar": {
              "outlinewidth": 0,
              "ticks": ""
             }
            },
            "type": "scatterpolar"
           }
          ],
          "scatterpolargl": [
           {
            "marker": {
             "colorbar": {
              "outlinewidth": 0,
              "ticks": ""
             }
            },
            "type": "scatterpolargl"
           }
          ],
          "scatterternary": [
           {
            "marker": {
             "colorbar": {
              "outlinewidth": 0,
              "ticks": ""
             }
            },
            "type": "scatterternary"
           }
          ],
          "surface": [
           {
            "colorbar": {
             "outlinewidth": 0,
             "ticks": ""
            },
            "colorscale": [
             [
              0,
              "#0d0887"
             ],
             [
              0.1111111111111111,
              "#46039f"
             ],
             [
              0.2222222222222222,
              "#7201a8"
             ],
             [
              0.3333333333333333,
              "#9c179e"
             ],
             [
              0.4444444444444444,
              "#bd3786"
             ],
             [
              0.5555555555555556,
              "#d8576b"
             ],
             [
              0.6666666666666666,
              "#ed7953"
             ],
             [
              0.7777777777777778,
              "#fb9f3a"
             ],
             [
              0.8888888888888888,
              "#fdca26"
             ],
             [
              1,
              "#f0f921"
             ]
            ],
            "type": "surface"
           }
          ],
          "table": [
           {
            "cells": {
             "fill": {
              "color": "#EBF0F8"
             },
             "line": {
              "color": "white"
             }
            },
            "header": {
             "fill": {
              "color": "#C8D4E3"
             },
             "line": {
              "color": "white"
             }
            },
            "type": "table"
           }
          ]
         },
         "layout": {
          "annotationdefaults": {
           "arrowcolor": "#2a3f5f",
           "arrowhead": 0,
           "arrowwidth": 1
          },
          "autotypenumbers": "strict",
          "coloraxis": {
           "colorbar": {
            "outlinewidth": 0,
            "ticks": ""
           }
          },
          "colorscale": {
           "diverging": [
            [
             0,
             "#8e0152"
            ],
            [
             0.1,
             "#c51b7d"
            ],
            [
             0.2,
             "#de77ae"
            ],
            [
             0.3,
             "#f1b6da"
            ],
            [
             0.4,
             "#fde0ef"
            ],
            [
             0.5,
             "#f7f7f7"
            ],
            [
             0.6,
             "#e6f5d0"
            ],
            [
             0.7,
             "#b8e186"
            ],
            [
             0.8,
             "#7fbc41"
            ],
            [
             0.9,
             "#4d9221"
            ],
            [
             1,
             "#276419"
            ]
           ],
           "sequential": [
            [
             0,
             "#0d0887"
            ],
            [
             0.1111111111111111,
             "#46039f"
            ],
            [
             0.2222222222222222,
             "#7201a8"
            ],
            [
             0.3333333333333333,
             "#9c179e"
            ],
            [
             0.4444444444444444,
             "#bd3786"
            ],
            [
             0.5555555555555556,
             "#d8576b"
            ],
            [
             0.6666666666666666,
             "#ed7953"
            ],
            [
             0.7777777777777778,
             "#fb9f3a"
            ],
            [
             0.8888888888888888,
             "#fdca26"
            ],
            [
             1,
             "#f0f921"
            ]
           ],
           "sequentialminus": [
            [
             0,
             "#0d0887"
            ],
            [
             0.1111111111111111,
             "#46039f"
            ],
            [
             0.2222222222222222,
             "#7201a8"
            ],
            [
             0.3333333333333333,
             "#9c179e"
            ],
            [
             0.4444444444444444,
             "#bd3786"
            ],
            [
             0.5555555555555556,
             "#d8576b"
            ],
            [
             0.6666666666666666,
             "#ed7953"
            ],
            [
             0.7777777777777778,
             "#fb9f3a"
            ],
            [
             0.8888888888888888,
             "#fdca26"
            ],
            [
             1,
             "#f0f921"
            ]
           ]
          },
          "colorway": [
           "#636efa",
           "#EF553B",
           "#00cc96",
           "#ab63fa",
           "#FFA15A",
           "#19d3f3",
           "#FF6692",
           "#B6E880",
           "#FF97FF",
           "#FECB52"
          ],
          "font": {
           "color": "#2a3f5f"
          },
          "geo": {
           "bgcolor": "white",
           "lakecolor": "white",
           "landcolor": "#E5ECF6",
           "showlakes": true,
           "showland": true,
           "subunitcolor": "white"
          },
          "hoverlabel": {
           "align": "left"
          },
          "hovermode": "closest",
          "mapbox": {
           "style": "light"
          },
          "paper_bgcolor": "white",
          "plot_bgcolor": "#E5ECF6",
          "polar": {
           "angularaxis": {
            "gridcolor": "white",
            "linecolor": "white",
            "ticks": ""
           },
           "bgcolor": "#E5ECF6",
           "radialaxis": {
            "gridcolor": "white",
            "linecolor": "white",
            "ticks": ""
           }
          },
          "scene": {
           "xaxis": {
            "backgroundcolor": "#E5ECF6",
            "gridcolor": "white",
            "gridwidth": 2,
            "linecolor": "white",
            "showbackground": true,
            "ticks": "",
            "zerolinecolor": "white"
           },
           "yaxis": {
            "backgroundcolor": "#E5ECF6",
            "gridcolor": "white",
            "gridwidth": 2,
            "linecolor": "white",
            "showbackground": true,
            "ticks": "",
            "zerolinecolor": "white"
           },
           "zaxis": {
            "backgroundcolor": "#E5ECF6",
            "gridcolor": "white",
            "gridwidth": 2,
            "linecolor": "white",
            "showbackground": true,
            "ticks": "",
            "zerolinecolor": "white"
           }
          },
          "shapedefaults": {
           "line": {
            "color": "#2a3f5f"
           }
          },
          "ternary": {
           "aaxis": {
            "gridcolor": "white",
            "linecolor": "white",
            "ticks": ""
           },
           "baxis": {
            "gridcolor": "white",
            "linecolor": "white",
            "ticks": ""
           },
           "bgcolor": "#E5ECF6",
           "caxis": {
            "gridcolor": "white",
            "linecolor": "white",
            "ticks": ""
           }
          },
          "title": {
           "x": 0.05
          },
          "xaxis": {
           "automargin": true,
           "gridcolor": "white",
           "linecolor": "white",
           "ticks": "",
           "title": {
            "standoff": 15
           },
           "zerolinecolor": "white",
           "zerolinewidth": 2
          },
          "yaxis": {
           "automargin": true,
           "gridcolor": "white",
           "linecolor": "white",
           "ticks": "",
           "title": {
            "standoff": 15
           },
           "zerolinecolor": "white",
           "zerolinewidth": 2
          }
         }
        },
        "title": {
         "font": {
          "size": 24
         },
         "text": "Número de Países por Cluster",
         "x": 0.5,
         "xanchor": "center",
         "y": 0.95,
         "yanchor": "top"
        },
        "width": 1200,
        "xaxis": {
         "tickangle": -45,
         "title": {
          "text": "Cluster"
         }
        },
        "yaxis": {
         "title": {
          "text": "Número de Países"
         }
        }
       }
      }
     },
     "metadata": {},
     "output_type": "display_data"
    },
    {
     "data": {
      "application/vnd.plotly.v1+json": {
       "config": {
        "plotlyServerURL": "https://plot.ly"
       },
       "data": [
        {
         "customdata": [
          [
           "Economías Emergentes y en Desarrollo"
          ],
          [
           "Economías Emergentes y en Desarrollo"
          ],
          [
           "Economías Emergentes y en Desarrollo"
          ],
          [
           "Economías Emergentes y en Desarrollo"
          ],
          [
           "Economías Emergentes y en Desarrollo"
          ],
          [
           "Economías Emergentes y en Desarrollo"
          ],
          [
           "Economías Emergentes y en Desarrollo"
          ],
          [
           "Economías Emergentes y en Desarrollo"
          ],
          [
           "Economías Emergentes y en Desarrollo"
          ],
          [
           "Economías Emergentes y en Desarrollo"
          ],
          [
           "Economías Emergentes y en Desarrollo"
          ],
          [
           "Economías Emergentes y en Desarrollo"
          ],
          [
           "Economías Emergentes y en Desarrollo"
          ],
          [
           "Economías Emergentes y en Desarrollo"
          ],
          [
           "Economías Emergentes y en Desarrollo"
          ],
          [
           "Economías Emergentes y en Desarrollo"
          ],
          [
           "Economías Emergentes y en Desarrollo"
          ],
          [
           "Economías Emergentes y en Desarrollo"
          ],
          [
           "Economías Emergentes y en Desarrollo"
          ],
          [
           "Economías Emergentes y en Desarrollo"
          ],
          [
           "Economías Emergentes y en Desarrollo"
          ],
          [
           "Economías Emergentes y en Desarrollo"
          ],
          [
           "Economías Emergentes y en Desarrollo"
          ],
          [
           "Economías Emergentes y en Desarrollo"
          ],
          [
           "Estados con Desafíos Geopolíticos"
          ],
          [
           "Estados con Desafíos Geopolíticos"
          ],
          [
           "Estados con Desafíos Geopolíticos"
          ],
          [
           "Estados con Desafíos Geopolíticos"
          ],
          [
           "Estados con Desafíos Geopolíticos"
          ],
          [
           "Estados con Desafíos Geopolíticos"
          ],
          [
           "Estados con Desafíos Geopolíticos"
          ],
          [
           "Estados con Desafíos Geopolíticos"
          ],
          [
           "Estados con Desafíos Geopolíticos"
          ],
          [
           "Estados con Desafíos Geopolíticos"
          ],
          [
           "Estados con Desafíos Geopolíticos"
          ],
          [
           "Estados con Desafíos Geopolíticos"
          ],
          [
           "Estados con Desafíos Geopolíticos"
          ],
          [
           "Estados con Desafíos Geopolíticos"
          ],
          [
           "Estados con Desafíos Geopolíticos"
          ],
          [
           "Estados con Desafíos Geopolíticos"
          ],
          [
           "Estados con Desafíos Geopolíticos"
          ],
          [
           "Estados con Desafíos Geopolíticos"
          ],
          [
           "Estados con Desafíos Geopolíticos"
          ],
          [
           "Estados con Desafíos Geopolíticos"
          ],
          [
           "Estados con Desafíos Geopolíticos"
          ],
          [
           "Estados con Desafíos Geopolíticos"
          ],
          [
           "Economías Avanzadas y Aliados Estratégicos"
          ],
          [
           "Economías Avanzadas y Aliados Estratégicos"
          ],
          [
           "Economías Avanzadas y Aliados Estratégicos"
          ],
          [
           "Economías Avanzadas y Aliados Estratégicos"
          ],
          [
           "Economías Avanzadas y Aliados Estratégicos"
          ],
          [
           "Economías Avanzadas y Aliados Estratégicos"
          ],
          [
           "Economías Avanzadas y Aliados Estratégicos"
          ],
          [
           "Economías Avanzadas y Aliados Estratégicos"
          ],
          [
           "Economías Avanzadas y Aliados Estratégicos"
          ],
          [
           "Economías Avanzadas y Aliados Estratégicos"
          ],
          [
           "Economías Avanzadas y Aliados Estratégicos"
          ],
          [
           "Economías Avanzadas y Aliados Estratégicos"
          ],
          [
           "Economías Avanzadas y Aliados Estratégicos"
          ],
          [
           "Socios Históricos y Culturales"
          ],
          [
           "Socios Históricos y Culturales"
          ],
          [
           "Socios Históricos y Culturales"
          ],
          [
           "Socios Históricos y Culturales"
          ],
          [
           "Socios Históricos y Culturales"
          ],
          [
           "Socios Históricos y Culturales"
          ],
          [
           "Socios Históricos y Culturales"
          ],
          [
           "Socios Históricos y Culturales"
          ],
          [
           "Socios Históricos y Culturales"
          ],
          [
           "Socios Históricos y Culturales"
          ],
          [
           "Socios Históricos y Culturales"
          ],
          [
           "Socios Históricos y Culturales"
          ],
          [
           "Socios Históricos y Culturales"
          ],
          [
           "Socios Históricos y Culturales"
          ],
          [
           "Socios Históricos y Culturales"
          ],
          [
           "Socios Históricos y Culturales"
          ],
          [
           "Socios Históricos y Culturales"
          ],
          [
           "Socios Históricos y Culturales"
          ],
          [
           "Socios Históricos y Culturales"
          ],
          [
           "Socios Históricos y Culturales"
          ],
          [
           "Socios Históricos y Culturales"
          ],
          [
           "Socios Históricos y Culturales"
          ],
          [
           "Socios Históricos y Culturales"
          ],
          [
           "Socios Históricos y Culturales"
          ],
          [
           "América Latina: Aliados Regionales Clave"
          ],
          [
           "América Latina: Aliados Regionales Clave"
          ],
          [
           "América Latina: Aliados Regionales Clave"
          ],
          [
           "América Latina: Aliados Regionales Clave"
          ],
          [
           "América Latina: Aliados Regionales Clave"
          ],
          [
           "América Latina: Aliados Regionales Clave"
          ],
          [
           "América Latina: Aliados Regionales Clave"
          ],
          [
           "América Latina: Aliados Regionales Clave"
          ],
          [
           "América Latina: Aliados Regionales Clave"
          ],
          [
           "América Latina: Aliados Regionales Clave"
          ],
          [
           "América Latina: Aliados Regionales Clave"
          ],
          [
           "América Latina: Aliados Regionales Clave"
          ]
         ],
         "domain": {
          "x": [
           0,
           1
          ],
          "y": [
           0,
           1
          ]
         },
         "hovertemplate": "Cluster=%{customdata[0]}<extra></extra>",
         "labels": [
          "Economías Emergentes y en Desarrollo",
          "Economías Emergentes y en Desarrollo",
          "Economías Emergentes y en Desarrollo",
          "Economías Emergentes y en Desarrollo",
          "Economías Emergentes y en Desarrollo",
          "Economías Emergentes y en Desarrollo",
          "Economías Emergentes y en Desarrollo",
          "Economías Emergentes y en Desarrollo",
          "Economías Emergentes y en Desarrollo",
          "Economías Emergentes y en Desarrollo",
          "Economías Emergentes y en Desarrollo",
          "Economías Emergentes y en Desarrollo",
          "Economías Emergentes y en Desarrollo",
          "Economías Emergentes y en Desarrollo",
          "Economías Emergentes y en Desarrollo",
          "Economías Emergentes y en Desarrollo",
          "Economías Emergentes y en Desarrollo",
          "Economías Emergentes y en Desarrollo",
          "Economías Emergentes y en Desarrollo",
          "Economías Emergentes y en Desarrollo",
          "Economías Emergentes y en Desarrollo",
          "Economías Emergentes y en Desarrollo",
          "Economías Emergentes y en Desarrollo",
          "Economías Emergentes y en Desarrollo",
          "Estados con Desafíos Geopolíticos",
          "Estados con Desafíos Geopolíticos",
          "Estados con Desafíos Geopolíticos",
          "Estados con Desafíos Geopolíticos",
          "Estados con Desafíos Geopolíticos",
          "Estados con Desafíos Geopolíticos",
          "Estados con Desafíos Geopolíticos",
          "Estados con Desafíos Geopolíticos",
          "Estados con Desafíos Geopolíticos",
          "Estados con Desafíos Geopolíticos",
          "Estados con Desafíos Geopolíticos",
          "Estados con Desafíos Geopolíticos",
          "Estados con Desafíos Geopolíticos",
          "Estados con Desafíos Geopolíticos",
          "Estados con Desafíos Geopolíticos",
          "Estados con Desafíos Geopolíticos",
          "Estados con Desafíos Geopolíticos",
          "Estados con Desafíos Geopolíticos",
          "Estados con Desafíos Geopolíticos",
          "Estados con Desafíos Geopolíticos",
          "Estados con Desafíos Geopolíticos",
          "Estados con Desafíos Geopolíticos",
          "Economías Avanzadas y Aliados Estratégicos",
          "Economías Avanzadas y Aliados Estratégicos",
          "Economías Avanzadas y Aliados Estratégicos",
          "Economías Avanzadas y Aliados Estratégicos",
          "Economías Avanzadas y Aliados Estratégicos",
          "Economías Avanzadas y Aliados Estratégicos",
          "Economías Avanzadas y Aliados Estratégicos",
          "Economías Avanzadas y Aliados Estratégicos",
          "Economías Avanzadas y Aliados Estratégicos",
          "Economías Avanzadas y Aliados Estratégicos",
          "Economías Avanzadas y Aliados Estratégicos",
          "Economías Avanzadas y Aliados Estratégicos",
          "Economías Avanzadas y Aliados Estratégicos",
          "Socios Históricos y Culturales",
          "Socios Históricos y Culturales",
          "Socios Históricos y Culturales",
          "Socios Históricos y Culturales",
          "Socios Históricos y Culturales",
          "Socios Históricos y Culturales",
          "Socios Históricos y Culturales",
          "Socios Históricos y Culturales",
          "Socios Históricos y Culturales",
          "Socios Históricos y Culturales",
          "Socios Históricos y Culturales",
          "Socios Históricos y Culturales",
          "Socios Históricos y Culturales",
          "Socios Históricos y Culturales",
          "Socios Históricos y Culturales",
          "Socios Históricos y Culturales",
          "Socios Históricos y Culturales",
          "Socios Históricos y Culturales",
          "Socios Históricos y Culturales",
          "Socios Históricos y Culturales",
          "Socios Históricos y Culturales",
          "Socios Históricos y Culturales",
          "Socios Históricos y Culturales",
          "Socios Históricos y Culturales",
          "América Latina: Aliados Regionales Clave",
          "América Latina: Aliados Regionales Clave",
          "América Latina: Aliados Regionales Clave",
          "América Latina: Aliados Regionales Clave",
          "América Latina: Aliados Regionales Clave",
          "América Latina: Aliados Regionales Clave",
          "América Latina: Aliados Regionales Clave",
          "América Latina: Aliados Regionales Clave",
          "América Latina: Aliados Regionales Clave",
          "América Latina: Aliados Regionales Clave",
          "América Latina: Aliados Regionales Clave",
          "América Latina: Aliados Regionales Clave"
         ],
         "legendgroup": "",
         "marker": {
          "colors": [
           "rgb(141,211,199)",
           "rgb(141,211,199)",
           "rgb(141,211,199)",
           "rgb(141,211,199)",
           "rgb(141,211,199)",
           "rgb(141,211,199)",
           "rgb(141,211,199)",
           "rgb(141,211,199)",
           "rgb(141,211,199)",
           "rgb(141,211,199)",
           "rgb(141,211,199)",
           "rgb(141,211,199)",
           "rgb(141,211,199)",
           "rgb(141,211,199)",
           "rgb(141,211,199)",
           "rgb(141,211,199)",
           "rgb(141,211,199)",
           "rgb(141,211,199)",
           "rgb(141,211,199)",
           "rgb(141,211,199)",
           "rgb(141,211,199)",
           "rgb(141,211,199)",
           "rgb(141,211,199)",
           "rgb(141,211,199)",
           "rgb(255,255,179)",
           "rgb(255,255,179)",
           "rgb(255,255,179)",
           "rgb(255,255,179)",
           "rgb(255,255,179)",
           "rgb(255,255,179)",
           "rgb(255,255,179)",
           "rgb(255,255,179)",
           "rgb(255,255,179)",
           "rgb(255,255,179)",
           "rgb(255,255,179)",
           "rgb(255,255,179)",
           "rgb(255,255,179)",
           "rgb(255,255,179)",
           "rgb(255,255,179)",
           "rgb(255,255,179)",
           "rgb(255,255,179)",
           "rgb(255,255,179)",
           "rgb(255,255,179)",
           "rgb(255,255,179)",
           "rgb(255,255,179)",
           "rgb(255,255,179)",
           "rgb(190,186,218)",
           "rgb(190,186,218)",
           "rgb(190,186,218)",
           "rgb(190,186,218)",
           "rgb(190,186,218)",
           "rgb(190,186,218)",
           "rgb(190,186,218)",
           "rgb(190,186,218)",
           "rgb(190,186,218)",
           "rgb(190,186,218)",
           "rgb(190,186,218)",
           "rgb(190,186,218)",
           "rgb(190,186,218)",
           "rgb(251,128,114)",
           "rgb(251,128,114)",
           "rgb(251,128,114)",
           "rgb(251,128,114)",
           "rgb(251,128,114)",
           "rgb(251,128,114)",
           "rgb(251,128,114)",
           "rgb(251,128,114)",
           "rgb(251,128,114)",
           "rgb(251,128,114)",
           "rgb(251,128,114)",
           "rgb(251,128,114)",
           "rgb(251,128,114)",
           "rgb(251,128,114)",
           "rgb(251,128,114)",
           "rgb(251,128,114)",
           "rgb(251,128,114)",
           "rgb(251,128,114)",
           "rgb(251,128,114)",
           "rgb(251,128,114)",
           "rgb(251,128,114)",
           "rgb(251,128,114)",
           "rgb(251,128,114)",
           "rgb(251,128,114)",
           "rgb(128,177,211)",
           "rgb(128,177,211)",
           "rgb(128,177,211)",
           "rgb(128,177,211)",
           "rgb(128,177,211)",
           "rgb(128,177,211)",
           "rgb(128,177,211)",
           "rgb(128,177,211)",
           "rgb(128,177,211)",
           "rgb(128,177,211)",
           "rgb(128,177,211)",
           "rgb(128,177,211)"
          ]
         },
         "name": "",
         "showlegend": true,
         "type": "pie"
        }
       ],
       "layout": {
        "font": {
         "size": 14
        },
        "height": 700,
        "legend": {
         "orientation": "h",
         "tracegroupgap": 0,
         "y": -0.1
        },
        "piecolorway": [
         "rgb(141,211,199)",
         "rgb(255,255,179)",
         "rgb(190,186,218)",
         "rgb(251,128,114)",
         "rgb(128,177,211)",
         "rgb(253,180,98)",
         "rgb(179,222,105)",
         "rgb(252,205,229)",
         "rgb(217,217,217)",
         "rgb(188,128,189)",
         "rgb(204,235,197)",
         "rgb(255,237,111)"
        ],
        "showlegend": true,
        "template": {
         "data": {
          "bar": [
           {
            "error_x": {
             "color": "#2a3f5f"
            },
            "error_y": {
             "color": "#2a3f5f"
            },
            "marker": {
             "line": {
              "color": "#E5ECF6",
              "width": 0.5
             },
             "pattern": {
              "fillmode": "overlay",
              "size": 10,
              "solidity": 0.2
             }
            },
            "type": "bar"
           }
          ],
          "barpolar": [
           {
            "marker": {
             "line": {
              "color": "#E5ECF6",
              "width": 0.5
             },
             "pattern": {
              "fillmode": "overlay",
              "size": 10,
              "solidity": 0.2
             }
            },
            "type": "barpolar"
           }
          ],
          "carpet": [
           {
            "aaxis": {
             "endlinecolor": "#2a3f5f",
             "gridcolor": "white",
             "linecolor": "white",
             "minorgridcolor": "white",
             "startlinecolor": "#2a3f5f"
            },
            "baxis": {
             "endlinecolor": "#2a3f5f",
             "gridcolor": "white",
             "linecolor": "white",
             "minorgridcolor": "white",
             "startlinecolor": "#2a3f5f"
            },
            "type": "carpet"
           }
          ],
          "choropleth": [
           {
            "colorbar": {
             "outlinewidth": 0,
             "ticks": ""
            },
            "type": "choropleth"
           }
          ],
          "contour": [
           {
            "colorbar": {
             "outlinewidth": 0,
             "ticks": ""
            },
            "colorscale": [
             [
              0,
              "#0d0887"
             ],
             [
              0.1111111111111111,
              "#46039f"
             ],
             [
              0.2222222222222222,
              "#7201a8"
             ],
             [
              0.3333333333333333,
              "#9c179e"
             ],
             [
              0.4444444444444444,
              "#bd3786"
             ],
             [
              0.5555555555555556,
              "#d8576b"
             ],
             [
              0.6666666666666666,
              "#ed7953"
             ],
             [
              0.7777777777777778,
              "#fb9f3a"
             ],
             [
              0.8888888888888888,
              "#fdca26"
             ],
             [
              1,
              "#f0f921"
             ]
            ],
            "type": "contour"
           }
          ],
          "contourcarpet": [
           {
            "colorbar": {
             "outlinewidth": 0,
             "ticks": ""
            },
            "type": "contourcarpet"
           }
          ],
          "heatmap": [
           {
            "colorbar": {
             "outlinewidth": 0,
             "ticks": ""
            },
            "colorscale": [
             [
              0,
              "#0d0887"
             ],
             [
              0.1111111111111111,
              "#46039f"
             ],
             [
              0.2222222222222222,
              "#7201a8"
             ],
             [
              0.3333333333333333,
              "#9c179e"
             ],
             [
              0.4444444444444444,
              "#bd3786"
             ],
             [
              0.5555555555555556,
              "#d8576b"
             ],
             [
              0.6666666666666666,
              "#ed7953"
             ],
             [
              0.7777777777777778,
              "#fb9f3a"
             ],
             [
              0.8888888888888888,
              "#fdca26"
             ],
             [
              1,
              "#f0f921"
             ]
            ],
            "type": "heatmap"
           }
          ],
          "heatmapgl": [
           {
            "colorbar": {
             "outlinewidth": 0,
             "ticks": ""
            },
            "colorscale": [
             [
              0,
              "#0d0887"
             ],
             [
              0.1111111111111111,
              "#46039f"
             ],
             [
              0.2222222222222222,
              "#7201a8"
             ],
             [
              0.3333333333333333,
              "#9c179e"
             ],
             [
              0.4444444444444444,
              "#bd3786"
             ],
             [
              0.5555555555555556,
              "#d8576b"
             ],
             [
              0.6666666666666666,
              "#ed7953"
             ],
             [
              0.7777777777777778,
              "#fb9f3a"
             ],
             [
              0.8888888888888888,
              "#fdca26"
             ],
             [
              1,
              "#f0f921"
             ]
            ],
            "type": "heatmapgl"
           }
          ],
          "histogram": [
           {
            "marker": {
             "pattern": {
              "fillmode": "overlay",
              "size": 10,
              "solidity": 0.2
             }
            },
            "type": "histogram"
           }
          ],
          "histogram2d": [
           {
            "colorbar": {
             "outlinewidth": 0,
             "ticks": ""
            },
            "colorscale": [
             [
              0,
              "#0d0887"
             ],
             [
              0.1111111111111111,
              "#46039f"
             ],
             [
              0.2222222222222222,
              "#7201a8"
             ],
             [
              0.3333333333333333,
              "#9c179e"
             ],
             [
              0.4444444444444444,
              "#bd3786"
             ],
             [
              0.5555555555555556,
              "#d8576b"
             ],
             [
              0.6666666666666666,
              "#ed7953"
             ],
             [
              0.7777777777777778,
              "#fb9f3a"
             ],
             [
              0.8888888888888888,
              "#fdca26"
             ],
             [
              1,
              "#f0f921"
             ]
            ],
            "type": "histogram2d"
           }
          ],
          "histogram2dcontour": [
           {
            "colorbar": {
             "outlinewidth": 0,
             "ticks": ""
            },
            "colorscale": [
             [
              0,
              "#0d0887"
             ],
             [
              0.1111111111111111,
              "#46039f"
             ],
             [
              0.2222222222222222,
              "#7201a8"
             ],
             [
              0.3333333333333333,
              "#9c179e"
             ],
             [
              0.4444444444444444,
              "#bd3786"
             ],
             [
              0.5555555555555556,
              "#d8576b"
             ],
             [
              0.6666666666666666,
              "#ed7953"
             ],
             [
              0.7777777777777778,
              "#fb9f3a"
             ],
             [
              0.8888888888888888,
              "#fdca26"
             ],
             [
              1,
              "#f0f921"
             ]
            ],
            "type": "histogram2dcontour"
           }
          ],
          "mesh3d": [
           {
            "colorbar": {
             "outlinewidth": 0,
             "ticks": ""
            },
            "type": "mesh3d"
           }
          ],
          "parcoords": [
           {
            "line": {
             "colorbar": {
              "outlinewidth": 0,
              "ticks": ""
             }
            },
            "type": "parcoords"
           }
          ],
          "pie": [
           {
            "automargin": true,
            "type": "pie"
           }
          ],
          "scatter": [
           {
            "fillpattern": {
             "fillmode": "overlay",
             "size": 10,
             "solidity": 0.2
            },
            "type": "scatter"
           }
          ],
          "scatter3d": [
           {
            "line": {
             "colorbar": {
              "outlinewidth": 0,
              "ticks": ""
             }
            },
            "marker": {
             "colorbar": {
              "outlinewidth": 0,
              "ticks": ""
             }
            },
            "type": "scatter3d"
           }
          ],
          "scattercarpet": [
           {
            "marker": {
             "colorbar": {
              "outlinewidth": 0,
              "ticks": ""
             }
            },
            "type": "scattercarpet"
           }
          ],
          "scattergeo": [
           {
            "marker": {
             "colorbar": {
              "outlinewidth": 0,
              "ticks": ""
             }
            },
            "type": "scattergeo"
           }
          ],
          "scattergl": [
           {
            "marker": {
             "colorbar": {
              "outlinewidth": 0,
              "ticks": ""
             }
            },
            "type": "scattergl"
           }
          ],
          "scattermapbox": [
           {
            "marker": {
             "colorbar": {
              "outlinewidth": 0,
              "ticks": ""
             }
            },
            "type": "scattermapbox"
           }
          ],
          "scatterpolar": [
           {
            "marker": {
             "colorbar": {
              "outlinewidth": 0,
              "ticks": ""
             }
            },
            "type": "scatterpolar"
           }
          ],
          "scatterpolargl": [
           {
            "marker": {
             "colorbar": {
              "outlinewidth": 0,
              "ticks": ""
             }
            },
            "type": "scatterpolargl"
           }
          ],
          "scatterternary": [
           {
            "marker": {
             "colorbar": {
              "outlinewidth": 0,
              "ticks": ""
             }
            },
            "type": "scatterternary"
           }
          ],
          "surface": [
           {
            "colorbar": {
             "outlinewidth": 0,
             "ticks": ""
            },
            "colorscale": [
             [
              0,
              "#0d0887"
             ],
             [
              0.1111111111111111,
              "#46039f"
             ],
             [
              0.2222222222222222,
              "#7201a8"
             ],
             [
              0.3333333333333333,
              "#9c179e"
             ],
             [
              0.4444444444444444,
              "#bd3786"
             ],
             [
              0.5555555555555556,
              "#d8576b"
             ],
             [
              0.6666666666666666,
              "#ed7953"
             ],
             [
              0.7777777777777778,
              "#fb9f3a"
             ],
             [
              0.8888888888888888,
              "#fdca26"
             ],
             [
              1,
              "#f0f921"
             ]
            ],
            "type": "surface"
           }
          ],
          "table": [
           {
            "cells": {
             "fill": {
              "color": "#EBF0F8"
             },
             "line": {
              "color": "white"
             }
            },
            "header": {
             "fill": {
              "color": "#C8D4E3"
             },
             "line": {
              "color": "white"
             }
            },
            "type": "table"
           }
          ]
         },
         "layout": {
          "annotationdefaults": {
           "arrowcolor": "#2a3f5f",
           "arrowhead": 0,
           "arrowwidth": 1
          },
          "autotypenumbers": "strict",
          "coloraxis": {
           "colorbar": {
            "outlinewidth": 0,
            "ticks": ""
           }
          },
          "colorscale": {
           "diverging": [
            [
             0,
             "#8e0152"
            ],
            [
             0.1,
             "#c51b7d"
            ],
            [
             0.2,
             "#de77ae"
            ],
            [
             0.3,
             "#f1b6da"
            ],
            [
             0.4,
             "#fde0ef"
            ],
            [
             0.5,
             "#f7f7f7"
            ],
            [
             0.6,
             "#e6f5d0"
            ],
            [
             0.7,
             "#b8e186"
            ],
            [
             0.8,
             "#7fbc41"
            ],
            [
             0.9,
             "#4d9221"
            ],
            [
             1,
             "#276419"
            ]
           ],
           "sequential": [
            [
             0,
             "#0d0887"
            ],
            [
             0.1111111111111111,
             "#46039f"
            ],
            [
             0.2222222222222222,
             "#7201a8"
            ],
            [
             0.3333333333333333,
             "#9c179e"
            ],
            [
             0.4444444444444444,
             "#bd3786"
            ],
            [
             0.5555555555555556,
             "#d8576b"
            ],
            [
             0.6666666666666666,
             "#ed7953"
            ],
            [
             0.7777777777777778,
             "#fb9f3a"
            ],
            [
             0.8888888888888888,
             "#fdca26"
            ],
            [
             1,
             "#f0f921"
            ]
           ],
           "sequentialminus": [
            [
             0,
             "#0d0887"
            ],
            [
             0.1111111111111111,
             "#46039f"
            ],
            [
             0.2222222222222222,
             "#7201a8"
            ],
            [
             0.3333333333333333,
             "#9c179e"
            ],
            [
             0.4444444444444444,
             "#bd3786"
            ],
            [
             0.5555555555555556,
             "#d8576b"
            ],
            [
             0.6666666666666666,
             "#ed7953"
            ],
            [
             0.7777777777777778,
             "#fb9f3a"
            ],
            [
             0.8888888888888888,
             "#fdca26"
            ],
            [
             1,
             "#f0f921"
            ]
           ]
          },
          "colorway": [
           "#636efa",
           "#EF553B",
           "#00cc96",
           "#ab63fa",
           "#FFA15A",
           "#19d3f3",
           "#FF6692",
           "#B6E880",
           "#FF97FF",
           "#FECB52"
          ],
          "font": {
           "color": "#2a3f5f"
          },
          "geo": {
           "bgcolor": "white",
           "lakecolor": "white",
           "landcolor": "#E5ECF6",
           "showlakes": true,
           "showland": true,
           "subunitcolor": "white"
          },
          "hoverlabel": {
           "align": "left"
          },
          "hovermode": "closest",
          "mapbox": {
           "style": "light"
          },
          "paper_bgcolor": "white",
          "plot_bgcolor": "#E5ECF6",
          "polar": {
           "angularaxis": {
            "gridcolor": "white",
            "linecolor": "white",
            "ticks": ""
           },
           "bgcolor": "#E5ECF6",
           "radialaxis": {
            "gridcolor": "white",
            "linecolor": "white",
            "ticks": ""
           }
          },
          "scene": {
           "xaxis": {
            "backgroundcolor": "#E5ECF6",
            "gridcolor": "white",
            "gridwidth": 2,
            "linecolor": "white",
            "showbackground": true,
            "ticks": "",
            "zerolinecolor": "white"
           },
           "yaxis": {
            "backgroundcolor": "#E5ECF6",
            "gridcolor": "white",
            "gridwidth": 2,
            "linecolor": "white",
            "showbackground": true,
            "ticks": "",
            "zerolinecolor": "white"
           },
           "zaxis": {
            "backgroundcolor": "#E5ECF6",
            "gridcolor": "white",
            "gridwidth": 2,
            "linecolor": "white",
            "showbackground": true,
            "ticks": "",
            "zerolinecolor": "white"
           }
          },
          "shapedefaults": {
           "line": {
            "color": "#2a3f5f"
           }
          },
          "ternary": {
           "aaxis": {
            "gridcolor": "white",
            "linecolor": "white",
            "ticks": ""
           },
           "baxis": {
            "gridcolor": "white",
            "linecolor": "white",
            "ticks": ""
           },
           "bgcolor": "#E5ECF6",
           "caxis": {
            "gridcolor": "white",
            "linecolor": "white",
            "ticks": ""
           }
          },
          "title": {
           "x": 0.05
          },
          "xaxis": {
           "automargin": true,
           "gridcolor": "white",
           "linecolor": "white",
           "ticks": "",
           "title": {
            "standoff": 15
           },
           "zerolinecolor": "white",
           "zerolinewidth": 2
          },
          "yaxis": {
           "automargin": true,
           "gridcolor": "white",
           "linecolor": "white",
           "ticks": "",
           "title": {
            "standoff": 15
           },
           "zerolinecolor": "white",
           "zerolinewidth": 2
          }
         }
        },
        "title": {
         "font": {
          "size": 24
         },
         "text": "Distribución Porcentual de Países por Cluster",
         "x": 0.5
        },
        "width": 1000
       }
      }
     },
     "metadata": {},
     "output_type": "display_data"
    }
   ],
   "source": [
    "# Crear las visualizaciones\n",
    "fig_treemap, fig_bars, fig_pie = crear_visualizacion_clusters()\n",
    "\n",
    "# En un notebook de Jupyter\n",
    "fig_treemap.show()\n",
    "fig_bars.show()\n",
    "fig_pie.show()\n",
    "\n",
    "# O guardar como archivos HTML interactivos\n",
    "fig_treemap.write_html(\"clusters_treemap.html\")\n",
    "fig_bars.write_html(\"clusters_bars.html\")\n",
    "fig_pie.write_html(\"clusters_pie.html\")"
   ]
  }
 ],
 "metadata": {
  "kernelspec": {
   "display_name": "tftimeseries",
   "language": "python",
   "name": "python3"
  },
  "language_info": {
   "codemirror_mode": {
    "name": "ipython",
    "version": 3
   },
   "file_extension": ".py",
   "mimetype": "text/x-python",
   "name": "python",
   "nbconvert_exporter": "python",
   "pygments_lexer": "ipython3",
   "version": "3.9.7"
  }
 },
 "nbformat": 4,
 "nbformat_minor": 2
}
